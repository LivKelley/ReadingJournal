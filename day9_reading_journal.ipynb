{
 "cells": [
  {
   "cell_type": "markdown",
   "metadata": {},
   "source": [
    "# Day 9 Reading Journal\n",
    "\n",
    "This journal includes several required exercises, but it is meant to encourage active reading more generally.  You should use the journal to take detailed notes, catalog questions, and explore the content from Think Python deeply.\n",
    "\n",
    "Reading: Think Python Chapter 13, 15\n",
    "\n",
    "**Due: Monday, February 22 at 12 noon**\n",
    "\n"
   ]
  },
  {
   "cell_type": "markdown",
   "metadata": {},
   "source": [
    "## [Chapter 13](http://www.greenteapress.com/thinkpython/html/thinkpython014.html)\n",
    "\n",
    "The content in this chapter could be very helpful for the text mining mini project. The reading and all exercises within are optional.\n",
    "\n",
    " - Section 13.3-4 gives a good example of some techniques for working with files, processing text, and doing some simple analysis. \n",
    " - Section 13.8 and the Markov generation in Exercise 8 can be a lot of fun. \n",
    " - Now that you know a wide range of different data structures, Section 13.9 starts to give some guidance for choosing between them\n",
    " - Section 13.10 explains Allen's \"4 r's\" of debugging strategy\n",
    " \n",
    " 13.2 Random Numbers \n",
    " \n",
    " -Deterministic - Most computer programs generate the same outputs every time. \n",
    " -Pseudorandom numbers - Making a program truly nondeterministic is hard, but there are some you can make easily that at least seem random. \n",
    "   -These numbers are not actually random. \n",
    " -Random - provides functions that generate pseudorandom numbers. \n",
    "     -Randomly generates a float between 0 and 1 \n",
    " -Also provides functions to generate random values from continous distributions including Gaussian, exponential, gamma, and a few more. \n",
    " -13.3\n",
    " -The example pasted below is an example of a function that builds histograms. \n",
    " -process_file loops through the lines of the file, passing them in one at a time to process_line.\n",
    " -Process_line - uses the string method replace to replace hyphens with spaces before using split to break the line into a line of strings. \n",
    " 13.4 Most common words\n",
    " -Example of loop that prints the 10 most common words below. \n",
    " 13.5 Optional Parameters\n",
    " -A function that can have more than one input. \n",
    " -Override - when a function takes control of ourput\n",
    " 13.6 Dictionary subtraction\n",
    "     -subtract takes dictionaries d1 and d2 and returns a new dictionary that contains all the keys from d1 that are not in d2 and returns a new dictionary containing the keys in d1 not in d2 \n",
    "13.7 Random words \n",
    " -To choose a random word from the histogram, build a list with multiple copies of the word, then choose the list. \n",
    " -extend method is what this is called\n",
    " -An use key to get a list of the words in the book. \n",
    " -2. BUild a list that contains the cumulative sum of the word frequencies. The last item in this list is the total number of words in the book, n. \n",
    " -3. Choose a random number from 1 to n. Use a bisection search to find the index where the random number would be inserted into the cumulative sum. \n",
    " -4. Use the index to find the corresponding word in the word list. \n",
    " \n",
    " 13.8 Markov Analysis. \n",
    " -You won't get a sentence if you search for most common words. \n",
    " -Markov analysis is a mapping from each prefix (like \"half the\" and \"the bee\" to all possible suffixes (like \"has\" and \"is\")\n",
    " -You can generate a random text by choosing a new suffix from possible prefixes and repeating. \n",
    "\n",
    "13.9 Data Structures \n",
    "-For representing the mapping from each prefix to the collection of possible suffixes\n",
    "-The most obvious prefixes are strings, lists of strings, or tuples of strings. \n",
    "-For suffixes lists, and histograms. \n",
    "-For prefixes you have to be able to remove words from the beginning and add to the end. \n",
    "-With tuples, you can't append or remove. You can use an additional operator to form a new tuple. \n",
    "-the function shift given on page 130 forms a new tuple. \n",
    "-For suffix collection, add a new suffix, and choose a random one. \n",
    "-Choosing from a histogram is hard to do efficiently. \n",
    "-Runtime is also worth considering. \n",
    "-Storage space is also worth considering. \n",
    "-Benchmarking - implement both functions and see which is quicker. \n",
    "-You can also choose the data structure easiest to empliment, and then see if it's fast enough and work from there. \n",
    "\n",
    "13.10 Debugging\n",
    "-Read - examine your code, read it back to yourself, and check if it says what you meant it to. \n",
    "-Run - Experiment by making changes and running different versions. \n",
    "-Ruminating - take some time to think. \n",
    "-Retreat - back off and undo recent changes. \n"
   ]
  },
  {
   "cell_type": "markdown",
   "metadata": {},
   "source": [
    "## [Chapter 15](http://www.greenteapress.com/thinkpython/html/thinkpython016.html)\n",
    "\n",
    "This chapter has very few (and short) exercises, and is more focused on starting to think about classes and objects. If you haven't seen user defined types like classes before, you should read closely and try out some examples on your own. For example, you can write a [Python Tutor example like this one](http://pythontutor.com/visualize.html#code=%23+Example+for+visualizing+object+diagrams+by+stepping+through+the+code%0A%0Aclass+Point(object%29%3A%0A++++%22%22%22Represents+a+point+in+2-D+space.%22%22%22%0A++++pass%0A%0Aclass+Rectangle(object%29%3A%0A++++%22%22%22Represents+a+rectangle.+%0A%0A++++attributes%3A+width,+height,+corner.%0A++++%22%22%22%0A++++pass%0A%0A%0A%23+Create+a+point+to+serve+as+origin+for+our+rectangles%0Ap+%3D+Point(%29%0Ap.x+%3D+10%0Ap.y+%3D+15%0A%0A%23+Create+two+rectangles+with+different+size%0Ar1+%3D+Rectangle(%29%0Ar1.corner+%3D+p%0Ar1.width+%3D+100%0Ar1.height+%3D+100%0A%0Ar2+%3D+Rectangle(%29%0Ar2.corner+%3D+p%0Ar2.width+%3D+50%0Ar2.height+%3D+200%0A%0A%23+Change+the+width+of+r2+-+what+(if+any%29+is+the+effect+on+r1+and+why%3F%0Ar2.width+%3D+150%0Aprint+r1.width%0A%0A%23+Change+the+corner+position+of+r1+-+what+(if+any%29+is+the+effect+on+r2+and+why%3F%0Ar1.corner.x+%3D+20%0Aprint+r2.corner.x&mode=display&origin=opt-frontend.js&cumulative=false&heapPrimitives=false&textReferences=false&py=2&rawInputLstJSON=%5B%5D&curInstr=0) to explore object diagrams and aliasing.\n",
    "\n",
    "**Note**: The sequence of operations we use in this chapter to create class instances and assign their attributes, e.g. \n",
    "\n",
    "```\n",
    "box = Rectangle()\n",
    "box.width = 100.0\n",
    "box.height = 200.0\n",
    "box.corner = Point()\n",
    "box.corner.x = 0.0\n",
    "box.corner.y = 0.0\n",
    "```\n",
    "\n",
    "is somewhat clumsy and error prone. Things will get better in the next couple chapters; feel free to look ahead if you'd like a sneak preview.\n",
    "\n",
    "Notes \n",
    "\n",
    "15.1 User-defined types \n",
    "-Point - a type that represents a point in two-dimensional space. \n",
    "-In mathematical notation we do (x,y) \n",
    "-In python you can store coordinates separately in x and y variables, store them as elements of a list or tuple, or create a new type to represent points as objects\n",
    "-Creating a type is more complicated. \n",
    "-Class - a user defined type. \n",
    "-You can describe variables and functions as class definitions.\n",
    "-A header indicates that the new class is a point. (kind of object.) \n",
    "-Instantiation - creating a new function. \n",
    "-Instance - an object of this class. \n",
    "\n",
    "15.2 Attributes\n",
    "-You can assign values to an instance using dot notation. \n",
    "- blank.x = 3.0 \n",
    "- blank.y = 4.0 \n",
    "-Attributes - Assigning values to named elements of an object. \n",
    "-Is a noun, not a verb. \n",
    "-Object diagram - a state diagram that shows an object and its attributes. \n",
    "-Blank refers to a Point object, which has two attributes (each floating point numbers.) \n",
    "\n",
    "15.3 Rectangles \n",
    "-If you're trying to define a rectangle you can either specify one corner, witdth and height or specify opposing corners. \n",
    "box.corner = Point() \n",
    "box.corner.x = 0.0 (go to attribute corner and select x) \n",
    "box.corner.y = 0.0 (go to attribute corner and select y) \n",
    "-An object that is an attribute of another object is embedded. \n",
    "\n",
    "15.4 Instances as return values\n",
    "   -find_center takes a Rectangle as an argument and returns a point. \n",
    "   def find_center(rect): \n",
    "       p = Point() \n",
    "       p.x = rect.corner.x + react.width/2.0 \n",
    "       p.y = rect.corner.y = rect.height/2.0 \n",
    "   This assigns a point to the center \n",
    "       - center = find_center(box )\n",
    "  \n",
    "15.5 Objects are mutable \n",
    "    -You can change values of width and height by reassigning them (box.width + 50) \n",
    "    -You can also modify objects (also by reassigning things.) \n",
    "\n",
    "15.6 Copying \n",
    "    -An alternative to aliasing. \n",
    "    -the module copy can duplicate any object (import it and then do copy.copy(point) \n",
    "    - == yields true because these points contain the same data. (Sometimes is the same behavior as the is operator.) \n",
    "    -Shallow copy - it copies the object and any references it contains, but not embedded objects. \n",
    "    -Often this is not what you want. \n",
    "    -deep copy includes the embedded things. \n",
    "\n",
    "15.7 Debugging \n",
    "    -AttributeError - when you try to access an attribute that DNE \n",
    "    -If you're not sure what type an object is, ask type(P) \n",
    "    -Use hasattr if you're not sure an object has a particular attribute. "
   ]
  },
  {
   "cell_type": "markdown",
   "metadata": {},
   "source": [
    "**Quick check:** In about one sentence using your own words, what is a class?"
   ]
  },
  {
   "cell_type": "markdown",
   "metadata": {},
   "source": [
    "A class is an object that the user of the program will define (like raw input, but for an object.)  "
   ]
  },
  {
   "cell_type": "markdown",
   "metadata": {
    "is_question": true,
    "problem": "Exercise 15.1"
   },
   "source": [
    "### Exercise 1  \n",
    "\n",
    "Write a function called `distance_between_points` that takes two `Points` as arguments and returns the distance between them."
   ]
  },
  {
   "cell_type": "code",
   "execution_count": 8,
   "metadata": {
    "collapsed": false
   },
   "outputs": [
    {
     "data": {
      "text/plain": [
       "2.8284271247461903"
      ]
     },
     "execution_count": 8,
     "metadata": {},
     "output_type": "execute_result"
    }
   ],
   "source": [
    "# First version without objects\n",
    "\n",
    "class Point(object): \n",
    "    \"\"\"Represents a point in 2D space.\"\"\"\n",
    "Point1 = Point() \n",
    "Point1.x = 3.0 \n",
    "Point1.y = 4.0 \n",
    "\n",
    "Point2 = Point()\n",
    "Point2.x = 5.0 \n",
    "Point2.y = 6.0 \n",
    "\n",
    "import math \n",
    "def distance_between_points(p1, p2): \n",
    "    return((p1.x - p2.x)**2 + (p1.y - p2.y)**2)**.5\n",
    "\n",
    "distance_between_points(Point1, Point2) "
   ]
  },
  {
   "cell_type": "code",
   "execution_count": 2,
   "metadata": {
    "collapsed": false,
    "solution": "Exercise 15.1"
   },
   "outputs": [
    {
     "name": "stdout",
     "output_type": "stream",
     "text": [
      "2.82842712475\n"
     ]
    }
   ],
   "source": [
    "# First version without objects\n",
    "\n",
    "import math \n",
    "def distance_between_points(pointup1, pointup2): \n",
    "    print ((pointup1[0]-pointup2[0])**2 + (pointup1[1]-pointup2[1])**2)**.5\n",
    "\n",
    "distance_between_points((3,4),(5,6))"
   ]
  },
  {
   "cell_type": "markdown",
   "metadata": {
    "is_question": true,
    "problem": "Exercise 15.2"
   },
   "source": [
    "### Exercise 2  \n",
    "\n",
    "Write a function named `move_rectangle` that takes a `Rectangle` and two numbers named `dx` and `dy`. It should change the location of the rectangle by adding `dx` to the `x` coordinate of `corner` and adding `dy` to the `y` coordinate of `corner`."
   ]
  },
  {
   "cell_type": "code",
   "execution_count": 17,
   "metadata": {
    "collapsed": false
   },
   "outputs": [
    {
     "name": "stdout",
     "output_type": "stream",
     "text": [
      "6\n",
      "9\n"
     ]
    }
   ],
   "source": [
    "#Second version with objects\n",
    "\n",
    "class Rectangle(object): \n",
    "    \"\"\"Rectange describes the width and height of a rectangle, and gives a point that describes\n",
    "    its location.\"\"\"\n",
    "    \n",
    "class Point(object): \n",
    "    \"\"\"Represents a point in 2D space.\"\"\"\n",
    "    \n",
    "box = Rectangle()\n",
    "box.width = 100.0\n",
    "box.height = 200.0\n",
    "box.corner = Point()\n",
    "box.corner.x = 1\n",
    "box.corner.y = 2 \n",
    "\n",
    "def move_rectangle(b, dx, dy):\n",
    "    b.corner.x += dx\n",
    "    b.corner.y += dy\n",
    "    \n",
    "move_rectangle(box, 5, 7)\n",
    "\n",
    "print box.corner.x\n",
    "print box.corner.y"
   ]
  },
  {
   "cell_type": "code",
   "execution_count": 6,
   "metadata": {
    "collapsed": false
   },
   "outputs": [
    {
     "name": "stdout",
     "output_type": "stream",
     "text": [
      "((11, 13), (7, 7), (12, 12), (8, 6))\n"
     ]
    }
   ],
   "source": [
    "def move_rectangle((Rectangle), dx, dy):\n",
    "    \n",
    "    lista = [] \n",
    "    for i in range (0,4):\n",
    "        lista.append((Rectangle[i] + dx, Rectangle[i+2] + dx)) \n",
    "        \n",
    "    listb = []    \n",
    "    for j in range(1,4):\n",
    "        listb.append((Rectangle[j] + dy, Rectangle[j+2] + dy)) \n",
    "        \n",
    "    print((lista[0], listb[0], lista[1], listb[1]))\n",
    "    \n",
    "move_rectangle((1,2,3,2,1,3,2,3), 10, 5) "
   ]
  },
  {
   "cell_type": "markdown",
   "metadata": {
    "is_question": true,
    "problem": "Exercise 15.3"
   },
   "source": [
    "### Exercise 3  \n",
    "\n",
    "Write a version of `move_rectangle` that creates and returns a new `Rectangle` instead of modifying the old one."
   ]
  },
  {
   "cell_type": "code",
   "execution_count": 33,
   "metadata": {
    "collapsed": false,
    "solution": "Exercise 15.3"
   },
   "outputs": [
    {
     "name": "stdout",
     "output_type": "stream",
     "text": [
      "initial box\n",
      "1\n",
      "2\n",
      "\n",
      "final box\n",
      "6\n",
      "9\n"
     ]
    }
   ],
   "source": [
    "#Second version with objects\n",
    "\n",
    "class Rectangle(object): \n",
    "    \"\"\"Rectange describes the width and height of a rectangle, and gives a point that describes\n",
    "    its location.\"\"\"\n",
    "\n",
    "class Point(object): \n",
    "    \"\"\"Represents a point in 2D space.\"\"\"\n",
    "    \n",
    "box = Rectangle()\n",
    "box.width = 100.0\n",
    "box.height = 200.0\n",
    "box.corner = Point()\n",
    "box.corner.x = 1\n",
    "box.corner.y = 2 \n",
    "\n",
    "def move_rectangle(b, dx, dy):\n",
    "    \n",
    "    box1 = Rectangle() \n",
    "    box1.width = b.width \n",
    "    box1.height = b.width \n",
    "    box1.corner = Point()\n",
    "    box1.corner.x = b.corner.x + dx\n",
    "    box1.corner.y = b.corner.y + dy\n",
    "    return box1\n",
    "    \n",
    "a= move_rectangle(box, 5, 7)\n",
    "\n",
    "print 'initial box'\n",
    "print box.corner.x\n",
    "print box.corner.y\n",
    "print '\\nfinal box'\n",
    "print a.corner.x\n",
    "print a.corner.y\n"
   ]
  },
  {
   "cell_type": "markdown",
   "metadata": {
    "is_question": true,
    "problem": "Time spent"
   },
   "source": [
    "## Quick poll\n",
    "About how long did you spend working on this Reading Journal?"
   ]
  },
  {
   "cell_type": "markdown",
   "metadata": {
    "poll_response": true,
    "solution": "Time spent"
   },
   "source": [
    " About 3.3 hours. "
   ]
  },
  {
   "cell_type": "markdown",
   "metadata": {
    "is_question": true,
    "problem": "Feedback"
   },
   "source": [
    "## Reading Journal feedback\n",
    "\n",
    "Have any comments on this Reading Journal? Feel free to leave them below and we'll read them when you submit your journal entry. This could include suggestions to improve the exercises, topics you'd like to see covered in class next time, or other feedback.\n",
    "\n",
    "If you have Python questions or run into problems while completing the reading, you should post them to Piazza instead so you can get a quick response before your journal is submitted."
   ]
  },
  {
   "cell_type": "markdown",
   "metadata": {
    "feedback_response": true,
    "solution": "Feedback"
   },
   "source": [
    " It wasn't clear at first what the difference between exercise 2 and exercise 3 was. (The wording was kind of funny for me.)\n",
    " \n",
    " If the reading journal had told me I had to use objects I wouldn't have wasted time making other functions that didn't. \n",
    " "
   ]
  }
 ],
 "metadata": {
  "celltoolbar": "Edit Metadata",
  "kernelspec": {
   "display_name": "Python 2",
   "language": "python",
   "name": "python2"
  },
  "language_info": {
   "codemirror_mode": {
    "name": "ipython",
    "version": 2
   },
   "file_extension": ".py",
   "mimetype": "text/x-python",
   "name": "python",
   "nbconvert_exporter": "python",
   "pygments_lexer": "ipython2",
   "version": "2.7.6"
  }
 },
 "nbformat": 4,
 "nbformat_minor": 0
}
