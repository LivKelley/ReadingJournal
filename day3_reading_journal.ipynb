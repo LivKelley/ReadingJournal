{
 "cells": [
  {
   "cell_type": "markdown",
   "metadata": {},
   "source": [
    "# Day 3 Reading Journal\n",
    "\n",
    "This journal includes several required exercises, but it is meant to encourage active reading more generally.  You should use the journal to take detailed notes, catalog questions, and explore the content from Think Python deeply.\n",
    "\n",
    "Reading: Think Python Chapter 8, 10.1-10.6\n",
    "\n",
    "**Due: Monday, February 1 at 12 noon**\n",
    "\n"
   ]
  },
  {
   "cell_type": "markdown",
   "metadata": {},
   "source": [
    "## [Chapter 8](http://www.greenteapress.com/thinkpython/html/thinkpython009.html)\n",
    "\n",
    "Note: the exercise numbers below match up with the reading for ease of cross referencing.\n",
    "\n",
    "8.1 A string is a sequence\n",
    "-Sequence- A string is a sequence. \n",
    "-You can find a specific letter in a string \n",
    ">>> fruit = 'banana' \n",
    ">>> letter = fruit [1] \n",
    "\n",
    "Index - What's in expression brackets. (Offset from the beginning of a string.) \n",
    " -Prints last letter in the word. \n",
    "   -b is the 0th word\n",
    "   \n",
    "8.2 len \n",
    " -A built in function that returns the number of characters in a string. \n",
    " length = len(fruit) would give the length of the word banana. \n",
    " last = fruit[length -1] would give me the last character in banana (a) \n",
    " \n",
    "8.3 Tranversal with a for loop \n",
    "  -Traversal - processing a string a letter at a time. \n",
    "  -Can use a while statement or for loop for this. \n",
    "  -Concatination and for loops can be used together to generate an abecedarian series. \n",
    "  -This can add suffixes. \n",
    "  \n",
    "8.4 String Slices\n",
    "  -Slice - A segment of a string. \n",
    "  -The operator [n:m] returns the part of a string from the \"n-eth\" character to the \"m-eth\" character (including the first, excluding the last.) \n",
    "  -If you omit the first index, the slice starts at the beginning of the string.\n",
    "  -If you omit the last index, the slice goes to the end of the string. \n",
    "  \n",
    "8.5 Strings are immutable \n",
    "-object - the same thing as value\n",
    "-item - one of the values in a sequence. \n",
    "-immutable - you can't change an existing string. \n",
    "\n",
    "8.6 Searching\n",
    " -If the character does not belong in a string, the program exists the loop normally and returns -1.  \n",
    " -Search - traversing a sequence and returning when we find what we are looking for. \n",
    " \n",
    "8.7 Looping and counting\n",
    " -Counter - a program that demonstrates another pattern of computation. \n",
    "  -The variable starts as zero, and counts the number of \"a\"s or other letters in a script. \n",
    "\n",
    "8.8 String Methods \n",
    " -Method - is similar to function - it takes argument and returns a value -- but the syntax is different.  \n",
    " -word.upper() returns capitalized letters. \n",
    " -Invocation - this method. \n",
    " -word.find finds a letter.\n",
    "\n",
    "8.9 The in operator\n",
    " -The in operator takes two strings and returns \"True\" if the first appears as a substring in the second.\n",
    " -You can compare words with in_both\n",
    "\n",
    "8.10 String comparison\n",
    "  -Relational operators work on strings \n",
    "  -Python does not handle uppercase and lowercase letters the same way people do. \n",
    "\n",
    "8.11 Debugging \n",
    "   -It is sometimes hard to get the beginning and end of the traversal right. \n",
    "   -May result in index errors. \n",
    "   -First print values of indices to find errors. \n",
    "\n"
   ]
  },
  {
   "cell_type": "markdown",
   "metadata": {},
   "source": [
    "### Exercise 1  \n",
    "\n",
    "Write a function that takes a string as an argument and displays the letters backward, one per line."
   ]
  },
  {
   "cell_type": "code",
   "execution_count": 63,
   "metadata": {
    "collapsed": false
   },
   "outputs": [
    {
     "name": "stdout",
     "output_type": "stream",
     "text": [
      "a\n",
      "n\n",
      "a\n",
      "n\n",
      "a\n",
      "b\n"
     ]
    }
   ],
   "source": [
    "#Answer and Result. \n",
    "def backwords(a): \n",
    "    index = len(a)-1\n",
    "    while index > -1:\n",
    "        letter = a[index]\n",
    "        print letter\n",
    "        index = index - 1\n",
    "    \n",
    "backwords('banana')\n",
    "#With help from Serena, the while condition has been reset to prevent repetition.\n",
    "#Haha! This worked! This is my final answer. "
   ]
  },
  {
   "cell_type": "code",
   "execution_count": 33,
   "metadata": {
    "collapsed": false
   },
   "outputs": [
    {
     "ename": "IndexError",
     "evalue": "string index out of range",
     "output_type": "error",
     "traceback": [
      "\u001b[1;31m---------------------------------------------------------------------------\u001b[0m",
      "\u001b[1;31mIndexError\u001b[0m                                Traceback (most recent call last)",
      "\u001b[1;32m<ipython-input-33-7493aa9bf9d1>\u001b[0m in \u001b[0;36m<module>\u001b[1;34m()\u001b[0m\n\u001b[0;32m      7\u001b[0m \u001b[1;33m\u001b[0m\u001b[0m\n\u001b[0;32m      8\u001b[0m \u001b[1;33m\u001b[0m\u001b[0m\n\u001b[1;32m----> 9\u001b[1;33m \u001b[0mbackwords\u001b[0m\u001b[1;33m(\u001b[0m\u001b[1;34m'banana'\u001b[0m\u001b[1;33m)\u001b[0m\u001b[1;33m\u001b[0m\u001b[0m\n\u001b[0m",
      "\u001b[1;32m<ipython-input-33-7493aa9bf9d1>\u001b[0m in \u001b[0;36mbackwords\u001b[1;34m(x)\u001b[0m\n\u001b[0;32m      2\u001b[0m     \u001b[0mindex\u001b[0m \u001b[1;33m=\u001b[0m \u001b[0mlen\u001b[0m\u001b[1;33m(\u001b[0m\u001b[0mx\u001b[0m\u001b[1;33m)\u001b[0m\u001b[1;33m\u001b[0m\u001b[0m\n\u001b[0;32m      3\u001b[0m     \u001b[1;32mwhile\u001b[0m \u001b[0mindex\u001b[0m \u001b[1;33m<=\u001b[0m \u001b[0mlen\u001b[0m\u001b[1;33m(\u001b[0m\u001b[0mx\u001b[0m\u001b[1;33m)\u001b[0m\u001b[1;33m:\u001b[0m\u001b[1;33m\u001b[0m\u001b[0m\n\u001b[1;32m----> 4\u001b[1;33m         \u001b[0mletter\u001b[0m \u001b[1;33m=\u001b[0m \u001b[0mx\u001b[0m\u001b[1;33m[\u001b[0m\u001b[0mindex\u001b[0m\u001b[1;33m]\u001b[0m\u001b[1;33m\u001b[0m\u001b[0m\n\u001b[0m\u001b[0;32m      5\u001b[0m         \u001b[1;32mprint\u001b[0m \u001b[0mletter\u001b[0m\u001b[1;33m\u001b[0m\u001b[0m\n\u001b[0;32m      6\u001b[0m         \u001b[0mindex\u001b[0m \u001b[1;33m=\u001b[0m \u001b[0mindex\u001b[0m \u001b[1;33m-\u001b[0m \u001b[1;36m1\u001b[0m\u001b[1;33m\u001b[0m\u001b[0m\n",
      "\u001b[1;31mIndexError\u001b[0m: string index out of range"
     ]
    }
   ],
   "source": [
    "#Iteration 1\n",
    "def backwords(x): \n",
    "    index = len(x) \n",
    "    while index <= len(x):\n",
    "        letter = x[index]\n",
    "        print letter\n",
    "        index = index - 1\n",
    "        \n",
    "    \n",
    "backwords('banana')\n",
    "\n",
    "#In this first stage I attempted to modify the function from the book directly."
   ]
  },
  {
   "cell_type": "code",
   "execution_count": 62,
   "metadata": {
    "collapsed": false
   },
   "outputs": [],
   "source": [
    "#Iteration 2\n",
    "def backwords(a): \n",
    "    index = len(a)-1\n",
    "    while index > len(a)-1:\n",
    "        letter = a[index]\n",
    "        print letter\n",
    "        index = index - 1\n",
    "    \n",
    "backwords('banana')\n",
    "#This seems to work, other than the fact that it prints backwards twice instead of just once. "
   ]
  },
  {
   "cell_type": "markdown",
   "metadata": {},
   "source": [
    "**Challenge (optional):** Write a function that translates words into [Pig Latin](https://en.wikipedia.org/wiki/Pig_Latin). \n",
    "\n",
    "**Additional challenge**: Write a function that translates back into English."
   ]
  },
  {
   "cell_type": "code",
   "execution_count": null,
   "metadata": {
    "collapsed": true
   },
   "outputs": [],
   "source": [
    "def pig_latin(word):\n",
    "    \"\"\"\n",
    "    Return given 'word' translated into Pig Latin\n",
    "    \n",
    "    >>> pig_latin(\"software\")\n",
    "    'oftwaresay'\n",
    "    \"\"\"\n",
    "    pass #TODO: Implement me\n",
    "\n",
    "# If you'd like to actually run the doctests here, you can uncomment the lines below.\n",
    "# We use this slightly more complex method to test only the pig_latin function, without running tests on any other functions that may be in this notebook.\n",
    "#import doctest\n",
    "#doctest.run_docstring_examples(pig_latin, globals())"
   ]
  },
  {
   "cell_type": "markdown",
   "metadata": {},
   "source": [
    "### Exercise 5\n",
    "Encapsulate the character counting code in a fruitful function named `count` that accepts the string and the letter as arguments and returns the count."
   ]
  },
  {
   "cell_type": "code",
   "execution_count": 73,
   "metadata": {
    "collapsed": false
   },
   "outputs": [
    {
     "name": "stdout",
     "output_type": "stream",
     "text": [
      "0\n",
      "1\n",
      "1\n",
      "2\n",
      "2\n",
      "3\n"
     ]
    }
   ],
   "source": [
    "def count(word, input_letter): #Relearning counting! Let's go! \n",
    "    count = 0 \n",
    "    for letter in word: \n",
    "        if letter == input_letter: #I feel iffy about these variables, but it might work anyhow...\n",
    "            count = count + 1 \n",
    "        print count \n",
    "\n",
    "count('banana', 'a')"
   ]
  },
  {
   "cell_type": "markdown",
   "metadata": {},
   "source": [
    "### Exercise 8\n",
    "Skim the documentation of the Python [string methods](http://docs.python.org/2/library/stdtypes.html#string-methods). Experiment with some of them to make sure you understand how they work. strip, replace, and upper/lower are particularly useful."
   ]
  },
  {
   "cell_type": "code",
   "execution_count": 107,
   "metadata": {
    "collapsed": false
   },
   "outputs": [
    {
     "name": "stdout",
     "output_type": "stream",
     "text": [
      "Banana\n"
     ]
    }
   ],
   "source": [
    "#Capitalization string \n",
    "def cap (word):\n",
    "        print str.capitalize(word)\n",
    "cap('banana')\n",
    "       \n",
    "#The first letter is capitalized here. "
   ]
  },
  {
   "cell_type": "code",
   "execution_count": 106,
   "metadata": {
    "collapsed": false
   },
   "outputs": [
    {
     "name": "stdout",
     "output_type": "stream",
     "text": [
      "Miami\n"
     ]
    }
   ],
   "source": [
    "def characters (word):\n",
    "        print str.lstrip(word[1:])\n",
    "\n",
    "characters('                 Miami')\n",
    "\n",
    "#This function helps remove white space."
   ]
  },
  {
   "cell_type": "code",
   "execution_count": 105,
   "metadata": {
    "collapsed": false
   },
   "outputs": [
    {
     "name": "stdout",
     "output_type": "stream",
     "text": [
      "I write the book, I write it a long time. Books are hard to write. I get more exhausted than when I read them.\n"
     ]
    }
   ],
   "source": [
    "def repl(string): \n",
    "    new_string = str.replace(string, 'read', 'write', 3) \n",
    "    print new_string \n",
    "    \n",
    "repl('I read the book, I read it a long time. Books are hard to read. I get more exhausted than when I read them.')\n",
    "    \n",
    "# I found and replaced the first three reads in this string. This sentence is annoying and purely for demonstration."
   ]
  },
  {
   "cell_type": "code",
   "execution_count": 2,
   "metadata": {
    "collapsed": false
   },
   "outputs": [
    {
     "name": "stdout",
     "output_type": "stream",
     "text": [
      "HELLO\n"
     ]
    }
   ],
   "source": [
    "def capitals(string): \n",
    "    new_string = str.upper(string)\n",
    "    print new_string \n",
    "\n",
    "capitals('hello')\n"
   ]
  },
  {
   "cell_type": "code",
   "execution_count": 3,
   "metadata": {
    "collapsed": false
   },
   "outputs": [
    {
     "name": "stdout",
     "output_type": "stream",
     "text": [
      "hello\n"
     ]
    }
   ],
   "source": [
    "def uncapitals(string): \n",
    "    new_string = str.lower(string)\n",
    "    print new_string \n",
    "\n",
    "uncapitals('HELLO')"
   ]
  },
  {
   "cell_type": "markdown",
   "metadata": {},
   "source": [
    "### Exercise 11  \n",
    "\n",
    "The following functions are all intended to check whether a string contains any lowercase letters, but at least some of them are wrong. For each function, describe what the function actually does (assuming that the parameter is a string)."
   ]
  },
  {
   "cell_type": "code",
   "execution_count": 129,
   "metadata": {
    "collapsed": false
   },
   "outputs": [
    {
     "data": {
      "text/plain": [
       "False"
      ]
     },
     "execution_count": 129,
     "metadata": {},
     "output_type": "execute_result"
    }
   ],
   "source": [
    "def any_lowercase1(s):\n",
    "    for c in s:\n",
    "        if c.islower():\n",
    "            return True\n",
    "        else:\n",
    "            return False\n",
    "        \n",
    "any_lowercase1('Hello')\n",
    "\n",
    "#this function uses c.islower to determine whether the presence of lower and uppercase letters is true or false.\n",
    "#this function doesn't work in a situation where there is both upper and lower letters because mixed cases are included in the \"False\" condition."
   ]
  },
  {
   "cell_type": "code",
   "execution_count": 130,
   "metadata": {
    "collapsed": false
   },
   "outputs": [
    {
     "data": {
      "text/plain": [
       "'True'"
      ]
     },
     "execution_count": 130,
     "metadata": {},
     "output_type": "execute_result"
    }
   ],
   "source": [
    "def any_lowercase2(s):\n",
    "    for c in s:\n",
    "        if 'c'.islower():\n",
    "            return 'True'\n",
    "        else:\n",
    "            return 'False'\n",
    "        \n",
    "any_lowercase2('HELLO')\n",
    "#While this is supposed to do the same as the one above, but making the second c a script is incorrect syntax.\n",
    "#The result is that the function reads true for all cases."
   ]
  },
  {
   "cell_type": "code",
   "execution_count": 127,
   "metadata": {
    "collapsed": false
   },
   "outputs": [
    {
     "data": {
      "text/plain": [
       "True"
      ]
     },
     "execution_count": 127,
     "metadata": {},
     "output_type": "execute_result"
    }
   ],
   "source": [
    "def any_lowercase3(s):\n",
    "    for c in s:\n",
    "        flag = c.islower()\n",
    "    return flag\n",
    "\n",
    "any_lowercase3('Hello')\n",
    "#This function uses flag to show whether or not there are lower case letters. "
   ]
  },
  {
   "cell_type": "markdown",
   "metadata": {},
   "source": [
    " "
   ]
  },
  {
   "cell_type": "code",
   "execution_count": 126,
   "metadata": {
    "collapsed": false
   },
   "outputs": [
    {
     "data": {
      "text/plain": [
       "True"
      ]
     },
     "execution_count": 126,
     "metadata": {},
     "output_type": "execute_result"
    }
   ],
   "source": [
    "def any_lowercase4(s):\n",
    "    flag = False\n",
    "    for c in s:\n",
    "        flag = flag or c.islower()\n",
    "    return flag\n",
    "\n",
    "any_lowercase4('Hello')\n",
    "#This uses flag or c.islower() to define whether or not there are upper/lowercase letters."
   ]
  },
  {
   "cell_type": "markdown",
   "metadata": {},
   "source": [
    " "
   ]
  },
  {
   "cell_type": "code",
   "execution_count": 125,
   "metadata": {
    "collapsed": false
   },
   "outputs": [
    {
     "data": {
      "text/plain": [
       "False"
      ]
     },
     "execution_count": 125,
     "metadata": {},
     "output_type": "execute_result"
    }
   ],
   "source": [
    "def any_lowercase5(s):\n",
    "    for c in s:\n",
    "        if not c.islower():\n",
    "            return False\n",
    "    return True\n",
    "\n",
    "any_lowercase5('Hello')\n",
    "#This case also does not return whether a mixed case has loweercase because the way it is written says anything but an all lowercase situation will return \"False.\""
   ]
  },
  {
   "cell_type": "markdown",
   "metadata": {},
   "source": [
    " "
   ]
  },
  {
   "cell_type": "markdown",
   "metadata": {},
   "source": [
    "## [Chapter 10.1 - 10.6](http://www.greenteapress.com/thinkpython/html/thinkpython011.html)\n",
    "\n",
    "You may want to review [state diagrams in Chapter 2](http://www.greenteapress.com/thinkpython/html/thinkpython003.html#toc13).\n",
    "\n",
    "10.1 A list is a sequence\n",
    "  -A list is a sequence of values. \n",
    "  -Elements - the values in a list are called elements or items. \n",
    "  -To create a new list, enclose it in brackets. \n",
    "  -Nested - a list within another list (also in brackets) \n",
    "  -Empty list - a list with no elements. (Empty brackets) \n",
    "  \n",
    "10.2 Lists are mutable\n",
    "  -Mapping - each index \"maps to\" one of the elements. \n",
    "  -You get an IndexError if you try to read or write an element that does not exist.\n",
    "  -the in operator also works on lists. \n",
    "  \n",
    "10.3 Traversing a list\n",
    "  -The most common way to traverse elements of a list is the for loop.\n",
    "  -The syntax is the same for strings. \n",
    "  -A nested list still counts as a single element.\n",
    "  \n",
    "10.4 List Operations \n",
    "\n",
    "  -The + operater concatenates lists. \n",
    "  -The * repeats a list a given number of times. \n",
    "\n",
    "10.5 List operations \n",
    "  \n",
    "  -The slice operator works on lists. \n",
    "  -Ommitting the first index allows the slice to start at the beginnign. Ommitting the second allows it to go to the end\n",
    "\n",
    "10.6 - List Methods\n",
    "  -Append adds a new element to lists. \n",
    "  -extend takes a list as an argument and appends all of the elements.\n",
    "  -sort arranges the elements of the list from low to high\n",
    "  -List methods apply (omitting numbers.)\n",
    "  \n",
    " \n",
    "  "
   ]
  },
  {
   "cell_type": "markdown",
   "metadata": {},
   "source": [
    "**Quick check:** What type of items can be placed in a list?\n",
    "\n",
    "Numbers, other lists, and scripts. ***"
   ]
  },
  {
   "cell_type": "markdown",
   "metadata": {},
   "source": [
    " "
   ]
  },
  {
   "cell_type": "markdown",
   "metadata": {},
   "source": [
    "**Quick check:** Give at least one similarity and one difference between lists and strings.\n",
    "\n",
    "A similarity between lists and strings is that they can include words and letters. Another is that they can include commas. \n",
    "\n",
    "A difference between lists and strings is that strings can include other functioning lists and that lists can include strings (while the opposite is not true.) "
   ]
  },
  {
   "cell_type": "markdown",
   "metadata": {},
   "source": [
    " "
   ]
  },
  {
   "cell_type": "markdown",
   "metadata": {},
   "source": [
    "### Exercise\n",
    "\n",
    "Write a function `average` that takes a list of numbers and returns their arithmetic mean."
   ]
  },
  {
   "cell_type": "code",
   "execution_count": 7,
   "metadata": {
    "collapsed": false
   },
   "outputs": [
    {
     "name": "stdout",
     "output_type": "stream",
     "text": [
      "2.5\n"
     ]
    }
   ],
   "source": [
    "#Answer\n",
    "def avr (a):\n",
    "    print sum(a)/float(len(a))\n",
    "\n",
    "a = [1., 2., 3., 4.]\n",
    "avr(a)\n",
    "\n",
    "#This is a far simpler approach I found later on. \n",
    "#After I made it I had to convert everything into floats to make sure the result was accurate.\n"
   ]
  },
  {
   "cell_type": "code",
   "execution_count": 8,
   "metadata": {
    "collapsed": false
   },
   "outputs": [
    {
     "name": "stdout",
     "output_type": "stream",
     "text": [
      "1\n",
      "3\n",
      "6\n",
      "10\n"
     ]
    }
   ],
   "source": [
    "#Iteration 1 \n",
    "def avr (a):\n",
    "    total = 0 \n",
    "    for x in a: \n",
    "        total += x\n",
    "        print total\n",
    "\n",
    "a =[1, 2, 3, 4]\n",
    "avr(a)\n",
    "\n",
    "#First I tried an approach I found later in the book that was expanded.\n",
    "#T. "
   ]
  },
  {
   "cell_type": "markdown",
   "metadata": {},
   "source": [
    "### Exercise\n",
    "You own a restaurant, and you need to keep up with the latest food fads or risk losing your fickle customers. You decide to write a Python function that adds the hot new ingredient _du jour_ to each of your regular menu items and returns the trendy new menu."
   ]
  },
  {
   "cell_type": "code",
   "execution_count": 156,
   "metadata": {
    "collapsed": false
   },
   "outputs": [
    {
     "name": "stdout",
     "output_type": "stream",
     "text": [
      "burger with kale\n",
      "salad with kale\n",
      "ice cream with kale\n"
     ]
    }
   ],
   "source": [
    "def add_ingredient(menu, ingredient):\n",
    "    \"\"\"\n",
    "    Given a list of string 'menu' items and a trendy 'ingredient' string of the day,\n",
    "    return a new menu list of strings with the ingredient added to each.\n",
    "    \n",
    "    >>> add_ingredient([\"burger\", \"salad\", \"ice cream\"], \"kale\")\n",
    "    ['burger with kale', 'salad with kale', 'ice cream with kale']\n",
    "    \n",
    "    \"\"\"\n",
    "    pass    \n",
    "\n",
    "    for i in menu: \n",
    "        print i + \" with\" + ' '+ ingredient \n",
    " \n",
    "ingredient = 'kale' \n",
    "menu = ['burger', 'salad', 'ice cream']\n",
    "add_ingredient(menu, ingredient)\n",
    "\n",
    "\n",
    "# Running doctests in jupyter notebook:\n",
    "# If you'd like to actually run the doctests here, you can uncomment the lines below.\n",
    "# We use this slightly more complex method to test only the add_ingredient function,\n",
    "# without running tests on any other functions that may be in this notebook.\n",
    "\n",
    "#import doctest\n",
    "#doctest.run_docstring_examples(add_ingredient, globals())"
   ]
  },
  {
   "cell_type": "markdown",
   "metadata": {},
   "source": [
    "## Reading Journal feedback\n",
    "\n",
    "Have any comments on this Reading Journal? Feel free to leave them below and we'll read them when you submit your journal entry. This could include suggestions to improve the exercises, topics you'd like to see covered in class next time, or other feedback.\n",
    "\n",
    "If you have Python questions or run into problems while completing the reading, you should post them to Piazza instead so you can get a quick response before your journal is submitted.\n",
    "\n",
    "I found that several of the things that helped me write these functions were not in the designated chaters.... "
   ]
  },
  {
   "cell_type": "markdown",
   "metadata": {},
   "source": [
    " "
   ]
  }
 ],
 "metadata": {
  "kernelspec": {
   "display_name": "Python 2",
   "language": "python",
   "name": "python2"
  },
  "language_info": {
   "codemirror_mode": {
    "name": "ipython",
    "version": 2
   },
   "file_extension": ".py",
   "mimetype": "text/x-python",
   "name": "python",
   "nbconvert_exporter": "python",
   "pygments_lexer": "ipython2",
   "version": "2.7.6"
  }
 },
 "nbformat": 4,
 "nbformat_minor": 0
}
