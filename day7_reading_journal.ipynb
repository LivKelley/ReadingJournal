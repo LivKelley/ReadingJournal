{
 "cells": [
  {
   "cell_type": "markdown",
   "metadata": {},
   "source": [
    "# Day 7 Reading Journal\n",
    "\n",
    "This journal includes several required exercises, but it is meant to encourage active reading more generally.  You should use the journal to take detailed notes, catalog questions, and explore the content from Think Python deeply.\n",
    "\n",
    "Reading: Think Python Chapter 11, 12\n",
    "\n",
    "**Due: Thursday, February 18 at 12 noon**\n",
    "\n"
   ]
  },
  {
   "cell_type": "markdown",
   "metadata": {},
   "source": [
    "## [Chapter 11](http://www.greenteapress.com/thinkpython/html/thinkpython012.html)\n",
    "-Dictionary - like a list, but more general. \n",
    "-Indices have to be integers. \n",
    "-It's a mapping between a set of integers. \n",
    "-Keys - the indices that map to values. \n",
    "-Key value pair - the association of a key value pair or sometimes an item. \n",
    "-dict - creates a new dictioary with now items. \n",
    " -Avoid using this as a variable name. \n",
    "-Squiggly brackets represent an empty dictionary. \n",
    "-The order of dictionary items is unpredictable. \n",
    "-Use keys to look up corresponding values. \n",
    "-hashtable - an algorithm with the remarkable ability -- the in operator takes about the same amount of time no matter how many items there are in a dictioary. \n",
    "\n",
    "11.1 Dictionary as a set of counters\n",
    "-Counting how many times each letter appears\n",
    "-1. Create 26 variables, one for each letter. Then traverse the string, and for each character, increment the corresponding counter, probably using a chained conditional. \n",
    "-2. You could create a list with 26 elements. Then you could convert each character to a number (using the built in function \"ord\") \n",
    "-3. You could create a dictionary with characters as keys and counters as corresponding values. You would add an item to the dictioary the first time after seeing an item. \n",
    "-Implementation - a way of performing a computation; sme implementations are better than others. \n",
    "-Histogram - a statistical term for a set of counters (or frequencies.) \n",
    "-The for loop traverses the string. \n",
    "\n",
    "11.2 Looping and dictionaries\n",
    "\n",
    "-print_hist prints each key and the corresponding value. \n",
    "\n",
    "11.3 Reverse lookup \n",
    "\n",
    "Lookup - given a dictionary d and a key k it's easy to find the corresponding value v = d[k]\n",
    "- You might be able to pick one, or you might have to make a list containing all of them. \n",
    "-Reverse lookup - there's no simple syntax for this, so you have to search. \n",
    "-ValueError says there is something wrong with the value of a parameter. \n",
    "\n",
    "11.4 Dictionaries and lists \n",
    "-Lists can appear as values in a dictionary. \n",
    "-Singleton - what we initialize a value with ( a list with a single element) \n",
    "-Hashable - a hash is a function that takes a value and returns an integer. \n",
    "   - Dictionaries use these integers, called hash values, to store and look up key value pairs. \n",
    "\n",
    "11.5 Memos \n",
    "\n",
    "-call graph - looks like a web\n",
    "-Memo - used to keep track of already ycomputed values by storing them in a dictionary. \n",
    "\n",
    "11.6 Global variables\n",
    "-Variables in __ main__ are sometimes called global because they can be accessed from any function\n",
    "-Flags - boolean variables that indicate or flag whether a condition is true (global variables are often used for this. \n",
    "-You have to declare the global variable prior tousing it (to reassign a global vairable inside a function. \n",
    "\n",
    "11.7 Long integers \n",
    "-The L at the end of an integer means it's a long integer. \n",
    "-Variables can be arbitrarily big, but as they get bigger they consumer more space and time. \n",
    "\n",
    "11.8 Debugging\n",
    "-Scale down input to debug. (Put in the smallest example you can find.) \n",
    "-Check summaries and types: print summaries of the data. \n",
    "-Write self-checks - you can write code to check for errors automatically. \n",
    "-For computing the average you can check that the result is not greater than the largest element in the list or less than the smallest. \n",
    "-Pretty print the output - formatting debugging output can make it easier to spot an error. \n"
   ]
  },
  {
   "cell_type": "markdown",
   "metadata": {},
   "source": [
    "**Quick check:** In about one sentence using your own words, what is a dictionary?\n",
    "\n",
    "Dictionaries are assortments of data without order that can contain almost anything (functions, lists, other dictionaries), which is why \"Think Python\" describes them as more general that lists."
   ]
  },
  {
   "cell_type": "markdown",
   "metadata": {
    "is_question": true,
    "problem": "Exercise 11.2"
   },
   "source": [
    "### Exercise 2  \n",
    "\n",
    "Dictionaries have a [method called `get`](https://docs.python.org/2/library/stdtypes.html#mapping-types-dict) that takes a key and a default value. If the key appears in the dictionary, `get` returns the corresponding value; otherwise it returns the default value. For example:\n",
    "\n",
    "```\n",
    ">>> h = histogram('a')\n",
    ">>> print h\n",
    "{'a': 1}\n",
    ">>> h.get('a', 0)\n",
    "1\n",
    ">>> h.get('b', 0)\n",
    "0\n",
    "```\n",
    "\n",
    "Use `get` to write `histogram` more concisely. You should be able to eliminate the `if` statement. Add unit tests for your histogram implementation."
   ]
  },
  {
   "cell_type": "code",
   "execution_count": 2,
   "metadata": {
    "collapsed": false
   },
   "outputs": [
    {
     "name": "stdout",
     "output_type": "stream",
     "text": [
      "{'a': 1, 'b': 1, 'o': 2, 'n': 1, 's': 2, 'r': 2, 'u': 2, 't': 1}\n"
     ]
    }
   ],
   "source": [
    "#Answer \n",
    "def hist(s): \n",
    "    d = dict() \n",
    "    for c in s:\n",
    "        d[c] = d.get(c, 0) + 1\n",
    "    return d \n",
    "\n",
    "print(hist('brontosaurus'))\n",
    "#It seems like I'm not understanding syntax somewhere. "
   ]
  },
  {
   "cell_type": "code",
   "execution_count": 12,
   "metadata": {
    "collapsed": false,
    "solution": "Exercise 11.2"
   },
   "outputs": [
    {
     "name": "stdout",
     "output_type": "stream",
     "text": [
      "{'a': 1, 'b': 1, 'o': 2, 'n': 1, 's': 2, 'r': 2, 'u': 2, 't': 1}\n"
     ]
    }
   ],
   "source": [
    "\n",
    "def histogram(s):\n",
    "    d = dict()\n",
    "    for c in s:\n",
    "        if c not in d:\n",
    "            d[c] = 1\n",
    "        else:\n",
    "            d[c] += 1\n",
    "    return d\n",
    "\n",
    "print(histogram('brontosaurus'))\n"
   ]
  },
  {
   "cell_type": "markdown",
   "metadata": {
    "is_question": true,
    "problem": "Exercise 11.4"
   },
   "source": [
    "### Exercise 4  \n",
    "\n",
    "Modify `reverse_lookup` so that it builds and returns a list of all keys that map to `v`, or an empty list if there are none. Add unit tests for your implementation."
   ]
  },
  {
   "cell_type": "code",
   "execution_count": 24,
   "metadata": {
    "collapsed": false,
    "solution": "Exercise 11.4"
   },
   "outputs": [
    {
     "data": {
      "text/plain": [
       "['a']"
      ]
     },
     "execution_count": 24,
     "metadata": {},
     "output_type": "execute_result"
    }
   ],
   "source": [
    "def reverse_lookup(d, v):\n",
    "    \"\"\" Unit tests for: \n",
    "    >>>reverse_lookup(ddict, 0) \n",
    "    []\n",
    "    >>>reverse_lookup(ddict, r)\n",
    "    NameError \n",
    "    >>>reverse_lookup(ddict, 10)\n",
    "    ['a']\n",
    "    \"\"\"\n",
    "    lista = []\n",
    "    for k in d:\n",
    "        if d[k] == v:\n",
    "            lista.append(k)\n",
    "    return lista\n",
    "\n",
    "ddict = {'a': 10, 'b': 7, 'c': 7, 'd': 2}\n",
    "    \n",
    "reverse_lookup(ddict, 10)"
   ]
  },
  {
   "cell_type": "markdown",
   "metadata": {},
   "source": [
    "If you'd like to learn more about errors and exceptions, you can check out the [Python tutorial](https://docs.python.org/2/tutorial/errors.html) or read ahead to [Appendix A](http://www.greenteapress.com/thinkpython/html/thinkpython021.html) of Think Python. If you choose to use doctest for your unit testing, it can also [deal with exceptions](https://docs.python.org/2/library/doctest.html#what-about-exceptions)."
   ]
  },
  {
   "cell_type": "markdown",
   "metadata": {},
   "source": [
    "**Quick check** What type of objects can be used as keys to a dictionary, i.e. what property must they have?\n",
    "\n",
    "Keys can be integers, strings, tuples, and characters (but not functions or lists.))Keys must correspond with values. "
   ]
  },
  {
   "cell_type": "markdown",
   "metadata": {
    "is_question": true,
    "problem": "Exercise 11.6"
   },
   "source": [
    "### Exercise 6 (modified)\n",
    "\n",
    "Create a memoized version of your Levenshtein distance function from Day 7. What kind of performance change do you see?\n",
    "\n",
    "For fibonacci it calculates much faster. \n",
    "\n",
    "Optional: If you'd like to get some quantitative results, you could check out the [timeit](https://docs.python.org/2/library/timeit.html) module\n",
    "\n",
    "Note: You can also study Fibonacci here if you prefer."
   ]
  },
  {
   "cell_type": "code",
   "execution_count": 11,
   "metadata": {
    "collapsed": false
   },
   "outputs": [
    {
     "data": {
      "text/plain": [
       "12586269025"
      ]
     },
     "execution_count": 11,
     "metadata": {},
     "output_type": "execute_result"
    }
   ],
   "source": [
    "#Fibonacci memoized \n",
    "dicta = {1:1, 2:1}\n",
    "def fibonacci(n): \n",
    "    if n in dicta.keys(): #Looking for the value of n (which is fibonacci(n))\n",
    "        # fib(n) is already calculated and in dicta\n",
    "        return dicta[n] #If it doesn't find the value of n it moves on to calculating it in the function below\n",
    "    a = fibonacci(n-2)+fibonacci(n-1) #Runs through the smaller value first, which be calculated later anyhow if the solution isn't found immediately. \n",
    "    dicta[n] = a #Once it is calculated the result is added to the dictionary so that when it runs through the function again it can find the solution. \n",
    "    return a \n",
    "\n",
    "fibonacci(50)\n",
    "        "
   ]
  },
  {
   "cell_type": "code",
   "execution_count": 9,
   "metadata": {
    "collapsed": false
   },
   "outputs": [
    {
     "data": {
      "text/plain": [
       "3"
      ]
     },
     "execution_count": 9,
     "metadata": {},
     "output_type": "execute_result"
    }
   ],
   "source": [
    "#Final function based on what we did in class. \n",
    "\n",
    "def levenshtein (a, b): \n",
    "    if a == \"\": \n",
    "        return len(b)\n",
    "    if b == \"\": \n",
    "        return len(a)\n",
    "    if a[0] == b[0]: \n",
    "        option1 = levenshtein(a[1:], b[1:])\n",
    "    else: \n",
    "        option1 = levenshtein(a[1:], b[1:]) +1\n",
    "    \n",
    "    option2 = 1 + levenshtein(a, b[1:])\n",
    "    option3 = 1 + levenshtein(a[1:], b)\n",
    "    \n",
    "    if option1 < option2 and option1 < option3: \n",
    "        return option1\n",
    "    elif option2 < option3: \n",
    "        return option2\n",
    "    else: \n",
    "        return option3\n",
    "    \n",
    "    res = (option1, option2, option3)\n",
    "    return min(option1, option2, option3)\n",
    "\n",
    "\n",
    "levenshtein('cat', 'tack') "
   ]
  },
  {
   "cell_type": "code",
   "execution_count": null,
   "metadata": {
    "collapsed": true,
    "solution": "Exercise 11.6"
   },
   "outputs": [],
   "source": [
    "def levenshtein (word, word2): \n",
    "    Orig = 0\n",
    "    for i in range len(word):\n",
    "        if word[i] == word[i]:\n",
    "            return 0\n",
    "            i = i+1\n",
    "        else: \n",
    "            return \n",
    "                Orig + 1\n",
    "                i = i+1\n",
    "\n",
    "\n"
   ]
  },
  {
   "cell_type": "code",
   "execution_count": null,
   "metadata": {
    "collapsed": true
   },
   "outputs": [],
   "source": [
    "def levenshtein (word, word2)\n",
    "    d = dict() \n",
    "    c = dict()\n",
    "\n",
    "    \n",
    "    for c in word:\n",
    "        d[c] = d.get(c, 0) + 1\n",
    "    return d \n",
    "\n",
    "    for c in word:\n",
    "        d[c] = d.get(c, 0) + 1\n",
    "    return d \n",
    "\n",
    "    \n",
    "    \n",
    "    \n",
    "    "
   ]
  },
  {
   "cell_type": "markdown",
   "metadata": {},
   "source": [
    "## [Chapter 12](http://www.greenteapress.com/thinkpython/html/thinkpython013.html)\n",
    "\n",
    "**Quick check:** In about one sentence using your own words, what is a tuple?\n",
    "-A tuple is an immutable sequence of values written as a list of strings separated by commas (behaves like a variable assigned to a set of values.) \n",
    "\n",
    "Tuples\n",
    "12.1 Tuples are immutable \n",
    "-A tuple is a sequence of values. \n",
    "-Tuples are immutable. \n",
    "-Syntactically a tuple is a comma-separated list of values. \n",
    "-It is common to enclose tuples in parentheses. \n",
    "-To create a single element tuple you have to include a final comma. \n",
    "-A value in a parentheses is not a tuple\n",
    "-You can create a tuple with the built in function tuple, which creates an empty one. \n",
    "-Avoid using it as a variable name. \n",
    "-Most list operators work on tuples. \n",
    "-Slice included. \n",
    "-Don't try to modify one element of a tuple. \n",
    "-You can replace a tuple with another tuple. \n",
    "\n",
    "12.2 Tuple assignment\n",
    "\n",
    "-It is often useful to swap the values of two variables. \n",
    "-Conventionally, you have to use a temporary variable. \n",
    "-You don't with tuple assignment. \n",
    "-The variables on the left and right have to be the same. \n",
    "-The right side can be any kind of sequence. \n",
    "-The number of variables to the left and the number of variables to the right have to be a sequence\n",
    "\n",
    "12.3 Tuples as Return Values\n",
    "-A tuple can create the effect of returning multiple valeus. \n",
    "-divmod, the built in function, takes two arguments and returns a tuple of two values, the quotient and remainder. \n",
    "\n",
    "12.4 Variable-length argument tuples \n",
    "-Functions can take a variable number of arguments. \n",
    "-A parameter name beggining with a star gathers elements into a tuple. \n",
    "-printall takes any number of arguments and prints them. \n",
    "-Scatter - the complement of gather\n",
    "-If you have a sequence of values and you want to pass it into a function you can use the star operator. \n",
    "\n",
    "12.5 Lists and tuples \n",
    "-zip is a built in function that takes two or more sequences and \"zips\" them into a list of tuples where each tuple contains one element. \n",
    "-The result is a list of tuples where each tuple contains a character from the string and a corresponding element from the list. \n",
    "\n",
    "You can use tuple assignment to traverse a list of tuples. \n",
    "-Each time through a loop python selects the next tuple and assigns the elements to letter and number. \n",
    "\n",
    "-If you combine zip, for, and tuple assignment, you get a useful idiom for traversing two or more sequences at the same time. \n",
    "-has_match takes two sequences, t1 and t2, and returns True if there is another index i such that t1[i] == t2[i]\n",
    "-If you need to traverse the elements of a sequence and their indices you can use the built in function \"enumerate\" \n",
    "\n",
    "12.6 Dictionaries and tuples\n",
    "-Dictionaries have a method called items that returns a list of tupules, where each tuple is a key-value pair. \n",
    "-Combining dict with zip yields a concise way to create a dictionary. \n",
    "-The dictionary method update also takes a list of tuples and adds the,m, as key value pairs, to an existing dictionary. \n",
    "-There are two ways to represent tuples in a state diagram. \n",
    "-The more detailed verseion shows the indices and elements as they appear in a list. \n",
    "-In larger diagrams you might want to leave out details. \n",
    "\n",
    "12.7 Comparing tuples\n",
    "-The relational oerators work with tuples and sequences. \n",
    "-Python starts by comparing the first element from each sequence. \n",
    "-If they are equal, it goes onto the next elements, and so on, until it finds elements that differ. \n",
    "-The \"sort\" finction works the same way. (Sorts primarily by fist element, but in the case of a tie, it sorts by second elements. \n",
    "-Pattern created is DSU (Decorate - a sequence by building a tuple list with one or more sort keys, Sort - the list of tuples, and Undecorate - by extracting the sorted elements of the sequence. \n",
    "\n",
    "12.8 Sequences of sequences\n",
    "-To avoid enumerating the possible combinations, it is sometimes easier to talk about sequences of sequences. \n",
    "-Different kinds of sequences (strings, lists, and tuples) can be used interchangeably. \n",
    "-Strings are more limited than other sequences because the elements have to be characters. \n",
    "-Lists are more common than tuples because they are mutable. \n",
    "1. In some contexts, like a return statement, it is easier to create a tuple. \n",
    "2. You have to use an immutable type (tuple or string) if you want to use  sequence as a dictionary key.) \n",
    "3. If you are passing a sequence as an argument to a function, using tuples reduces the potential for unexpected behavior. \n",
    "\n",
    "12.9 Debugging\n",
    "\n",
    "-Lists, dictionaries, and tuples are data structures. \n",
    "-Compounded data structures are prone to \"shape errors\" (When data structures has the wrong type, size, or composition.) \n",
    "\n",
    "-Structshape provides a function that takes any data structure and summarizes its shape. "
   ]
  },
  {
   "cell_type": "markdown",
   "metadata": {
    "is_question": true,
    "problem": "Exercise 12.1"
   },
   "source": [
    "### Exercise 1  \n",
    "\n",
    "Many of the built-in functions use variable-length argument tuples. For example, `max` and `min` can take any number of arguments:\n",
    "\n",
    "```\n",
    ">>> max(1,2,3)\n",
    "3\n",
    "```\n",
    "\n",
    "But `sum` does not.\n",
    "\n",
    "```\n",
    ">>> sum(1,2,3)\n",
    "TypeError: sum expected at most 2 arguments, got 3\n",
    "```\n",
    "\n",
    "Write a function called ```sumall``` that takes any number of arguments and returns their sum. \n",
    "\n",
    "Write unit tests for your function. Do I actually need to keep saying this? Let's assume it's always a good idea :)"
   ]
  },
  {
   "cell_type": "code",
   "execution_count": 12,
   "metadata": {
    "collapsed": false,
    "solution": "Exercise 12.1"
   },
   "outputs": [
    {
     "name": "stdout",
     "output_type": "stream",
     "text": [
      "**********************************************************************\n",
      "File \"__main__\", line 5, in __main__.sumall\n",
      "Failed example:\n",
      "    sumall([1, 2, 3, 4, 20])\n",
      "Expected:\n",
      "    30 \n",
      "Got:\n",
      "    30\n",
      "**********************************************************************\n",
      "File \"__main__\", line 7, in __main__.sumall\n",
      "Failed example:\n",
      "    sumall([0, 1, 0, 1, 0])\n",
      "Expected:\n",
      "    2 \n",
      "Got:\n",
      "    2\n",
      "**********************************************************************\n",
      "File \"__main__\", line 9, in __main__.sumall\n",
      "Failed example:\n",
      "    sumall([0, 0, 0, 0, 0])\n",
      "Expected:\n",
      "    0 \n",
      "Got:\n",
      "    0\n",
      "**********************************************************************\n",
      "1 items had failures:\n",
      "   3 of   3 in __main__.sumall\n",
      "***Test Failed*** 3 failures.\n"
     ]
    },
    {
     "data": {
      "text/plain": [
       "TestResults(failed=3, attempted=7)"
      ]
     },
     "execution_count": 12,
     "metadata": {},
     "output_type": "execute_result"
    }
   ],
   "source": [
    "import doctest\n",
    "\n",
    "def sumall(lista):\n",
    "    \n",
    "    \"\"\"\n",
    "    >>> sumall([1, 2, 3, 4, 20])\n",
    "    30 \n",
    "    >>> sumall([0, 1, 0, 1, 0])\n",
    "    2 \n",
    "    >>> sumall([0, 0, 0, 0, 0])\n",
    "    0 \n",
    "    \"\"\"\n",
    "    \n",
    "    if len(lista)== 1:\n",
    "        return lista[0]\n",
    "    value1 = lista.pop() \n",
    "    value2 = lista.pop()\n",
    "    a = sum([value1, value2])\n",
    "    lista.append(a)\n",
    "    return sumall(lista)\n",
    "\n",
    "sumall([0, 0, 0, 0, 0])\n",
    "\n",
    "\n",
    "doctest.testmod()\n",
    "\n",
    "#Fails doctests but returns the same thing... \n",
    "    "
   ]
  },
  {
   "cell_type": "markdown",
   "metadata": {},
   "source": [
    "If you're interested in more flexible ways to pass arguments to functions, check out the [Python tutorial](https://docs.python.org/2/tutorial/controlflow.html#more-on-defining-functions). For instance, you can also use keyword arguments, which are collected into a dictionary just like `*` gathers variable numbers of positional arguments into a tuple.\n",
    "\n",
    "This pattern is very common for defining functions with complex optional behaviors in Python, and you will often see definitions like:\n",
    "\n",
    "```\n",
    "def my_func(required_argument1, *arguments, **keywords):\n",
    "    ...\n",
    "```"
   ]
  },
  {
   "cell_type": "markdown",
   "metadata": {
    "is_question": true,
    "problem": "Exercise 12 sort"
   },
   "source": [
    "### Exercise\n",
    "\n",
    "Write a function `sort_by_last_letter` that takes a list of words and returns a new list with the words sorted alphabetically by the _last letter_ in the word. Hint: use the **Decorate, Sort, Undecorate** pattern. Write unit tests for your function."
   ]
  },
  {
   "cell_type": "code",
   "execution_count": 1,
   "metadata": {
    "collapsed": false,
    "solution": "Exercise 12 sort"
   },
   "outputs": [
    {
     "data": {
      "text/plain": [
       "TestResults(failed=0, attempted=2)"
      ]
     },
     "execution_count": 1,
     "metadata": {},
     "output_type": "execute_result"
    }
   ],
   "source": [
    "import doctest\n",
    "\n",
    "def sort_by_last_letter(words): \n",
    "    \n",
    "    \"\"\"\n",
    "    >>> sort_by_last_letter(['lilly', 'Quintec', 'Pretty', 'Maria'])\n",
    "    ['Maria', 'Quintec', 'Pretty', 'lilly']\n",
    "\n",
    "    >>> sort_by_last_letter(['Liv', 'Claire', 'James', 'Duncan'])\n",
    "    ['Claire', 'Duncan', 'James', 'Liv']\n",
    "    \"\"\"\n",
    "    \n",
    "    t = []\n",
    "    for word in words: \n",
    "        last_letter = word[-1]\n",
    "        t.append((last_letter, word))\n",
    "    \n",
    "        t.sort()\n",
    "               \n",
    "    res = []\n",
    "    for last_letter, word in t: \n",
    "        res.append(word)\n",
    "    return res \n",
    "\n",
    "sort_by_last_letter(['Liv', 'Claire', 'James', 'Duncan'])\n",
    "\n",
    "doctest.testmod()"
   ]
  },
  {
   "cell_type": "markdown",
   "metadata": {},
   "source": [
    "**Quick check** Give an example of when you might use each sequence type:\n",
    "\n",
    "- tuple - You use a tuple when you're trying to input a few values into a function that takes one input. (When you're trying to use a list as a key.) \n",
    "\n",
    "- list - You use list when you want an easily accessible sequence of numbers or strings. \n",
    "\n",
    "-  string - You use string when you want your output to be a single unit."
   ]
  },
  {
   "cell_type": "markdown",
   "metadata": {
    "is_question": true,
    "problem": "Exercise 12.3"
   },
   "source": [
    "### Exercise 3  \n",
    "\n",
    "Write a function called `most_frequent` that takes a string and prints the letters in decreasing order of frequency. Find text samples from several different languages and see how letter frequency varies between languages. Compare your results with the tables at http://en.wikipedia.org/wiki/Letter_frequencies. \n",
    "\n",
    "Allen's solution (try it on your own first): http://thinkpython.com/code/most_frequent.py. "
   ]
  },
  {
   "cell_type": "code",
   "execution_count": 2,
   "metadata": {
    "collapsed": false,
    "solution": "Exercise 12.3"
   },
   "outputs": [
    {
     "data": {
      "text/plain": [
       "TestResults(failed=0, attempted=4)"
      ]
     },
     "execution_count": 2,
     "metadata": {},
     "output_type": "execute_result"
    }
   ],
   "source": [
    "\n",
    "import doctest\n",
    "\n",
    "def most_frequent(s):\n",
    "    \"\"\"\n",
    "    >>> most_frequent('abdicate eliminate ennunciate')\n",
    "    ['e', 'n', 'i', 'a', 't', 'c', ' ', 'u', 'm', 'l', 'd', 'b']\n",
    "    >>> most_frequent('Liv eats a bear')\n",
    "    ['a', ' ', 'e', 'v', 't', 's', 'r', 'i', 'b', 'L']\n",
    "    \"\"\"\n",
    "    s.lower() \n",
    "    d = dict() \n",
    "    for c in s:\n",
    "        d[c] = d.get(c, 0) + 1\n",
    "    r = []\n",
    "    \n",
    "    for letter in d:\n",
    "        frequency = d[letter]\n",
    "        r.append((frequency, letter))\n",
    "    \n",
    "    r.sort(reverse=True)\n",
    "    \n",
    "    freq = []\n",
    "    for frequency, letter in r: \n",
    "        freq.append(letter)\n",
    "    return freq\n",
    "\n",
    "most_frequent('Liv eats a bear')\n",
    "\n",
    "doctest.testmod()"
   ]
  },
  {
   "cell_type": "markdown",
   "metadata": {
    "is_question": true,
    "problem": "Exercise 12.6"
   },
   "source": [
    "### Challenge: Exercise 6   (optional)\n",
    "\n",
    "From a [Car Talk Puzzler](http://www.cartalk.com/content/puzzlers):\n",
    "\n",
    "What is the longest English word, that remains a valid English word, as you remove its letters one at a time?\n",
    "\n",
    "Now, letters can be removed from either end, or the middle, but you can’t rearrange any of the letters. Every time you drop a letter, you wind up with another English word. If you do that, you’re eventually going to wind up with one letter and that too is going to be an English word—one that’s found in the dictionary. I want to know what’s the longest word and how many letters does it have?\n",
    "\n",
    "I’m going to give you a little modest example: Sprite. Ok? You start off with sprite, you take a letter off, one from the interior of the word, take the r away, and we’re left with the word spite, then we take the e off the end, we’re left with spit, we take the s off, we’re left with pit, it, and I. \n",
    "\n",
    "Write a program to find all words that can be reduced in this way, and then find the longest one.\n",
    "\n",
    "This exercise is a little more challenging than most, so here are some suggestions:\n",
    "\n",
    "- You might want to write a function that takes a word and computes a list of all the words that can be formed by removing one letter. These are the “children” of the word.\n",
    "- Recursively, a word is reducible if any of its children are reducible. As a base case, you can consider the empty string reducible.\n",
    "- The word list from [Chapter 9.1](http://www.greenteapress.com/thinkpython/html/thinkpython010.html) Exercise 1 doesn’t contain single letter words. So you might want to add “I”, “a”, and the empty string.\n",
    "- To improve the performance of your program, you might want to memoize the words that are known to be reducible.\n",
    "\n",
    "Allen's solution: http://thinkpython.com/code/reducible.py."
   ]
  },
  {
   "cell_type": "markdown",
   "metadata": {
    "is_question": true,
    "problem": "Feedback"
   },
   "source": [
    "## Reading Journal feedback\n",
    "\n",
    "Have any comments on this Reading Journal? Feel free to leave them below and we'll read them when you submit your journal entry. This could include suggestions to improve the exercises, topics you'd like to see covered in class next time, or other feedback.\n",
    "\n",
    "If you have Python questions or run into problems while completing the reading, you should post them to Piazza instead so you can get a quick response before your journal is submitted."
   ]
  },
  {
   "cell_type": "markdown",
   "metadata": {
    "feedback_response": true,
    "solution": "Feedback"
   },
   "source": [
    "It might be worth saying that fibonacci is far easier to memoize then the levenschtein fuction.  "
   ]
  }
 ],
 "metadata": {
  "celltoolbar": "Edit Metadata",
  "kernelspec": {
   "display_name": "Python 2",
   "language": "python",
   "name": "python2"
  },
  "language_info": {
   "codemirror_mode": {
    "name": "ipython",
    "version": 2
   },
   "file_extension": ".py",
   "mimetype": "text/x-python",
   "name": "python",
   "nbconvert_exporter": "python",
   "pygments_lexer": "ipython2",
   "version": "2.7.6"
  }
 },
 "nbformat": 4,
 "nbformat_minor": 0
}
