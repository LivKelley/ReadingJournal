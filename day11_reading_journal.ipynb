{
 "cells": [
  {
   "cell_type": "markdown",
   "metadata": {},
   "source": [
    "# Day 11 Reading Journal\n",
    "\n",
    "This journal includes several required exercises, but it is meant to encourage active reading more generally.  You should use the journal to take detailed notes, catalog questions, and explore the content from Think Python deeply.\n",
    "\n",
    "Reading: Review Think Python Chapters 15-17\n",
    "\n",
    "**Due: Monday, February 29 at 12 noon**\n",
    "\n"
   ]
  },
  {
   "cell_type": "markdown",
   "metadata": {},
   "source": [
    "## [Chapter 15](http://www.greenteapress.com/thinkpython/html/thinkpython016.html), [Chapter 16](http://www.greenteapress.com/thinkpython/html/thinkpython017.html), [Chapter 17](http://www.greenteapress.com/thinkpython/html/thinkpython018.html)\n",
    "\n",
    "\n",
    "By the end of chapter 17, we have all the tools we need to create our own user-defined types known as classes. In this reading journal, we're asking you to review and solidify your understanding of this material so we can build on it for the rest of the course. \n",
    "\n",
    "If you didn't get a chance to fully complete the Day 10 reading journal, you may want to do so now.\n",
    "\n",
    "Chapter 16\n",
    "\n",
    "16.1 Time \n",
    "\n",
    "- Time is another user-defined type\n",
    "-How an example of this looks: \n",
    "    -time = Time() \n",
    "    -time.hour = 11 \n",
    "    -time.minute = 59 \n",
    "    -time.second 30 \n",
    "    \n",
    "16.2 Pure Functions \n",
    "\n",
    "    -prototype and patch - a development plan used for tacling complex problems by starting with simple prototypes and incrementally dealing with complications. \n",
    "    -Pure Functions - don't modify any of the objects passed to it as arguments. \n",
    "\n",
    "16.3 Modifiers \n",
    "\n",
    "    - Functions that modify objects as they get parameters. \n",
    "    -increment - adds a given number of seconds to a Time object. \n",
    "    -Anything that can be done with modifiers must be done with pure functions first. \n",
    "    -Using programs as pure functions are faster to develop and less error prone \n",
    "    -Functional programming style - write pure functions whenever it is reasonable and resort to modifiers only if there is a compelling advantage. \n",
    "    \n",
    "16.4 Prototyping vs. Planning \n",
    "\n",
    "    -For each function, you write a prototype and then perform the basic calculation. \n",
    "    - Planned development = high-level insight into the problem can m ake the programming much easier. \n",
    "    -We can convert time objects into integers \n",
    "    -If we have the insight to treat time as base 60 numbers. \n",
    "    -Sometimes making a problem harder (more general) makes it easier (because there are fewer special cases and fewer opportunities for error.) \n",
    "\n",
    "16.5 Debugging\n",
    "\n",
    "   -A time obeject is well formed if the values of minute and second are between 0 and 60. \n",
    "   -Invariants - requirements that are true. \n",
    "   \n",
    "Chapter 17\n",
    "\n",
    "17.1 Object-oriented features\n",
    "\n",
    "    - object oriented programming language - provides features that support object-oriented programming \n",
    "    -Programs are made up of object and function definitions. \n",
    "    -Each object definition corresponds to some object or concept in the real world, and the functions that oeprate correspond the the ways real-world-objects interact. \n",
    "    -Time class corresponds to the way people need tim in the day. \n",
    "    -The point classes correspond to the mathematical concepts of a point and a rectangle. \n",
    "    -The rectangle class corresponds to the mathematical concepts of a point and a rectangle. \n",
    "    -Method - a function that is associated with a particular class. \n",
    "    -Methods are the same as functions, except that methods are defined inside a class definition in order to make the relationship between the class and the method explicit. \n",
    "    -The syntax for invoking a method is different for calling a function. \n",
    "\n",
    "17.2 Printing objects\n",
    "\n",
    "- for class Time(object \n",
    "    -def print_time(time): \n",
    "         print %.2d%.2d%.2d (time.hour, time.minute, time.second) \n",
    "    - You can either call \n",
    "    - Time.print_time(start) \n",
    "    - start.print.time() \n",
    "    - print_time is the name of the method, is the object the method is invoked on, called the subject. \n",
    "    - Start - the assigned time. \n",
    "    -The first parameter of a method is called self \n",
    "    -The syntax for a function call, print_time(start), suggests that the function is the active agent.\n",
    "    -In object oriented programming, the objects are the active agents. (So this says print yourself.) \n",
    "    \n",
    "17.3 Another Example \n",
    "\n",
    "    -def increment(self,seconds): seconds += self.time_to_int() return int_to_time(seconds) \n",
    "    -You would invoke increment: \n",
    "    -start.prime_time() -end = start.increment(1337) \n",
    "    -end.print_time() \n",
    "    -The argument, 1337, 460\n",
    "\n",
    "17.4 A more complicated example \n",
    "\n",
    "    -def_is_after(self,other): return self.time_to_int() > other.time_to_int() \n",
    "    -to use this method, you have to invoke it on one object and pass the other as an argument: end.is_after(start) \n",
    "    True\n",
    "\n",
    "17.5 The init method -short for initialization -gets invoked when an object is instantiated.\n",
    "\n",
    "    -full name is init -init time class would look like \n",
    "    -def init(self, hour = 0, minute =0, second = 0) \n",
    "    -self.hour = hour -self.minute = minute -self.second = second -Self.hour = stores the value of the parameter hour as an attribute to self. \n",
    "    -If you call time with no inputs, you get default values, if you provide one argument, it overrides hour. If you provide more than one, they override hour and minute.\n",
    "\n",
    "17.6 The str method -returns a string representation of an object. -When you print an object, python invokes the str method\n",
    "\n",
    "17.7 Operator Overloading -by defining other special methods, you can specify the behavior of operators on user-defined types. \n",
    "\n",
    "    -If you define a method named add for the Time class you can use the + operator for Time objects. \n",
    "    -When you apply the + operator so that it works with user-defined types is calledoperator overloading. \n",
    "\n",
    "17.8 Type\n",
    "    -based dispatch def add (self, other):\n",
    "    if isinstance(other, Time): \n",
    "    return self.add_time(other) \n",
    "    else: return self.addtime(other) \n",
    "\n",
    "    -The built-in function insinstance takes a value and a class object and returns True if the value is an instance of the class. \n",
    "    -If other is a Time object, add invokes addtime. \n",
    "    -type-based dispatch \n",
    "    - because it dispatches the computation to different methods based on the type of the arguments. \n",
    "    -the special method rad stands for right-side add\n",
    "       - def __ radd__(self, other):\n",
    "           -return self__add__ (other) \n",
    "           \n",
    "17.9 Polymorphism -Many of the functions we used will work for any sequence. -Polymorphic - functions that can work with many types -facilitate code reuse\n",
    "\n",
    "17.10 Debugging Use hasattr allows you to use a built-in function in the dictionary \n",
    "\n",
    "    -This function is good for debugging.\n",
    "    def print_attributes(obj): \n",
    "    -for attr in objdict:\n",
    "     print attr, getattr(obj, attr) \n",
    "    -traverses items and prints each attribute and its corresponding value. 17.11 Interface and Implementation \n",
    "    -A goal of object-oriented design is to make software more maintainable, which means you can keep the program working when other parts of the system change, and modify the program to meet new requirements. \n",
    "    -Methods provided by this class are time_to_int, is_after, and add_time -After you deploy a class, you may discover better implementations of time. \n",
    "    -Information hiding - Using methods to read and modify the state of an object."
   ]
  },
  {
   "cell_type": "markdown",
   "metadata": {
    "problem": "Terminology"
   },
   "source": [
    "### Terminology\n",
    "\n",
    "You should be familiar with the following list of terms and concepts. If any of them are unclear to you, re-read, ask, write a definition in your own words, and try an example if appropriate.\n",
    "\n",
    " - class\n",
    " - object\n",
    " - instance\n",
    " - attribute\n",
    " - method\n",
    " - shallow vs deep copying\n",
    " - pure functions vs modifiers\n",
    " - initializing object instances\n",
    " "
   ]
  },
  {
   "cell_type": "markdown",
   "metadata": {
    "is_question": true,
    "problem": "Exercise 1"
   },
   "source": [
    "### Exercise\n",
    "\n",
    "We're going to take the first steps toward writing a calendar application. To keep things simple, we'll restrict ourselves to a single day for now. Write an `Event` class with the following attributes:\n",
    "\n",
    " - `name`  : Title for the `Event`\n",
    " - `start` : `Time` object representing the start time for the `Event`\n",
    " - `end`   : `Time` object representing the end time for the `Event`\n",
    "\n",
    "You can also augment your `Event` class with additional attributes, such as location and attendees.\n",
    "\n",
    "Write `__init__` and `__str__` methods for your `Event` class."
   ]
  },
  {
   "cell_type": "code",
   "execution_count": 2,
   "metadata": {
    "collapsed": false
   },
   "outputs": [
    {
     "name": "stdout",
     "output_type": "stream",
     "text": [
      "09:45:00\n",
      "10:07:17\n",
      "Is end after start? True\n",
      "Using __str__\n",
      "09:45:00 10:07:17\n",
      "11:20:00\n",
      "10:07:17\n",
      "10:07:17\n",
      "Example of polymorphism\n",
      "23:01:00\n"
     ]
    }
   ],
   "source": [
    "#I was told I could use time for this purpose. \n",
    "\n",
    "class Time(object):\n",
    "    \"\"\"Represents the time of day.\n",
    "       \n",
    "    attributes: hour, minute, second\n",
    "    \"\"\"\n",
    "    def __init__(self, hour=0, minute=0, second=0):\n",
    "        minutes = hour * 60 + minute\n",
    "        self.seconds = minutes * 60 + second\n",
    "\n",
    "    def __str__(self):\n",
    "        minutes, second = divmod(self.seconds, 60)\n",
    "        hour, minute = divmod(minutes, 60)\n",
    "        return '%.2d:%.2d:%.2d' % (hour, minute, second)\n",
    "\n",
    "    def print_time(self):\n",
    "        print str(self)\n",
    "\n",
    "    def time_to_int(self):\n",
    "        \"\"\"Computes the number of seconds since midnight.\"\"\"\n",
    "        return self.seconds\n",
    "\n",
    "    def is_after(self, other):\n",
    "        \"\"\"Returns True if t1 is after t2; false otherwise.\"\"\"\n",
    "        return self.seconds > other.seconds\n",
    "\n",
    "    def __add__(self, other):\n",
    "        \"\"\"Adds two Time objects or a Time object and a number.\n",
    "\n",
    "        other: Time object or number of seconds\n",
    "        \"\"\"\n",
    "        if isinstance(other, Time):\n",
    "            return self.add_time(other)\n",
    "        else:\n",
    "            return self.increment(other)\n",
    "\n",
    "    def __radd__(self, other):\n",
    "        \"\"\"Adds two Time objects or a Time object and a number.\"\"\"\n",
    "        return self.__add__(other)\n",
    "\n",
    "    def add_time(self, other):\n",
    "        \"\"\"Adds two time objects.\"\"\"\n",
    "        assert self.is_valid() and other.is_valid()\n",
    "        seconds = self.seconds + other.seconds\n",
    "        return int_to_time(seconds)\n",
    "\n",
    "    def increment(self, seconds):\n",
    "        \"\"\"Returns a new Time that is the sum of this time and seconds.\"\"\"\n",
    "        seconds += self.seconds\n",
    "        return int_to_time(seconds)\n",
    "\n",
    "    def is_valid(self):\n",
    "        \"\"\"Checks whether a Time object satisfies the invariants.\"\"\"\n",
    "        return self.seconds >= 0 and self.seconds < 24*60*60\n",
    "\n",
    "\n",
    "def int_to_time(seconds):\n",
    "    \"\"\"Makes a new Time object.\n",
    "\n",
    "    seconds: int seconds since midnight.\n",
    "    \"\"\"\n",
    "    return Time(0, 0, seconds)\n",
    "\n",
    "\n",
    "def main():\n",
    "    start = Time(9, 45, 00)\n",
    "    start.print_time()\n",
    "\n",
    "    end = start.increment(1337)\n",
    "    end.print_time()\n",
    "\n",
    "    print 'Is end after start?',\n",
    "    print end.is_after(start)\n",
    "\n",
    "    print 'Using __str__'\n",
    "    print start, end\n",
    "\n",
    "    start = Time(9, 45)\n",
    "    duration = Time(1, 35)\n",
    "    print start + duration\n",
    "    print start + 1337\n",
    "    print 1337 + start\n",
    "\n",
    "    print 'Example of polymorphism'\n",
    "    t1 = Time(7, 43)\n",
    "    t2 = Time(7, 41)\n",
    "    t3 = Time(7, 37)\n",
    "    total = sum([t1, t2, t3])\n",
    "    print total\n",
    "\n",
    "\n",
    "if __name__ == '__main__':\n",
    "    main()"
   ]
  },
  {
   "cell_type": "code",
   "execution_count": 3,
   "metadata": {
    "collapsed": false,
    "solution": "Exercise 1"
   },
   "outputs": [
    {
     "name": "stdout",
     "output_type": "stream",
     "text": [
      "Linearity: 12:49 pm to 4:00 pm\n",
      "Linearity: 4:00 pm to 4:00 am\n"
     ]
    }
   ],
   "source": [
    "class Event (object): \n",
    "    \"\"\"Event to go in a calendar.\"\"\"\n",
    "    \n",
    "    def __init__(self, name, start, end): \n",
    "        self.name = name \n",
    "        self.start = start \n",
    "        self.end = end \n",
    "        \n",
    "    def __str__ (self): \n",
    "        return \"{}: {} to {}\".format(self.name, self.start,self.end)\n",
    "\n",
    "print Event(\"Linearity\", \"12:49\", \"16:00\")\n",
    "print Event(\"Linearity\", \"16:00\", \"4:00\")\n",
    "\n",
    "\n"
   ]
  },
  {
   "cell_type": "markdown",
   "metadata": {
    "is_question": true,
    "problem": "Exercise 2"
   },
   "source": [
    "### Exercise\n",
    "\n",
    "Write a `duration` method that returns the duration of the `Event` in minutes."
   ]
  },
  {
   "cell_type": "code",
   "execution_count": 57,
   "metadata": {
    "collapsed": false,
    "solution": "Exercise 2"
   },
   "outputs": [
    {
     "name": "stdout",
     "output_type": "stream",
     "text": [
      "Linearity: 12:04:09 to 16:00:00, duration is 235 minutes\n",
      "Linearity: 16:00:00 to 20:00:00, duration is 240 minutes\n"
     ]
    }
   ],
   "source": [
    "class Event (object): \n",
    "    \"\"\"Event to go in a calendar.\"\"\"\n",
    "    \n",
    "    def __init__(self, name, start, end): \n",
    "        self.name = name \n",
    "        self.start = start \n",
    "        self.end = end \n",
    "        self.duration = (self.end.seconds - self.start.seconds)/60\n",
    "        \n",
    "    def __str__ (self): \n",
    "        return \"{}: {} to {}, duration is {} minutes\".format(self.name, self.start, self.end, self.duration)\n",
    "    \n",
    "    def __cmp__ (self, other): \n",
    "        if other.start > self.start: \n",
    "            return -1\n",
    "        elif self.start > other.start: \n",
    "            return 1\n",
    "        else: \n",
    "            return 0 \n",
    "\n",
    "start1 = Time(12,4,9)\n",
    "end1 = Time(16,0,0)\n",
    "\n",
    "start2 = Time(16, 0, 0)\n",
    "end2 = Time(20, 0, 0)\n",
    "\n",
    "Event1 = Event(\"Linearity\", start1, end1)\n",
    "Event2 = Event(\"Linearity\", start2, end2)\n",
    "\n",
    "print Event1\n",
    "print Event2"
   ]
  },
  {
   "cell_type": "markdown",
   "metadata": {
    "is_question": true,
    "problem": "Exercise 3"
   },
   "source": [
    "### Exercise\n",
    "\n",
    "Write an `Agenda` class that contains several `Event`s for the day.\n",
    "\n",
    "**Quick check: ** How should you store `Event`s within your `Agenda` class?\n",
    "\n",
    "Your `Agenda` class should include a `print_agenda` method that prints out your schedule for the day, in order.\n",
    "\n",
    "**Optional:** Include a `is_feasible` method that returns `True` if your schedule has no time conflicts. You may want to write additional helper methods for the `Event` class to make this easier."
   ]
  },
  {
   "cell_type": "code",
   "execution_count": 56,
   "metadata": {
    "collapsed": false,
    "solution": "Exercise 3"
   },
   "outputs": [
    {
     "name": "stdout",
     "output_type": "stream",
     "text": [
      "Linearity: 12:04:09 to 16:00:00, duration is 235 minutes\n",
      "Linearity: 16:00:00 to 20:00:00, duration is 240 minutes\n"
     ]
    }
   ],
   "source": [
    "class Agenda (object): \n",
    "        \n",
    "    def __init__(self, Event=[]): \n",
    "        self.Event = sorted(Event)\n",
    "        \n",
    "    def __str__ (self): \n",
    "        return '\\n'.join([str(e) for e in self.Event]) \n",
    "    \n",
    "class Event (object): \n",
    "    \"\"\"Event to go in a calendar.\"\"\"\n",
    "    \n",
    "    def __init__(self, name, start, end): \n",
    "        self.name = name \n",
    "        self.start = start \n",
    "        self.end = end \n",
    "        self.duration = (self.end.seconds - self.start.seconds)/60\n",
    "        \n",
    "    def __str__ (self): \n",
    "        return \"{}: {} to {}, duration is {} minutes\".format(self.name, self.start, self.end, self.duration)\n",
    "    \n",
    "    def __cmp__ (self, other): \n",
    "        if other.start > self.start: \n",
    "            return -1\n",
    "        elif self.start > other.start: \n",
    "            return 1\n",
    "        else: \n",
    "            return 0 \n",
    "\n",
    "start1 = Time(12,4,9)\n",
    "end1 = Time(16,0,0)\n",
    "\n",
    "start2 = Time(16, 0, 0)\n",
    "end2 = Time(20, 0, 0)\n",
    "\n",
    "Event1 = Event(\"Linearity\", start1, end1)\n",
    "Event2 = Event(\"Linearity\", start2, end2)\n",
    "\n",
    "print Agenda([Event1, Event2])\n",
    "\n",
    "\n"
   ]
  },
  {
   "cell_type": "markdown",
   "metadata": {
    "is_question": true,
    "problem": "Exercise 4"
   },
   "source": [
    "### Going Beyond (optional)\n",
    "\n",
    "Some ideas for taking your application further:\n",
    " - Add people and/or places to the mix to create a scheduling assistant\n",
    " - Extend support for day-of-week or full date. A word of warning: dealing with dates and times in real applications is difficult due to the huge number of special cases (Perfect example: this reading journal is due on Leap Day). Consider using something like the Python [datetime](https://docs.python.org/2/library/datetime.html) module.\n",
    " - Use pickle or some other persistence strategy to save and load your `Agenda`."
   ]
  },
  {
   "cell_type": "code",
   "execution_count": null,
   "metadata": {
    "collapsed": true,
    "solution": "Exercise 4"
   },
   "outputs": [],
   "source": []
  },
  {
   "cell_type": "markdown",
   "metadata": {
    "is_poll": true,
    "is_question": true,
    "problem": "Time spent"
   },
   "source": [
    "## Quick poll\n",
    "About how long did you spend working on this Reading Journal?"
   ]
  },
  {
   "cell_type": "markdown",
   "metadata": {
    "poll_response": true,
    "solution": "Time spent"
   },
   "source": [
    " "
   ]
  },
  {
   "cell_type": "markdown",
   "metadata": {
    "is_question": true,
    "problem": "Feedback"
   },
   "source": [
    "## Reading Journal feedback\n",
    "\n",
    "Have any comments on this Reading Journal? Feel free to leave them below and we'll read them when you submit your journal entry. This could include suggestions to improve the exercises, topics you'd like to see covered in class next time, or other feedback.\n",
    "\n",
    "If you have Python questions or run into problems while completing the reading, you should post them to Piazza instead so you can get a quick response before your journal is submitted."
   ]
  },
  {
   "cell_type": "markdown",
   "metadata": {
    "feedback_response": true,
    "solution": "Feedback"
   },
   "source": [
    "The first question "
   ]
  }
 ],
 "metadata": {
  "celltoolbar": "Edit Metadata",
  "kernelspec": {
   "display_name": "Python 2",
   "language": "python",
   "name": "python2"
  },
  "language_info": {
   "codemirror_mode": {
    "name": "ipython",
    "version": 2
   },
   "file_extension": ".py",
   "mimetype": "text/x-python",
   "name": "python",
   "nbconvert_exporter": "python",
   "pygments_lexer": "ipython2",
   "version": "2.7.6"
  }
 },
 "nbformat": 4,
 "nbformat_minor": 0
}
