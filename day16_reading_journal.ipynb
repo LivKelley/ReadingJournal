{
 "cells": [
  {
   "cell_type": "markdown",
   "metadata": {},
   "source": [
    "# Day 16 Reading Journal\n",
    "\n",
    "This journal includes several required exercises, but it is meant to encourage active reading more generally.  You should use the journal to take detailed notes, catalog questions, and explore the content from Think Python deeply.\n",
    "\n",
    "Reading: Think Python Appendix B (through B.2)\n",
    "\n",
    "**Due: Monday, March 28 at 12 noon**\n"
   ]
  },
  {
   "cell_type": "markdown",
   "metadata": {},
   "source": [
    "## [Appendix B](http://www.greenteapress.com/thinkpython/html/thinkpython022.html)\n",
    "\n",
    "You only need to read as far as section B.2 (inclusive), but feel free to go further and try more exercises if you are interested.\n",
    "\n",
    "- Analysis of algorithms - a branch of computer science that studies the performance of algorithms, especially their run time and space requirements. \n",
    "- The practical goal of algorithm analysis is to predict the performance of different algorithms. \n",
    "- Bubble sort is conceptually simple but slow for large datasets. \n",
    "- Machine model - analyzes the number of steps or operations a machine needs to take. \n",
    "- Worst case scenario - algorithms that run slower. \n",
    "- relative performance depends on problem size. Usual solution is to express run time as a function of problem size and to compare the functions asymptotically as problem size increases.\n",
    "- Allows you to compare things in terms of proportions. \n",
    "\n",
    "B.1. Order of growth \n",
    "- Leading term - the term with the highest exponent\n",
    "- Algorithms with smaller leading terms to be better algorithms for large problems\n",
    "- Crossover point - the point at which another algorithm is better (based on algorithm size) \n",
    "- Order of growth - a set of functions whose asymptotic growth behavior is considered equivalent (On is Big-Oh notation) (Often called linear because it increases with n)\n",
    "- Quadratic formulas begin with n^2 \n",
    "\n",
    "B.2 Analysis of basic Python operations \n",
    "- Multiplication and division take longer than addition and subtraction. (Division is longest.) \n",
    "- Indexing operations - reading or writing elements in a sequence or dictionary are also constant time regardless of their structure. \n",
    "- Built-in function sum is linear because it does the same thing. \n",
    "- If you use the same loop to add a list of strings, the run time is quadratic because it is a more efficient implementation. \n",
    "- join is usually faster because it is linear.\n",
    "- If the loop runs k times regardless of n O(n^a), then the whole loop is O(n^a+1) \n",
    "- Multiplying by k doesn't change the order of growth, neither does dividing. \n",
    "- If the body of a loop is in O(n^1) and it runs n/k times, the loop is in O(n^a+1), even for large k. \n",
    "- String and tuple operations are linear, except indexing and len, which are constant time. The built in functions min and max are linear. \n",
    "- Slice run time is proportional to output length, but input size independent. \n",
    "- Adding an element to the end of a list is constant time on average; when it runs out of room it occasionally gets copied to a bigger location, but the total time for n operations is O(n), so we say the \"amortized\" time for n operations is O(1) \n",
    "- Removing an element from the end of a list is constant time. \n",
    "- As is O(n logn) \n",
    "\n",
    "- Most dictionary methods and operations are constant time. (But...) \n",
    "   - run time of copy is proportional to element numbers. \n",
    "   - run time of update is proportional to the size of the dictionary passed. \n",
    "   - key, values, and items are linear because they return iterkeys, itervalues, and iteritems are constant time because they return iterators. If you loop through the iterators, the loop wil be linear. \n",
    "   - Doesn't change growth unless there are a bounded number of items.\n",
    "\n"
   ]
  },
  {
   "cell_type": "markdown",
   "metadata": {
    "is_question": true,
    "problem": "Exercise B.1"
   },
   "source": [
    "### Exercise 1  \n",
    "\n",
    "Read the [Wikipedia page on Big-Oh notation](http://en.wikipedia.org/wiki/Big_O_notation) and answer the following questions:\n",
    "\n",
    "Notes: \n",
    "\n",
    "- Big O behavior describes limiting hebvaior of a function when the function tends toward a particular value or to infinity. \n",
    "- It is a part of Landau notation, or Bachmann-Landau notation\n",
    "- In analytic number theory it is used to estimate the \"error committed.\" \n",
    "- This is used to classify algorithms by how they respond. \n",
    "- Famous example: the problem of estimating the remainder term in the prime number theorem. \n",
    "- Characterizes functions according to their growth rate. \n",
    "- Different functions with the same growth rate may have the same O notation. \n",
    "- A description of a function in terms of big O notation usually only provides an upper bound on the growth rate of the function. \n",
    "\n",
    " 1. What is the order of growth of n<sup>3</sup> + n<sup>2</sup>? What about 1000000 n<sup>3</sup> + n<sup>2</sup>? What about n<sup>3</sup> + 1000000 n<sup>2</sup>?\n",
    " 2. What is the order of growth of (n<sup>2</sup> + n) * (n + 1)? Before you start multiplying, remember that you only need the leading term.\n",
    " 3. If f is in O(g), for some unspecified function g, what can we say about af+b?\n",
    " 4. If f<sub>1</sub> and f<sub>2</sub> are in O(g), what can we say about f<sub>1</sub> + f<sub>2</sub>?\n",
    " 5. If f<sub>1</sub> is in O(g) and f<sub>2</sub> is in O(h), what can we say about f<sub>1</sub> + f<sub>2</sub>?\n",
    " 6. If f<sub>1</sub> is in O(g) and f<sub>2</sub> is O(h), what can we say about f<sub>1</sub> * f<sub>2</sub>? "
   ]
  },
  {
   "cell_type": "markdown",
   "metadata": {
    "collapsed": false,
    "solution": "Exercise B.1"
   },
   "source": [
    "  1. The order of growth of all three are three because their leading term is n^3.\n",
    "  2. The order of growth of this is again 3 because the leading term will be n^3.\n",
    "  3. The leading term of O(g) is not changed by af+b, so the order of growth is not changed.\n",
    "  4. Adding f1 and f2 will not change the order of growth. \n",
    "  5. The function whose leading term is highest will have its leading term be equal to the order of growth for this problem. \n",
    "  6. In this case the order of growth is the leading exponent's terms added."
   ]
  },
  {
   "cell_type": "markdown",
   "metadata": {
    "is_poll": true,
    "is_question": true,
    "problem": "Time spent"
   },
   "source": [
    "## Quick poll\n",
    "About how long did you spend working on this Reading Journal?"
   ]
  },
  {
   "cell_type": "markdown",
   "metadata": {
    "poll_response": true,
    "solution": "Time spent"
   },
   "source": [
    "1 hour. "
   ]
  },
  {
   "cell_type": "markdown",
   "metadata": {
    "is_question": true,
    "problem": "Feedback"
   },
   "source": [
    "## Reading Journal feedback\n",
    "\n",
    "Have any comments on this Reading Journal? Feel free to leave them below and we'll read them when you submit your journal entry. This could include suggestions to improve the exercises, topics you'd like to see covered in class next time, or other feedback.\n",
    "\n",
    "If you have Python questions or run into problems while completing the reading, you should post them to Piazza instead so you can get a quick response before your journal is submitted."
   ]
  },
  {
   "cell_type": "markdown",
   "metadata": {
    "feedback_response": true,
    "solution": "Feedback"
   },
   "source": [
    "I liked that this one was shorter. They feel more digestible in this size, even if there were multiple I think I would like if they were broken up like this.  \n",
    "\n",
    "The wording of the problems was hard to understand. I had to have a ninja interpret them (then the problems seemed relatively easy.) "
   ]
  }
 ],
 "metadata": {
  "celltoolbar": "Edit Metadata",
  "kernelspec": {
   "display_name": "Python 2",
   "language": "python",
   "name": "python2"
  },
  "language_info": {
   "codemirror_mode": {
    "name": "ipython",
    "version": 2
   },
   "file_extension": ".py",
   "mimetype": "text/x-python",
   "name": "python",
   "nbconvert_exporter": "python",
   "pygments_lexer": "ipython2",
   "version": "2.7.6"
  }
 },
 "nbformat": 4,
 "nbformat_minor": 0
}
