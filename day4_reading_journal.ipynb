{
 "cells": [
  {
   "cell_type": "markdown",
   "metadata": {},
   "source": [
    "# Day 4 Reading Journal\n",
    "\n",
    "This journal includes several required exercises, but it is meant to encourage active reading more generally.  You should use the journal to take detailed notes, catalog questions, and explore the content from Think Python deeply.\n",
    "\n",
    "Reading: Think Python Chapter 10\n",
    "\n",
    "**Due: Thursday, February 4 at 12 noon**\n",
    "\n"
   ]
  },
  {
   "cell_type": "markdown",
   "metadata": {},
   "source": [
    "## [Chapter 10](http://www.greenteapress.com/thinkpython/html/thinkpython011.html)\n",
    "\n",
    "You may want to review [state diagrams in Chapter 2](http://www.greenteapress.com/thinkpython/html/thinkpython003.html#toc13). [Python Tutor](http://pythontutor.com/) is also helpful for visualizing the state of your program.\n",
    "\n",
    "Notes: \n",
    "\n",
    "10.1 A list is a sequence \n",
    "-A list is a sequence of values. \n",
    "-Elements - List values. \n",
    "-A list in a list is nested. \n",
    "-You can assign list values to variables. \n",
    "\n",
    "10.2 Lists are mutable. \n",
    "-An index of a list is in square brackets. \n",
    "-Mapping - shows a relationship between indices and elements. \n",
    "-Any integer can be an index. \n",
    "-If you try to read or write an element that does not exist, you get IndexError. \n",
    "-If an index has a negative value it counts backwards from the end of the list. \n",
    "\n",
    "10.3 Traversing a list \n",
    "-For loops are used to traverse the elemnts of a list. \n",
    "-A common way to update elements is by using  a combination of range(len(x)) \n",
    "-len returns the number of elements in the list. \n",
    "-A for loop and an empty index does nothing. \n",
    "\n",
    "10.4 List operations \n",
    "-+ concatinates lists. \n",
    "-repeats a list a given number of times. \n",
    "\n",
    "10.5 List slices\n",
    "-The slice operator works on lists. \n",
    "-Omitting the first index starts at the beginning (Exercise 4?) \n",
    "-Omitting the last element means it goes to the end. \n",
    "-A slice operator on the left side of an assignment can update multiple elements. \n",
    "-If you omit the second inxex, the slice goes to the end. \n",
    "-Omitting both returns the list. \n",
    "\n",
    "10.6 List methods \n",
    "-append adds new elements to the ends of lists. \n",
    "-extend takes a list as an argument and appends all elements. \n",
    "-sort arranges elements from low to high. \n",
    "\n",
    "10.7 Map, filter, and reduce\n",
    "-use a loop like (first example, 10.7) to add up all of the numbers in a list. \n",
    "-Augmented assignment statement - total += x is equivalent to total = total +x \n",
    "-A variable used this way is sometimes called an accumulator. \n",
    "-sum(t) sums a list. \n",
    "-s.capitalize can be used to capitalize things. \n",
    "\n",
    "10.8 Delete elements \n",
    "-t.pop() can be used to delete elemeents. \n",
    "-If you don't provide an index, this deletes and returns the last index. \n",
    "-If you don't need the removed value, you can use \"del.\" \n",
    "-You can use del with a slice to remove more than one element. \n",
    "-If you know the element, but not the index use t.remove('')\n",
    "\n",
    "10.9 Lists and strings. \n",
    "-A list of characters is not the same as a string. \n",
    "-To convert from a string to  a list use list(s) \n",
    "-Avoid using list as a variable name. \n",
    "-If you want to break a string into words you can use the split method. \n",
    "-Delimiter - specifies which characters to use as word boundaries. \n",
    "-delimiters can be set (hyphens or such.) \n",
    "-delimiter.join(t) can be used to join things by the delimiter. \n",
    "-join is the inverse of split. \n",
    "-You can make a space a delimiter. \n",
    "\n",
    "10.10 Objects and values. \n",
    "-To check whether two variables are meant for the same object \n",
    "-You can use opertors to distinguish. \n",
    "-Equivalent lists have the same elements. \n",
    "-Identical objects are actually the same object. \n",
    "-If two objects are identical, they are equivalent. \n",
    "\n",
    "10.11 Aliasing \n",
    "-If a refers to an object and you assign b = a, they refer to the same object. \n",
    "-Reference - the association of a variable with an object. \n",
    "-Aliased - When an object with more than one reference has more than one name. \n",
    "-If the aliased object is mutable, changes made with one alias affect the other. \n",
    "-It is safer to avoid aliasing. \n",
    "\n",
    "10.12 List Arguments \n",
    "-del t[0] removes the first element from a list. \n",
    "-This difference is important when you write functions to modify lists. \n",
    "-The slice operator can create a new list when used incorrectly. \n",
    "\n",
    "10.13 Debugging\n",
    "-Careless use of lists means lots of debugging. \n",
    "-1. Don't forget that most list methods modify the argument and return None. (Opposite of string methods. \n",
    "-2. Pick an idiom and stick with it\n",
    "  -There are too many ways to do things. \n",
    "  -Removing an element can involve pop, remove, del, or even a slice assignment. \n",
    "-3. Make copies to avoid aliasing. \n",
    "\n"
   ]
  },
  {
   "cell_type": "markdown",
   "metadata": {},
   "source": [
    "### Exercise 4  \n",
    "Write a function called `middle` that takes a list and returns a new list that contains all but the first and last elements. So `middle([1,2,3,4])` should return `[2,3]`."
   ]
  },
  {
   "cell_type": "code",
   "execution_count": 27,
   "metadata": {
    "collapsed": false
   },
   "outputs": [
    {
     "name": "stdout",
     "output_type": "stream",
     "text": [
      "[2, 3, 4, 5, 6]\n",
      "[1, 2, 3, 4, 5, 6, 7]\n"
     ]
    }
   ],
   "source": [
    "def middle (x):      #Prints a part of x without modifying x. \n",
    "    lslice = x[1: -1] \n",
    "    return lslice \n",
    "        \n",
    "x = [1, 2, 3, 4, 5, 6, 7]\n",
    "print middle (x) \n",
    "print x"
   ]
  },
  {
   "cell_type": "markdown",
   "metadata": {},
   "source": [
    "### Exercise 5  \n",
    "Write a function called `chop` that takes a list, modifies it by removing the first and last elements, and returns `None`.\n",
    "\n",
    "What is the difference between `middle` and `chop`? Sketch out the program state or take a look at each in Python Tutor."
   ]
  },
  {
   "cell_type": "code",
   "execution_count": 21,
   "metadata": {
    "collapsed": false
   },
   "outputs": [
    {
     "name": "stdout",
     "output_type": "stream",
     "text": [
      "None\n"
     ]
    }
   ],
   "source": [
    " def chop (x):\n",
    "    del x[0]\n",
    "    del x[-1]\n",
    "    return\n",
    "    \n",
    "#Must print this to see the boolean \"None.\"\n",
    "\n",
    "x = [1, 2, 3, 4, 5, 6, 7]\n",
    "print chop (x)\n",
    "print x\n",
    "\n",
    "#The difference between middle and chop is that middle ... \n",
    "#creates a new list that represents a region of the original... \n",
    "#While chop alters the list. \n"
   ]
  },
  {
   "cell_type": "markdown",
   "metadata": {},
   "source": [
    "### Exercise 7  \n",
    "Two words are anagrams if you can rearrange the letters from one to spell the other. Write a function called `is_anagram` that takes two strings and returns `True` if they are anagrams."
   ]
  },
  {
   "cell_type": "code",
   "execution_count": 46,
   "metadata": {
    "collapsed": false
   },
   "outputs": [
    {
     "data": {
      "text/plain": [
       "True"
      ]
     },
     "execution_count": 46,
     "metadata": {},
     "output_type": "execute_result"
    }
   ],
   "source": [
    "def is_anagram (x, y): \n",
    "    list_a = []   #Converting from a string to a list\n",
    "    list_b = []   #For both x and y. \n",
    "    \n",
    "    for i in x:\n",
    "        list_a.append(i) #Putting the elements of the string x into list a.\n",
    "    \n",
    "    for i in y:\n",
    "        list_b.append(i) #Putting the elements of the string y into list b.\n",
    "        \n",
    "    #This part was checked with a print statement.\n",
    " \n",
    "    list_a.sort() #Modifies the list itself, does not return a value. \n",
    "    list_b.sort() #But for both, this function arranges the letters so that if it were an anagram they would be in the same order, which is from least to greatest in terms of their place in the alphabet.\n",
    "    \n",
    "    if list_a == list_b: #Rhis if statement compares the resulting lists from list sort. If they are the same, they contain the same letters, which would mean the words are anagrams. \n",
    "        return True \n",
    "    else:\n",
    "        return False\n",
    "    \n",
    "is_anagram ('love','vole')\n",
    "    "
   ]
  },
  {
   "cell_type": "markdown",
   "metadata": {},
   "source": [
    "### Exercise 8  \n",
    "The (so-called) Birthday Paradox:\n",
    "1. Write a function called `has_duplicates` that takes a list and returns `True` if there is any element that appears more than once. It should not modify the original list.\n",
    "2. If there are 23 students in your class, what are the chances that two of you have the same birthday? You can estimate this probability by generating random samples of 23 birthdays and checking for matches. Hint: you can generate random birthdays with the randint function in the [random module](https://docs.python.org/2/library/random.html).\n",
    "\n",
    "You can read about this problem at http://en.wikipedia.org/wiki/Birthday_paradox, and you can download Allen's solution from http://thinkpython.com/code/birthday.py."
   ]
  },
  {
   "cell_type": "code",
   "execution_count": 58,
   "metadata": {
    "collapsed": false
   },
   "outputs": [
    {
     "name": "stdout",
     "output_type": "stream",
     "text": [
      "0.001\n"
     ]
    }
   ],
   "source": [
    "import random as r\n",
    "def has_duplicates (x):    #This function returns the number of duplicates.\n",
    "    if set(x) == x:    #If the number without duplicates is the same as the number, there are no duplicates. \n",
    "        return False    #If there are duplicates, this if will be false.\n",
    "    else:\n",
    "        return True     #Conversely, no duplicates means it's true.\n",
    "    \n",
    "def random_generator (y):    #Generates a random number between 1 and 364 to represent each day of the year. \n",
    "    list_y = []\n",
    "    for i in range(y): \n",
    "        b = r.randint(0,364)    #Randint taking in the number of days. \n",
    "                                #Note to self: random.randint/r.randint makes it work.\n",
    "        list_y.append(b)    #Adding on randomized days to a list. \n",
    "    return list_y    #Outputting the randomized list. \n",
    "    \n",
    "def probab (z):    #This function calculates the probability.\n",
    "    list_d = []    #You put the # of duplicates into a list later, so you need the list here. \n",
    "    for i in range(z):    #Need for loop to run the three functions a certain number of times. \n",
    "        q = random_generator(23)    #Generates the random numbers.\n",
    "        if has_duplicates(q) == True:    #Looks if there are duplicates in the random numbers.\n",
    "            list_d.append(1)    #Add these duplicates to a list. \n",
    "        return len(list_d)/float(z) #Compare the number of duplicates found to the number of times the function is run to find the probability of same birthdays.\n",
    "            \n",
    "print(probab(1000))    #Print so you can see the probability in decimal form for a certain number of runs \"z.\""
   ]
  },
  {
   "cell_type": "markdown",
   "metadata": {},
   "source": [
    "### Challenge: Exercise 11 (optional)\n",
    "\n",
    "You should read [Chapter 9.1](http://www.greenteapress.com/thinkpython/html/thinkpython010.html) and do Exercise 1 first.\n",
    "\n",
    "To check whether a word is in the word list, you could use the `in` operator, but it would be relatively slow because it searches through the words in order (try it).\n",
    "\n",
    "Because the words are in alphabetical order, we can speed things up with a bisection search (also known as binary search), which is similar to what you do when you look a word up in the dictionary. You start in the middle and check to see whether the word you are looking for comes before the word in the middle of the list. If so, then you search the first half of the list the same way. Otherwise you search the second half.\n",
    "\n",
    "Either way, you cut the remaining search space in half. If the word list has 113,809 words, it will take about 17 steps to find the word or conclude that it’s not there.\n",
    "\n",
    "Write a function called `bisect` that takes a sorted list and a target value and returns the index of the value in the list, if it’s there, or `None` if it’s not.\n",
    "\n",
    "Or you could read the documentation of the `bisect` module and use that! Solution: http://thinkpython.com/code/inlist.py."
   ]
  },
  {
   "cell_type": "code",
   "execution_count": null,
   "metadata": {
    "collapsed": true
   },
   "outputs": [],
   "source": []
  },
  {
   "cell_type": "markdown",
   "metadata": {},
   "source": [
    "## Reading Journal feedback\n",
    "\n",
    "Have any comments on this Reading Journal? Feel free to leave them below and we'll read them when you submit your journal entry. This could include suggestions to improve the exercises, topics you'd like to see covered in class next time, or other feedback.\n",
    "\n",
    "If you have Python questions or run into problems while completing the reading, you should post them to Piazza instead so you can get a quick response before your journal is submitted."
   ]
  },
  {
   "cell_type": "markdown",
   "metadata": {},
   "source": [
    " "
   ]
  }
 ],
 "metadata": {
  "kernelspec": {
   "display_name": "Python 2",
   "language": "python",
   "name": "python2"
  },
  "language_info": {
   "codemirror_mode": {
    "name": "ipython",
    "version": 2
   },
   "file_extension": ".py",
   "mimetype": "text/x-python",
   "name": "python",
   "nbconvert_exporter": "python",
   "pygments_lexer": "ipython2",
   "version": "2.7.6"
  }
 },
 "nbformat": 4,
 "nbformat_minor": 0
}
