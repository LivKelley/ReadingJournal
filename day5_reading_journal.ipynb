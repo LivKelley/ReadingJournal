{
 "cells": [
  {
   "cell_type": "markdown",
   "metadata": {},
   "source": [
    "# Day 5 Reading Journal\n",
    "\n",
    "This journal includes several required exercises, but it is meant to encourage active reading more generally.  You should use the journal to take detailed notes, catalog questions, and explore the content from Think Python deeply.\n",
    "\n",
    "Reading: Think Python Chapter 4\n",
    "\n",
    "**Due: Monday, February 8 at 12 noon**\n",
    "\n"
   ]
  },
  {
   "cell_type": "markdown",
   "metadata": {},
   "source": [
    "## [Chapter 4](http://www.greenteapress.com/thinkpython/html/thinkpython005.html)\n",
    "\n",
    "In today's reading, you'll be exploring TurtleWorld!\n",
    "TurtleWorld is part of the [swampy](http://www.greenteapress.com/thinkpython/swampy/) package, written by Allen Downey.\n",
    "As part of the [Get Set](https://sites.google.com/site/sd16spring/home/assignments-and-mini-projects/setup-your-environment) assignment, you installed the swampy package using the pip Python package management tool. If you somehow missed that step or you see errors when you try to import TurtleWorld, you can install swampy by running:\n",
    "\n",
    "```\n",
    "sudo pip install swampy\n",
    "```\n",
    "\n",
    "at the command line.\n",
    "\n",
    "### Turtle wrangling\n",
    "\n",
    "You can always run your code as separate Python scripts, but here are a few tips for mixing TurtleWorld with Jupyter notebook:\n",
    "\n",
    " - TurtleWorld will appear in a new GUI window, rather than inline in the notebook like typical results do\n",
    " - You will not be able to close the TurtleWorld window unless you run `wait_for_user()` as the last line of your code.\n",
    " - Jupyter notebook works like one big Python script, even though it is broken up into sections. This means that you could create a Turtle in one cell, move it in a later cell, and then `wait_for_user()` in yet another. Despite this, it might be easier to treat each cell in this assignment as a separate script, creating a new world at the beginning and destroying it at the end of each.\n",
    " \n",
    " \n",
    " Notes: \n",
    " 4.1 Turtle World \n",
    " -Swampy is an acompanyment Allen Downey\n",
    " -Package - a collection of modules\n",
    " -A module in Swampy is TurtleWorld, which provides a set of functions for drawing lines by steering turtles around the screen. \n",
    " -use from swampy.TurtleWorld import to import turtleworld\n",
    " -If you did not install things as a package use from TurtleWorld import\n",
    " -Printing bob yields something like: <TurtleWorld.Turtle instance at 0xb7bfbf4c>\n",
    " -Bob refers to an instance of turtle defined in turtleworld. (Instance means member of a set of possible turtles.) \n",
    " -wait_for_user tells TurtleWorld to wait for the user to do something (though the user can't do much for the given example...) \n",
    " -fd - function for forward\n",
    " -bk - function for back\n",
    " -lt - function for left \n",
    " -rt - function for right\n",
    " -pu - pen up \n",
    " -pd - pen down \n",
    " \n",
    " 4.2 Simple Repetition\n",
    " -I wrote exactly the code they have, but without the spaces. \n",
    " -For loops -- I thought about using those. Looks like this is a good chance to implement them. \n",
    " - Executed example\n",
    " -The syntax of a for statement is similar to a function definition. It has a header that ends with a colon and an indented body. The body can contain any number of statements.\n",
    " - Loop - a for statement's other name. \n",
    " \n",
    " \n",
    " 4.3 Exercises \n",
    " \n",
    " 4.4 Encapsulation\n",
    " -You can use a for loop to solve 4.4 \n",
    " -fd and lt are indented twice to show they're in the for loop \n",
    " -Square(bob) - is flush with the left margin. \n",
    " -t refers to the same turtle bob refers to, so lt(t) has the same effect as lt(bob) \n",
    " -t is called that because it can be any turtle. \n",
    " - You could create another turtle by using ray = turtle, square(ray) \n",
    " -Encapsulation - wrapping code up in a function. \n",
    "     \n",
    " 4.5 Generalization\n",
    " -Next step is to add a length parameter. \n",
    " -Generalization - adding a parameter to a function\n",
    " -Polygon draws regular polygons with any number of sides. \n",
    " -Keyword arguments - include parameter names like \"keywords\"\n",
    " \n",
    " 4.6 Interface Design \n",
    " -Writing a circle means taking in radius (r) as a parameter. \n",
    " -the first part of the example computes circumference. \n",
    " -n is the number of line segments used to approximate a circule\n",
    " -One limitation to the given solution is that n is constant (means that for big circles lines are too long and for small circles we draw too many small lines. \n",
    "  -This could be solved by taking n as a parameter.\n",
    "  -Interface: a summary of how a function is used. (Parameters? Purpose? Return value?)\n",
    "  -It is better to choose an appropriate value of n depending on the circumference. \n",
    " \n",
    " 4.7 Refactoring \n",
    "  -You can't use a polygon or circle to draw an arc. \n",
    "  -You can rewrite circle to make an arc. \n",
    "  -Refactoring - rearranging a program to improve function interfaces and facilitate code reuse.\n",
    " \n",
    " 4.8 A development plan\n",
    " - A process for writing programs. \n",
    " -This was encaspulation and generalization \n",
    " -Steps: \n",
    " -1) Start by writing a small program with no function definitions. \n",
    " -2)Once you get the program working, encapsulate it in a function and give it a name. \n",
    " -3) Generalize the function by adding appropriate parameters. \n",
    " -4) Repeat steps 1-3 until you have a set of working functions. Copy and paste working code to avoid debugging.) \n",
    " -5) Look for opportunities to improve the program by refactoring. (If you have similar code, make it into one function to avoid needless typing.) \n",
    " \n",
    " 4.9 Docstring\n",
    " -Docstring - string at the beginning of a function that explains the interface. \n",
    " -Docstrings use triple quotes. (Multiline string.) \n",
    " \n",
    " 4.10 Debugging \n",
    " -An interface is like a contract between a function and a caller. \n",
    " -Caller puts in parameters, function puts in work. \n",
    " -Preconditions - early requirements, are supposed to be true prior to the function executing. \n",
    " -Postconditions - terms after the function. \n",
    " \n",
    " "
   ]
  },
  {
   "cell_type": "code",
   "execution_count": 1,
   "metadata": {
    "collapsed": false
   },
   "outputs": [
    {
     "name": "stdout",
     "output_type": "stream",
     "text": [
      "<swampy.TurtleWorld.Turtle object at 0x7f7546feea10>\n"
     ]
    }
   ],
   "source": [
    "Bob example 1, 4.1\n",
    "from swampy.TurtleWorld import *#Imports everything to make a turtle\n",
    "\n",
    "world = TurtleWorld() #Creates TurtleWorld assigned to world\n",
    "bob = Turtle () #Creates bob the turtle\n",
    "print bob #Prints bob the turtle! \n",
    "wait_for_user() #Now I'm supposed to do something. I don't know what.\n",
    "#Oh my gosh it makes a turtle!"
   ]
  },
  {
   "cell_type": "code",
   "execution_count": 2,
   "metadata": {
    "collapsed": false
   },
   "outputs": [
    {
     "name": "stdout",
     "output_type": "stream",
     "text": [
      "<swampy.TurtleWorld.Turtle object at 0x7f754745b1d0>\n"
     ]
    }
   ],
   "source": [
    "#Bob example 2, 4.1 \n",
    "from swampy.TurtleWorld import *#Imports everything to make a turtle\n",
    "\n",
    "world = TurtleWorld() #Creates TurtleWorld assigned to world\n",
    "bob = Turtle () #Creates bob the turtle\n",
    "print bob #Prints bob the turtle! \n",
    "fd(bob, 100) #Bob takes 100 steps forward\n",
    "lt(bob) #Bob turns left.\n",
    "fd(bob, 100) #Bob takes 100 steps forward\n",
    "#Bob drew a rotated L shape!"
   ]
  },
  {
   "cell_type": "code",
   "execution_count": 3,
   "metadata": {
    "collapsed": false
   },
   "outputs": [
    {
     "name": "stdout",
     "output_type": "stream",
     "text": [
      "<swampy.TurtleWorld.Turtle object at 0x7f754745b7d0>\n"
     ]
    }
   ],
   "source": [
    "#Bob example 3, 4.1\n",
    "from swampy.TurtleWorld import *#Imports everything to make a turtle\n",
    "\n",
    "world = TurtleWorld() #Creates TurtleWorld assigned to world\n",
    "bob = Turtle () #Creates bob the turtle\n",
    "print bob #Prints bob the turtle! \n",
    "fd(bob, 100) #Bob takes 100 steps forward\n",
    "lt(bob) #Bob turns left.\n",
    "fd(bob, 100) #Bob takes 100 steps forward\n",
    "lt(bob) #Bob turns again\n",
    "fd(bob, 100) #Bob walks forward again. \n",
    "lt(bob) #Bob turns again\n",
    "fd(bob, 100) #Bob finishes making a square\n",
    "lt(bob)"
   ]
  },
  {
   "cell_type": "code",
   "execution_count": 6,
   "metadata": {
    "collapsed": false
   },
   "outputs": [
    {
     "name": "stdout",
     "output_type": "stream",
     "text": [
      "Hello!\n",
      "Hello!\n",
      "Hello!\n",
      "Hello!\n"
     ]
    }
   ],
   "source": [
    "#Example 1, 4.2 \n",
    "for i in range (4):\n",
    "    print 'Hello!'"
   ]
  },
  {
   "cell_type": "code",
   "execution_count": 9,
   "metadata": {
    "collapsed": false
   },
   "outputs": [
    {
     "name": "stdout",
     "output_type": "stream",
     "text": [
      "<swampy.TurtleWorld.Turtle object at 0x7f754745b550>\n"
     ]
    }
   ],
   "source": [
    "#Bob example 2, 4.2 \n",
    "\n",
    "from swampy.TurtleWorld import *#Imports everything to make a turtle\n",
    "\n",
    "world = TurtleWorld() #Creates TurtleWorld assigned to world\n",
    "bob = Turtle () #Creates bob the turtle\n",
    "print bob #Prints bob the turtle! \n",
    "for i in range(4): #Same thing as before, makes more sense.\n",
    "    fd(bob,100)\n",
    "    lt(bob)"
   ]
  },
  {
   "cell_type": "code",
   "execution_count": 1,
   "metadata": {
    "collapsed": false
   },
   "outputs": [
    {
     "name": "stdout",
     "output_type": "stream",
     "text": [
      "<swampy.TurtleWorld.Turtle object at 0x7f89553781d0>\n"
     ]
    }
   ],
   "source": [
    "#Example 2, 4.5 \n",
    "from swampy.TurtleWorld import *#Imports everything to make a turtle\n",
    "\n",
    "world = TurtleWorld() #Creates TurtleWorld assigned to world\n",
    "bob = Turtle () #Creates bob the turtle\n",
    "print bob #Prints bob the turtle! \n",
    "\n",
    "def polygon(t,n,length):\n",
    "    angle = 360.0/n \n",
    "    for i in range(n):\n",
    "        fd(t, length)\n",
    "        lt(t, angle)\n",
    "    wait_for_user()\n",
    "\n",
    "polygon(bob, n=7, length=70)\n",
    "\n",
    "#Not sure what's going wrong... "
   ]
  },
  {
   "cell_type": "markdown",
   "metadata": {},
   "source": [
    "### Get started\n",
    "\n",
    "Run the code in the cell below and make sure everything works. You should see brave Alice spring into the world and run forward. You can close the window when you're done by clicking on the 'X'. If this simple test doesn't work, check your swampy install (especially if you get an `ImportError`) and ask for help."
   ]
  },
  {
   "cell_type": "code",
   "execution_count": 14,
   "metadata": {
    "collapsed": true
   },
   "outputs": [],
   "source": [
    "from swampy.TurtleWorld import *\n",
    "\n",
    "# Create the world, and a turtle to put in it\n",
    "world = TurtleWorld()\n",
    "alice = Turtle()\n",
    "\n",
    "# Get moving, turtle!\n",
    "fd(alice, 50)\n",
    "\n",
    "# Wait for the user to close the window\n",
    "wait_for_user()\n",
    "\n",
    "#It works!!! \n"
   ]
  },
  {
   "cell_type": "markdown",
   "metadata": {
    "is_question": true,
    "problem": "Section 4.3"
   },
   "source": [
    "### Section 4.3 exercises\n",
    "Work through exercises 1-5 in Section 4.3, creating the `square`, `polygon`, `circle`, and `arc` functions. You can reference Allen's solutions, but please try the problems on your own first."
   ]
  },
  {
   "cell_type": "code",
   "execution_count": 43,
   "metadata": {
    "collapsed": false,
    "solution": "Section 4.3"
   },
   "outputs": [],
   "source": [
    "#Exercise 1 \n",
    "from swampy.TurtleWorld import *\n",
    "\n",
    "# Create the world, and a turtle to put in it\n",
    "world = TurtleWorld()\n",
    "t = Turtle() \n",
    "\n",
    "def square(t):\n",
    "\n",
    "#Get moving, turtle!\n",
    "    for i in range(4): \n",
    "        fd(t,100)\n",
    "        lt(t)\n",
    "\n",
    "    # Wait for the user to close the window\n",
    "    wait_for_user()\n",
    "\n",
    "square(t)\n",
    "#It works!!! "
   ]
  },
  {
   "cell_type": "code",
   "execution_count": 50,
   "metadata": {
    "collapsed": false
   },
   "outputs": [],
   "source": [
    "#Exercise 2 \n",
    "\n",
    "from swampy.TurtleWorld import *\n",
    "# Create the world, and a turtle to put in it\n",
    "world = TurtleWorld()\n",
    "t = Turtle()\n",
    "\n",
    "def square(t,length):\n",
    "    \n",
    "  \n",
    "    # Get moving, turtle!\n",
    "    for i in range(4): \n",
    "        fd(t, length)\n",
    "        lt(t)\n",
    "\n",
    "    # Wait for the user to close the window\n",
    "    wait_for_user()\n",
    "\n",
    "square(t, 50) \n",
    "\n",
    "#It works!!! "
   ]
  },
  {
   "cell_type": "code",
   "execution_count": 19,
   "metadata": {
    "collapsed": true
   },
   "outputs": [],
   "source": [
    "#Exercise 3 \n",
    "from swampy.TurtleWorld import *\n",
    "world = TurtleWorld()\n",
    "t = Turtle()\n",
    "\n",
    "def square(t,length, angle):\n",
    "    # Get moving, turtle!\n",
    "    for i in range(4): \n",
    "        fd(t, length)\n",
    "        lt(t, angle)\n",
    "\n",
    "    # Wait for the user to close the window\n",
    "    wait_for_user()\n",
    "\n",
    "square(t, 100, 90)\n",
    "\n",
    "#It works!!! "
   ]
  },
  {
   "cell_type": "code",
   "execution_count": 2,
   "metadata": {
    "collapsed": false
   },
   "outputs": [
    {
     "name": "stdout",
     "output_type": "stream",
     "text": [
      "banana\n",
      "banana\n",
      "banana\n",
      "banana\n",
      "banana\n"
     ]
    }
   ],
   "source": [
    "#Exercise 3.2\n",
    "\n",
    "from swampy.TurtleWorld import *\n",
    "world = TurtleWorld()\n",
    "t = Turtle()\n",
    "\n",
    "def polygon(t,length, n):\n",
    "# Create the world, and a turtle to put in it\n",
    "    angle = 360/n\n",
    "    t.delay = .01 \n",
    "    # Get moving, turtle!\n",
    "    for i in range(n): \n",
    "        print 'banana'\n",
    "        fd(t, length)\n",
    "        lt(t, angle)\n",
    "\n",
    "    # Wait for the user to close the window\n",
    "    wait_for_user()\n",
    "\n",
    "polygon(t, 40, 5)\n",
    "\n",
    "#It works!!! "
   ]
  },
  {
   "cell_type": "code",
   "execution_count": 4,
   "metadata": {
    "collapsed": false
   },
   "outputs": [],
   "source": [
    "#Exercise 4\n",
    "from swampy.TurtleWorld import *\n",
    "import math \n",
    "world = TurtleWorld()\n",
    "t = Turtle()\n",
    "\n",
    "def circle(t, r):\n",
    "    n = 50\n",
    "    angle = 360./n\n",
    "    t.delay = .01\n",
    "    circumference = 2*math.pi*r \n",
    "    length = circumference/n \n",
    "    for i in range(n): \n",
    "        fd(t, length)\n",
    "        lt(t, angle)\n",
    "    wait_for_user()\n",
    "    \n",
    "circle(t, 90)"
   ]
  },
  {
   "cell_type": "code",
   "execution_count": 8,
   "metadata": {
    "collapsed": false
   },
   "outputs": [],
   "source": [
    "#Exercise 5\n",
    "\n",
    "from swampy.TurtleWorld import *\n",
    "world = TurtleWorld()\n",
    "t = Turtle()\n",
    "\n",
    "def arc(t, r, arcpart):\n",
    "    n = 50\n",
    "    angle = 360./n\n",
    "    t.delay = .01\n",
    "    circumference = 2*math.pi*r \n",
    "    length = circumference/n \n",
    "    for i in range(int(arcpart*n)): \n",
    "        fd(t, length)\n",
    "        lt(t, angle)\n",
    "    wait_for_user()\n",
    "    \n",
    "arc(t, 100, .5) "
   ]
  },
  {
   "cell_type": "markdown",
   "metadata": {
    "is_question": true,
    "problem": "More fun"
   },
   "source": [
    "### Exercise: More fun with Turtles!\n",
    "Complete at least one of Exercise 2, 3, 4, or 5. If you come up with some cool drawings you'd like to share with the rest of the class, let us know!"
   ]
  },
  {
   "cell_type": "code",
   "execution_count": null,
   "metadata": {
    "collapsed": false,
    "solution": "More fun"
   },
   "outputs": [],
   "source": [
    "#Drawing Flowers! \n",
    "from swampy.TurtleWorld import *\n",
    "import math\n",
    "world = TurtleWorld()\n",
    "t = Turtle()\n",
    "\n",
    "def fleur(t, r, arcpart, numpetals):\n",
    "#Make numpetals a multiple of four\n",
    "    n = 50\n",
    "    angle = 360./n\n",
    "    t.delay = .01\n",
    "    circumference = 2*math.pi*r \n",
    "    length = circumference/n \n",
    "    for i in range(numpetals*3):\n",
    "        for i in range(int(arcpart*n)): \n",
    "            fd(t, length)\n",
    "            lt(t, angle)\n",
    "        lt(t, 90)\n",
    "        for i in range(int(arcpart*n)): \n",
    "            fd(t, length)\n",
    "            lt(t, angle)\n",
    "        rt(t, 180)\n",
    "    lt(t, 90)\n",
    "    fd(t, 300)\n",
    "    wait_for_user()\n",
    "\n",
    "fleur (t, 100, .25, 8) "
   ]
  },
  {
   "cell_type": "markdown",
   "metadata": {},
   "source": [
    "## Reading Journal feedback\n",
    "\n",
    "Have any comments on this Reading Journal? Feel free to leave them below and we'll read them when you submit your journal entry. This could include suggestions to improve the exercises, topics you'd like to see covered in class next time, or other feedback.\n",
    "\n",
    "If you have Python questions or run into problems while completing the reading, you should post them to Piazza instead so you can get a quick response before your journal is submitted.\n"
   ]
  },
  {
   "cell_type": "markdown",
   "metadata": {},
   "source": [
    " "
   ]
  }
 ],
 "metadata": {
  "kernelspec": {
   "display_name": "Python 2",
   "language": "python",
   "name": "python2"
  },
  "language_info": {
   "codemirror_mode": {
    "name": "ipython",
    "version": 2
   },
   "file_extension": ".py",
   "mimetype": "text/x-python",
   "name": "python",
   "nbconvert_exporter": "python",
   "pygments_lexer": "ipython2",
   "version": "2.7.6"
  }
 },
 "nbformat": 4,
 "nbformat_minor": 0
}
