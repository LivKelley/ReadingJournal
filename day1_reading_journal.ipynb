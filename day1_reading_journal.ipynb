{
 "cells": [
  {
   "cell_type": "markdown",
   "metadata": {},
   "source": [
    "# Day 1 Reading Journal\n",
    "\n",
    "Hi everyone.  These are the exercises for the first set of readings from ThinkPython.  While this journal consists of several required exercises, it is meant to encourage active reading more generally.  You should use this journal to take detailed notes, catalog questions, and explore the content from ThinkPython deeply.\n",
    "\n",
    "For more information on using the Jupyter notebook, check out the documentation [here](http://nbviewer.jupyter.org/github/jupyter/notebook/blob/master/docs/source/examples/Notebook/Examples%20and%20Tutorials%20Index.ipynb).  Additionally, in order to write text in this document, you will be making use of markdown cells. A handy cheatsheet for markdown is available [here](https://github.com/adam-p/markdown-here/wiki/Markdown-Cheatsheet)."
   ]
  },
  {
   "cell_type": "markdown",
   "metadata": {},
   "source": [
    "## Chapter 1 Notes\n",
    "\n",
    "Note: the exercise numbers below match up with the reading for ease of cross referencing.\n",
    "\n",
    "My Notes: \n",
    "\n",
    "High level languages: C, C++, Perl, Java, and Python \n",
    "   -Disadvantage: greater processing time required for proper running\n",
    "   -Advangages: easier to program, easier to read, more often correct, portable (can run on    different kinds of computers.\n",
    "   -Almost all programs are written in high level languages. \n",
    "\n",
    "Low level (or machine/assembly) languages: languages that only computers can run. \n",
    "\n",
    "To convert a high level language into a low level language interpreters and compilers are necessary. \n",
    "\n",
    "Interpreters: process the program by reading lines and performing computations.\n",
    "         - Path: source code to interpreter to output. \n",
    "\n",
    "Complipilers: translates source code into object code (which \"hardware executors\" can run.) \n",
    "          - Path: source code (high level program) to compiler to object code (translated program)to executor to output (executable code.) \n",
    "          \n",
    "Python can be considered an interpretted language because Python programs are executed by an interpreter. \n",
    "\n",
    "Two ways to use an interpreter: interactive mode and script mode. \n",
    "\n",
    "Interactive mode: type programs and see the result. \n",
    "\n",
    "Chevron >>> is the propmt the interpreter uses to indicate readiness. \n",
    "  -You tell the interreter the file name \n",
    "  -Python scripts end in .py \n",
    "  -If you have a script named dinsdale.py and you are working in a UNIX command window \n",
    "  -Details of script execution are different in different programs. \n",
    "  \n",
    "  -Working in interactive mode is good for small pieces of code, but you should save anything more than a few lines \n",
    " \n",
    "A program is a sequence of instructions that describes how to compute something. \n",
    "  -Can be mathematical(polynomials etc.) or symbolic (searching and replacing text) \n",
    "  \n",
    "input: Getting data from a keyboard, file, or other device. \n",
    "\n",
    "output: Display data on the screen or send data to a file or other device. \n",
    "\n",
    "math: Perform basic mathematical operations like addition and multiplication. \n",
    "\n",
    "conditional execution: Check for certain conditions and execute the appropriate code. \n",
    "\n",
    "repetition: Perform some action repeatedly, usually with some variation. \n",
    "\n",
    "Debugging: programming errors are called bugs and the process of getting rid of them is debugging. \n",
    "\n",
    "Syntax errors \n",
    "   -Syntax refers to the structure of a program and the rules about that structure. \n",
    "   -If you mess up syntax python will give you an error message. \n",
    "   \n",
    "Runtime errors\n",
    "   -Runtime errors don't show up unti after the program has run. \n",
    "   -Indicate something really bad has happened. \n",
    "   \n",
    "Semantic errors \n",
    "   -Computer runs normally, but does not produce the right result. \n",
    "   -Mistake in writing the program. \n",
    "\n",
    "Natural lannguages are languages people speak (English, Spanish, and French) \n",
    "Formal languages - Designed for specific uses (legal, math, chemistry.) \n",
    "  -Programming langauges are formal languages that have been designed to express computation.\n",
    "  \n",
    "Token - basic elements of a language (words, chemicals, elements) \n",
    "\n",
    "Exercise 1.1. When, I was younger, I ate pi for breakfast. \n",
    "When I was younger, I ate pie for breakfast. \n",
    "\n",
    "Parsing - Figuring out what a structure is in formal language. \n",
    "\n",
    "ambiguity - Nataural languages are full of ambiguity, which people deal with by using contextual clues and other information. (Formal languages are developed to lack this.) \n",
    "\n",
    "redundancy - Natural languages use redundancy to make up for ambiguity (verbosity.) (Formal languages are more concise.) \n",
    "\n",
    "literalness - Natural languages are full of idiom. (Formal languages mean what they say.) \n",
    "\n",
    "Poetry - Natural languages use the sounds of words and ambiguity to create meaning. (Formal languages don't.) \n",
    "\n",
    "Prose - The literal meaning of words is mroe important and structure is meaningful. Often still ambiguous.\n",
    "\n",
    "Programs - The meaning of a computer program is unambiguous and literal and can be understood through analysis.\n",
    "   -More dense \n",
    "   -Learn to parse, not read normally.\n",
    "\n",
    "Print statement -pint 'Hello, World!' in python. (Python 3 uses parentheses) \n",
    "\n",
    "Debugging \n",
    "  -Make sure you're practicing. \n",
    "  -Don't leave out symbols.\n",
    "  -We respond to computers like they were people. They aren't.\n",
    "  \n",
    "  Practice:"
   ]
  },
  {
   "cell_type": "code",
   "execution_count": 1,
   "metadata": {
    "collapsed": false
   },
   "outputs": [
    {
     "ename": "SyntaxError",
     "evalue": "EOL while scanning string literal (<ipython-input-1-28fd03ca752e>, line 1)",
     "output_type": "error",
     "traceback": [
      "\u001b[1;36m  File \u001b[1;32m\"<ipython-input-1-28fd03ca752e>\"\u001b[1;36m, line \u001b[1;32m1\u001b[0m\n\u001b[1;33m    print \"Hello, World!\u001b[0m\n\u001b[1;37m                       ^\u001b[0m\n\u001b[1;31mSyntaxError\u001b[0m\u001b[1;31m:\u001b[0m EOL while scanning string literal\n"
     ]
    }
   ],
   "source": [
    "print \"Hello, World!"
   ]
  },
  {
   "cell_type": "code",
   "execution_count": 4,
   "metadata": {
    "collapsed": false
   },
   "outputs": [
    {
     "ename": "SyntaxError",
     "evalue": "invalid syntax (<ipython-input-4-814e88897e8f>, line 1)",
     "output_type": "error",
     "traceback": [
      "\u001b[1;36m  File \u001b[1;32m\"<ipython-input-4-814e88897e8f>\"\u001b[1;36m, line \u001b[1;32m1\u001b[0m\n\u001b[1;33m    print(Hello, World!)\u001b[0m\n\u001b[1;37m                      ^\u001b[0m\n\u001b[1;31mSyntaxError\u001b[0m\u001b[1;31m:\u001b[0m invalid syntax\n"
     ]
    }
   ],
   "source": [
    "print(Hello, World!)"
   ]
  },
  {
   "cell_type": "code",
   "execution_count": 2,
   "metadata": {
    "collapsed": false
   },
   "outputs": [
    {
     "name": "stdout",
     "output_type": "stream",
     "text": [
      "Hello, World!\n"
     ]
    }
   ],
   "source": [
    "print 'Hello, World!'"
   ]
  },
  {
   "cell_type": "code",
   "execution_count": 3,
   "metadata": {
    "collapsed": false
   },
   "outputs": [
    {
     "name": "stdout",
     "output_type": "stream",
     "text": [
      "Hello, World!\n"
     ]
    }
   ],
   "source": [
    "print('Hello, World!')"
   ]
  },
  {
   "cell_type": "markdown",
   "metadata": {},
   "source": [
    "### Exercise 3\n",
    "\n",
    "Type `help()` to start the online help utility. Or you can type help('print') to get information about the print statement.  You should type `q` and then hit `enter` in the text box to exit the help utility. \n",
    "\n",
    "Note: this exercise is pretty simple (and there's not much to put in the box)!  We just want to make sure that you have tried out this super-handy feature of Python!"
   ]
  },
  {
   "cell_type": "code",
   "execution_count": 5,
   "metadata": {
    "collapsed": false
   },
   "outputs": [
    {
     "name": "stdout",
     "output_type": "stream",
     "text": [
      "\n",
      "Welcome to Python 2.7!  This is the online help utility.\n",
      "\n",
      "If this is your first time using Python, you should definitely check out\n",
      "the tutorial on the Internet at http://docs.python.org/2.7/tutorial/.\n",
      "\n",
      "Enter the name of any module, keyword, or topic to get help on writing\n",
      "Python programs and using Python modules.  To quit this help utility and\n",
      "return to the interpreter, just type \"quit\".\n",
      "\n",
      "To get a list of available modules, keywords, or topics, type \"modules\",\n",
      "\"keywords\", or \"topics\".  Each module also comes with a one-line summary\n",
      "of what it does; to list the modules whose summaries contain a given word\n",
      "such as \"spam\", type \"modules spam\".\n",
      "\n",
      "help> \n",
      "\n",
      "You are now leaving help and returning to the Python interpreter.\n",
      "If you want to ask for help on a particular object directly from the\n",
      "interpreter, you can type \"help(object)\".  Executing \"help('string')\"\n",
      "has the same effect as typing a particular string at the help> prompt.\n"
     ]
    }
   ],
   "source": [
    "help()"
   ]
  },
  {
   "cell_type": "markdown",
   "metadata": {},
   "source": [
    "### Exercise 4  \n",
    "\n",
    "Start the Python interpreter and use it as a calculator. Python’s syntax for math operations is almost the same as standard mathematical notation. For example, the symbols +, - and / denote addition, subtraction and division, as you would expect. The symbol for multiplication is *.\n",
    "\n",
    "If you run a 10 kilometer race in 43 minutes 30 seconds, what is your average time per mile? What is your average speed in miles per hour? (Hint: there are 1.61 kilometers in a mile). "
   ]
  },
  {
   "cell_type": "code",
   "execution_count": 3,
   "metadata": {
    "collapsed": false
   },
   "outputs": [
    {
     "name": "stdout",
     "output_type": "stream",
     "text": [
      "0.116725 time/mile\n",
      "8.56714499893 miles/hour\n"
     ]
    }
   ],
   "source": [
    "t1 = (43.5/60+30/3600)/(10/1.61)\n",
    "print t1, 'time/mile'\n",
    "\n",
    "t2 = (10/1.61)/(43.5/60+30/3600)\n",
    "print t2, 'miles/hour'"
   ]
  },
  {
   "cell_type": "markdown",
   "metadata": {},
   "source": [
    "## Chapter 2\n",
    "\n",
    "value - a number/word. \n",
    "\n",
    "Types of values\n",
    "   -integer - 2 \n",
    "   -String - (words) - \"Hello, World!\" as well as '17' and '3.2'   \n",
    "   -Numbers with a decimal point are called 'float' as a result of floating point format.\n",
    "\n",
    "An interpreter can tell you which is which (string will appear as 'str' and integer will appear as 'int.') \n",
    "   -to find out use the 'type' command (type()) \n",
    "\n",
    "Don't use commas between third digits of large numbers. (It will show up as a separated sequence.) \n",
    "\n",
    "2.2 Variables \n",
    "\n",
    "Variable - a name that refers to a value \n",
    "Assignment statement - creates new variables \n",
    "Looks like >>> message = 9 or >>>> x = 5 \n",
    "\n",
    "A name with an arrow poiinting to a variable value is a state diagram. \n",
    "Such as >>> type(message)\n",
    "\n",
    "2.3 Variable Names and Keywords \n",
    "  -Variable names must start with a letter.\n",
    "  -Variables have illegal characters like @\n",
    "  -There's a lot of variation in variable names. \n",
    "  -Underscores can appear in extra long names.\n",
    "  -You get a syntax error if you write an illegal name.\n",
    "  -Keywords are illegal (list on page 13.) \n",
    "\n",
    "2.4 Operators and operands\n",
    "   -Operators are symbols that represent computations (addition, multiplication.) \n",
    "   -Operand - the value the operator is applied to.\n",
    "   -Floor division - When both operands are integers, floor division gets rid of the fraction part and rounds down. \n",
    "   -Float - the result of floor division.\n",
    "\n",
    "2.5 Expressions and statements\n",
    "   -Expression - a combination of values, variables, and operators.\n",
    "   -A value by itself can be considered an expression. \n",
    "   -Statement - a unit of code the interpreter can execute. \n",
    "   -An expression is also a statement. (Easier to think of them as different.) \n",
    "\n",
    "2.6 Interactive mode and script mode\n",
    "   -In script mode an expression alone has no visible effect, so you can test small bits of code before entering them.\n",
    "   -A script usually contains a sequence of statements. \n",
    "   -If there is more than one statement, the results appear one at a time as the statements execute. \n",
    "\n",
    "2.7 Order of operations \n",
    "  -Order of evaluation depends on rules of precedence\n",
    "  -Uses PEMDAS\n",
    "\n",
    "2.8 String operations \n",
    "   -You usually can't perform mathematical operations on strings \n",
    "   -The '+' operator works, but it performs concatenation (joining strings by linking them) \n",
    "   -The multiplication symbol performs repetition. \n",
    "   \n",
    "2.9 Comments \n",
    "   -Comments start with the # symbol\n",
    "   -Don't affect code. \n",
    "   \n",
    "2.10 Debugging\n",
    " -Choosing the wrong kind of name will result in \n",
    " -Trying to use a variable before assigning a value will result in \"use before def\"\n",
    " -Spelling a variable wrong will lead to an \"is not defined\" message.\n",
    " -Writing equations out wrong. "
   ]
  },
  {
   "cell_type": "markdown",
   "metadata": {},
   "source": [
    "### Exercise 2  \n",
    "\n",
    "Assume that we execute the following assignment statements:\n",
    "\n",
    "width = 17\n",
    "height = 12.0\n",
    "delimiter = '.'\n",
    "\n",
    "For each of the following expressions, write the value of the expression and the type (of the value of the expression).\n",
    "\n",
    "1. `width/2`\n",
    "2. `width/2.0`\n",
    "3. `height/3`\n",
    "4. `1 + 2 * 5`\n",
    "5. `delimiter * 5`\n",
    "\n",
    "Please use the following markdown cell to provide your answer."
   ]
  },
  {
   "cell_type": "markdown",
   "metadata": {},
   "source": [
    "1. 8 (As a result of how normal integer calculations cut off the fraction)\n",
    "2. 8.50 \n",
    "3. 4 \n",
    "4. 11 \n",
    "5. ..... (* means repetition for scripts) "
   ]
  },
  {
   "cell_type": "markdown",
   "metadata": {},
   "source": [
    "### Exercise 3  \n",
    "\n",
    "Practice using the Python interpreter as a calculator.  For each of these provide Python code that computes each answer.\n",
    "\n",
    "    \n"
   ]
  },
  {
   "cell_type": "markdown",
   "metadata": {},
   "source": [
    "The volume of a sphere with radius r is 4/3 $\\pi r^3$. What is the volume of a sphere with radius 5? Hint: 392.7 is wrong!"
   ]
  },
  {
   "cell_type": "code",
   "execution_count": 5,
   "metadata": {
    "collapsed": false
   },
   "outputs": [
    {
     "name": "stdout",
     "output_type": "stream",
     "text": [
      "523.598775598 units^3\n"
     ]
    }
   ],
   "source": [
    "from math import pi \n",
    "r = 5\n",
    "print (4/3.)*pi*(r**3), 'units^3'"
   ]
  },
  {
   "cell_type": "markdown",
   "metadata": {},
   "source": [
    "Suppose the cover price of a book is \\$24.95, but bookstores get a 40% discount. Shipping costs \\$3 for the first copy and 75 cents for each additional copy. What is the total wholesale cost for 60 copies?"
   ]
  },
  {
   "cell_type": "code",
   "execution_count": 7,
   "metadata": {
    "collapsed": false
   },
   "outputs": [
    {
     "name": "stdout",
     "output_type": "stream",
     "text": [
      "$ 850.95\n"
     ]
    }
   ],
   "source": [
    "price = (24.95*.6)\n",
    "int_shipping = 3\n",
    "print '$', 60.*price -(3.+(59.*.75))\n"
   ]
  },
  {
   "cell_type": "markdown",
   "metadata": {},
   "source": [
    "If I leave my house at 6:52 am and run 1 mile at an easy pace (8:15 per mile), then 3 miles at tempo (7:12 per mile) and 1 mile at easy pace again, what time do I get home for breakfast? "
   ]
  },
  {
   "cell_type": "code",
   "execution_count": 68,
   "metadata": {
    "collapsed": false,
    "scrolled": true
   },
   "outputs": [
    {
     "name": "stdout",
     "output_type": "stream",
     "text": [
      " 7 : 30 AM\n"
     ]
    }
   ],
   "source": [
    "time_minutes = ((2.*((60.*8.)+15.))+(3.*((60.*7.)+12.)))/60\n",
    "time_hours= ((52.+time_minutes)/60.)+6\n",
    "t = int(time_hours)\n",
    "m = int((time_hours%1)*60)\n",
    "print str(t),':','%02d'%m,'AM'"
   ]
  },
  {
   "cell_type": "markdown",
   "metadata": {},
   "source": [
    "## Chapter 3\n",
    "\n",
    "Function - a sequene of statements that computes something\n",
    " -You can call a function name after defining it \n",
    "-Function name = type, what's in parentheses - argument \n",
    "-Return value is a function's result \n",
    "-int converts values to integers, chopping off the end (decimal) of floating-point numbers\n",
    "-float converts integers to floating-point numbers\n",
    "\n",
    "3.3 Math functions \n",
    " -A module is a file with related functions\n",
    " -You have to import a module to use it\n",
    " -Dot notation - the name of the model.function name is used to access a function from a module. \n",
    " -math.pi brings up pi (to about 15 digits) \n",
    " -math.sqrt can be used for square roots\n",
    " -10 x math.log10(ratio) - computes a signal to noise ratio in decibels \n",
    " -math.sin(radians) - this finds the sin of radians \n",
    " \n",
    "3.4 Composition - one of the best parts of programming languages is that you can use them to compose things. \n",
    "\n",
    "3.5 Adding new functions \n",
    " -A function definition specifies the name of a new function and the sequence of statements that execute it. (def+function indicates it) \n",
    "   -Can't use keywords in a function, should avoid \n",
    "   -Empty parentheses after the name means the function doesn't take awny arguments \n",
    "   -first line of a function definition is the header. The rest is body. \n",
    "   -Header has to end with colon, body has to be indented\n",
    "   -Indentation is four spaces\n",
    "   -Strings in print statements are in double quotes. \n",
    "   -Single and double quotes do the same thing\n",
    "   -If you put function definition in interactive mode the interpreter prints ellipses(...) to let you know it isn't complete.\n",
    "   -To end a function you have an empty line (not needed in script.) \n",
    "  -A function object has type 'function.'\n",
    "  \n",
    "3.6 (skipped due to lack of new information.)\n",
    "\n",
    "3.7 Flow of Execution\n",
    "-Flow of execution - the order in which statements are executed. \n",
    "-Execution begins at the first statement of the program. \n",
    "-A function call is like a detour in the flow of execution (switches to a different function in the middle) -- you have to follow this when reading a function.) \n",
    "\n",
    "3.8 Parameters and arguments \n",
    "-When you call math.sin you pass a number as an argument.\n",
    "-Some functions take multiple arguments. \n",
    "-Argument's variables are called parameters. \n",
    "-Same rules used for built-in functions work for user-defined functions.\n",
    "-A variable can be used as an argument. \n",
    "-The variable does not have to do with the parameter (not necessarily.) \n",
    "\n",
    "3.9 \n",
    "   -Local variables exist only inside the function they were created in.\n",
    "   -Parameters are also local. \n",
    "   \n",
    "3.10 Stack Diagrams\n",
    "   -Stack diagrams show the value of each variable and the function they belong to. \n",
    "   -Stack diagrams are used to keep track of which variables are where. \n",
    "   -They trace the variables in functions, to put it a different way.\n",
    "   -Traceback - the list of functions (this can tell you where an error occurred. \n",
    "   \n",
    "3.11 Fruitful and void functions \n",
    "   -Fruitful functions yield results.\n",
    "   -Void functions perform an action without returning a value.\n",
    "\n",
    "3.12 Reasons for functions \n",
    "   -Give you an opportunity to name a group of statements\n",
    "   -Can make a program smaller by eliminating repetitive code \n",
    "   -Allows for debugging parts one at a time.\n",
    "   -Once you write and debug a function you can reuse it. \n",
    "   \n",
    "3.13 Importing with \"from\" \n",
    " -You have to import math to use anything in it, but trying to access variables directly afterwards will not work too well. \n",
    " -So use from math import pi (so you can access pi directly) \n",
    "\n",
    "3.14 Debugging \n",
    "  -You may run into problems with spaces and tabs\n",
    "  -Make sure you're running the right program (tip: print \"hello\" as a part of your program. If \"hello\" doesn't show up, you're not doing it right.\n",
    " \n",
    "\n",
    " "
   ]
  },
  {
   "cell_type": "markdown",
   "metadata": {},
   "source": [
    "### Exercise 3\n",
    "\n",
    "Python provides a built-in function called len that returns the length of a string, so the value of len('allen') is 5.\n",
    "Write a function named right_justify that takes a string named s as a parameter and prints the string with enough leading spaces so that the last letter of the string is in column 70 of the display.\n",
    "\n",
    "```\n",
    ">>> right_justify('allen')\n",
    "                                                                 allen```"
   ]
  },
  {
   "cell_type": "code",
   "execution_count": 8,
   "metadata": {
    "collapsed": false
   },
   "outputs": [
    {
     "name": "stdout",
     "output_type": "stream",
     "text": [
      "                                                                 allen\n"
     ]
    }
   ],
   "source": [
    "def right_justify( s ):\n",
    "    print (' '*(70-len(s)))+s\n",
    "    \n",
    "s = 'allen'\n",
    "\n",
    "right_justify(s)\n",
    "\n",
    "\n"
   ]
  },
  {
   "cell_type": "markdown",
   "metadata": {},
   "source": [
    "### Exercise 5\n",
    "\n",
    "This exercise can be done using only the statements and other features we have learned so far.\n",
    "\n",
    "(a) Write a function that draws a grid like the following:\n",
    "```\n",
    "+ - - - - + - - - - +\n",
    "|         |         |\n",
    "|         |         |\n",
    "|         |         |\n",
    "|         |         |\n",
    "+ - - - - + - - - - +\n",
    "|         |         |\n",
    "|         |         |\n",
    "|         |         |\n",
    "|         |         |\n",
    "+ - - - - + - - - - +\n",
    "```\n",
    "**Hint:** to print more than one value on a line, you can print a comma-separated sequence:\n",
    "print '+', '-'\n",
    "If the sequence ends with a comma, Python leaves the line unfinished, so the value printed next appears on the same line.\n",
    "print '+', \n",
    "print '-'\n",
    "The output of these statements is '+ -'.\n",
    "A print statement all by itself ends the current line and goes to the next line."
   ]
  },
  {
   "cell_type": "code",
   "execution_count": 87,
   "metadata": {
    "collapsed": false
   },
   "outputs": [
    {
     "name": "stdout",
     "output_type": "stream",
     "text": [
      "+ - - - - + - - - - +\n",
      "|         |         |\n",
      "|         |         |\n",
      "|         |         |\n",
      "|         |         |\n",
      "+ - - - - + - - - - +\n",
      "|         |         |\n",
      "|         |         |\n",
      "|         |         |\n",
      "|         |         |\n",
      "+ - - - - + - - - - +\n"
     ]
    }
   ],
   "source": [
    "def grid_function():\n",
    "   print '+ - - - - + - - - - +'\n",
    "   print '|'+' '*9+'|'+' '*9+'|'\n",
    "   print '|'+' '*9+'|'+' '*9+'|'\n",
    "   print '|'+' '*9+'|'+' '*9+'|'\n",
    "   print '|'+' '*9+'|'+' '*9+'|'\n",
    "   print '+ - - - - + - - - - +'\n",
    "   print '|'+' '*9+'|'+' '*9+'|'\n",
    "   print '|'+' '*9+'|'+' '*9+'|'\n",
    "   print '|'+' '*9+'|'+' '*9+'|'\n",
    "   print '|'+' '*9+'|'+' '*9+'|'\n",
    "   print '+ - - - - + - - - - +'\n",
    "grid_function()"
   ]
  },
  {
   "cell_type": "markdown",
   "metadata": {},
   "source": [
    "(b) Write a function that draws a similar grid with four rows and four columns."
   ]
  },
  {
   "cell_type": "code",
   "execution_count": 89,
   "metadata": {
    "collapsed": false
   },
   "outputs": [
    {
     "name": "stdout",
     "output_type": "stream",
     "text": [
      "+ - - - - + - - - - + - - - - + - - - - +\n",
      "|         |         |         |         |\n",
      "|         |         |         |         |\n",
      "|         |         |         |         |\n",
      "|         |         |         |         |\n",
      "+ - - - - + - - - - + - - - - + - - - - +\n",
      "|         |         |         |         |\n",
      "|         |         |         |         |\n",
      "|         |         |         |         |\n",
      "|         |         |         |         |\n",
      "+ - - - - + - - - - + - - - - + - - - - +\n",
      "|         |         |         |         |\n",
      "|         |         |         |         |\n",
      "|         |         |         |         |\n",
      "|         |         |         |         |\n",
      "+ - - - - + - - - - + - - - - + - - - - +\n",
      "|         |         |         |         |\n",
      "|         |         |         |         |\n",
      "|         |         |         |         |\n",
      "|         |         |         |         |\n",
      "+ - - - - + - - - - + - - - - + - - - - +\n"
     ]
    }
   ],
   "source": [
    "def grid_function2():\n",
    "   print '+ - - - - + - - - - + - - - - + - - - - +'\n",
    "   print '|'+' '*9+'|'+' '*9+'|'+' '*9+'|'+' '*9+'|'\n",
    "   print '|'+' '*9+'|'+' '*9+'|'+' '*9+'|'+' '*9+'|'\n",
    "   print '|'+' '*9+'|'+' '*9+'|'+' '*9+'|'+' '*9+'|'\n",
    "   print '|'+' '*9+'|'+' '*9+'|'+' '*9+'|'+' '*9+'|'\n",
    "   print '+ - - - - + - - - - + - - - - + - - - - +'\n",
    "   print '|'+' '*9+'|'+' '*9+'|'+' '*9+'|'+' '*9+'|'\n",
    "   print '|'+' '*9+'|'+' '*9+'|'+' '*9+'|'+' '*9+'|'\n",
    "   print '|'+' '*9+'|'+' '*9+'|'+' '*9+'|'+' '*9+'|'\n",
    "   print '|'+' '*9+'|'+' '*9+'|'+' '*9+'|'+' '*9+'|'\n",
    "   print '+ - - - - + - - - - + - - - - + - - - - +'\n",
    "   print '|'+' '*9+'|'+' '*9+'|'+' '*9+'|'+' '*9+'|'\n",
    "   print '|'+' '*9+'|'+' '*9+'|'+' '*9+'|'+' '*9+'|'\n",
    "   print '|'+' '*9+'|'+' '*9+'|'+' '*9+'|'+' '*9+'|'\n",
    "   print '|'+' '*9+'|'+' '*9+'|'+' '*9+'|'+' '*9+'|'\n",
    "   print '+ - - - - + - - - - + - - - - + - - - - +'  \n",
    "   print '|'+' '*9+'|'+' '*9+'|'+' '*9+'|'+' '*9+'|'\n",
    "   print '|'+' '*9+'|'+' '*9+'|'+' '*9+'|'+' '*9+'|'\n",
    "   print '|'+' '*9+'|'+' '*9+'|'+' '*9+'|'+' '*9+'|'\n",
    "   print '|'+' '*9+'|'+' '*9+'|'+' '*9+'|'+' '*9+'|'\n",
    "   print '+ - - - - + - - - - + - - - - + - - - - +'\n",
    "grid_function2()"
   ]
  },
  {
   "cell_type": "markdown",
   "metadata": {},
   "source": [
    "## Chapter 5.1 - 5.7\n",
    "\n",
    "5.1 Modulus Operator \n",
    "   -Works on integers and yields the remainder when the first operand is divided by the second \n",
    "   -You can choose to print \n",
    "   -You can check whether one number is divisible by another. \n",
    "\n",
    "5.2 Boolean expressions \n",
    "   -Boolean expression is an expression that is either true or false. \n",
    "   -Can be written with == \n",
    "   -True and false belong to type bool \n",
    "   -Look at page 42 for other booleon searches (bigger than, less than, less than or equal to, not equal to...) \n",
    "   -There is no => or =<. \n",
    "   -Remember = means assignment and == is relational.\n",
    "\n",
    "5.3 Logical Operators \n",
    "   -Three logical operators exist: and, or, and not \n",
    "   -Semantics are similar to english\n",
    "   -the not operator negates a booleon expression (makes x>y is false if it is normally \n",
    "   -Any nonzero number is interpreted as true \n",
    "   -May want to avoid using this trick if you don't understand it. \n",
    "   \n",
    "5.4 Conditional execution\n",
    "   -Conditional statements allow you to check behaviors and conditions.\n",
    "   -A booleon expression after \"if\" is the condition\n",
    "   -Compound statements-if statements have the same structure as function definitions: a header followed by an indented body\n",
    "   -there has to be a limit\n",
    "   -it is occasionally useful to have a body with no statements (usully as a place keeper for code you haven'r written.) \n",
    "   -In this case you can use the \"pass statement\" which does nothing.\n",
    "   \n",
    "5.5 Alternative execution\n",
    "   -Alternative execution - in which there are two possibilities and the condidtion determines which one gets executed \n",
    "   -(if else statement) \n",
    "   -elif is an abbreviation of \"else if\"\n",
    "   -No limit of the number elif statements \n",
    "\n",
    "5.6 Chained conditionals\n",
    "   -Chained conditionals express computations in which we need more than two branches. \n",
    "   -There is no limit on the number of elif statements. \n",
    "   -If there is an else statement it has to be at the end. \n",
    "   -Each condition is checked in order \n",
    "   -If more than one branch is true only the first true executes.\n",
    "\n",
    "5.7 Nested conditionals\n",
    "  -Nested conditionals are possible, but hard to read. \n",
    "  -The outcome is only possible if both conditionals are passed. "
   ]
  },
  {
   "cell_type": "markdown",
   "metadata": {},
   "source": [
    "### Exercise 3  \n",
    "\n",
    "Fermat’s Last Theorem says that there are no positive integers a, b, and c such that $a^n + b^n = c^n$ for any values of n greater than 2.\n",
    "\n",
    "(a) Write a function named `check_fermat` that takes four parameters—a, b, c and n—and that checks to see if Fermat’s theorem holds. If n is greater than 2 and it turns out to be true that\n",
    "$a^n + b^n = c^n$ the program should print, \"Holy smokes, Fermat was wrong!\" Otherwise the program should print, \"No, that doesn’t work.\""
   ]
  },
  {
   "cell_type": "code",
   "execution_count": 9,
   "metadata": {
    "collapsed": false
   },
   "outputs": [
    {
     "name": "stdout",
     "output_type": "stream",
     "text": [
      "No, that doesn't work.\n"
     ]
    }
   ],
   "source": [
    "def check_fermat(a,b,c,n):\n",
    "    if (n>2):\n",
    "        if a**n+b**n == c**n:\n",
    "            print \"Holy smokes, Fermat was wrong!\" \n",
    "        else:\n",
    "            print \"No, that doesn't work.\"\n",
    "    else: \n",
    "        print 'n<2'\n",
    "\n",
    "check_fermat(1,2,3,4)"
   ]
  },
  {
   "cell_type": "markdown",
   "metadata": {},
   "source": [
    "(b) Write a function that prompts the user to input values for a, b, c and n, converts them to integers, and uses check_fermat to check whether they violate Fermat’s theorem."
   ]
  },
  {
   "cell_type": "code",
   "execution_count": 24,
   "metadata": {
    "collapsed": false
   },
   "outputs": [
    {
     "name": "stdout",
     "output_type": "stream",
     "text": [
      "Insert a, please.1\n",
      "Insert b, please.3\n",
      "Insert c, please.4\n",
      "Insert n, please.5\n",
      "No, that doesn't work.\n"
     ]
    }
   ],
   "source": [
    "input = raw_input(\"Insert a, please.\")\n",
    "a = int(input) \n",
    "input = raw_input(\"Insert b, please.\")\n",
    "b = int(input)\n",
    "input = raw_input(\"Insert c, please.\")\n",
    "c = int(input)\n",
    "input = raw_input(\"Insert n, please.\")\n",
    "n = int(input)\n",
    "check_fermat(int(a),int(b),int(c),int(n))"
   ]
  },
  {
   "cell_type": "markdown",
   "metadata": {},
   "source": [
    "### Exercise 4  \n",
    "\n",
    "If you are given three sticks, you may or may not be able to arrange them in a triangle. For example, if one of the sticks is 12 inches long and the other two are one inch long, it is clear that you will not be able to get the short sticks to meet in the middle. For any three lengths, there is a simple test to see if it is possible to form a triangle:\n",
    "> If any of the three lengths is greater than the sum of the other two, then you cannot form a triangle. Otherwise, you can. (If the sum of two lengths equals the third, they form what is called a “degenerate” triangle.)\n",
    "\n",
    "(a) Write a function named `is_triangle` that takes three integers as arguments, and that prints either \"Yes\" or \"No,\" depending on whether you can or cannot form a triangle from sticks with the given lengths."
   ]
  },
  {
   "cell_type": "code",
   "execution_count": 39,
   "metadata": {
    "collapsed": false
   },
   "outputs": [
    {
     "name": "stdout",
     "output_type": "stream",
     "text": [
      "Yes.\n"
     ]
    }
   ],
   "source": [
    "def is_triangle(a,b,c):\n",
    "    if a+b>c and c+b>a and c+a>b:\n",
    "        print \"Yes.\"\n",
    "    else:\n",
    "        print \"No.\"\n",
    "is_triangle(3,3,3)\n"
   ]
  },
  {
   "cell_type": "markdown",
   "metadata": {},
   "source": [
    "(b) Write a function that prompts the user to input three stick lengths, converts them to integers, and uses is_triangle to check whether sticks with the given lengths can form a triangle."
   ]
  },
  {
   "cell_type": "code",
   "execution_count": 45,
   "metadata": {
    "collapsed": false
   },
   "outputs": [
    {
     "name": "stdout",
     "output_type": "stream",
     "text": [
      "Insert a. 1\n",
      "Insert b. 2\n",
      "Insert c. 1\n",
      "No.\n"
     ]
    }
   ],
   "source": [
    "a = raw_input(\"Insert a. \")\n",
    "b = raw_input(\"Insert b. \")\n",
    "c = raw_input(\"Insert c. \")\n",
    "\n",
    "is_triangle(int(a), int(b), int(c))\n"
   ]
  },
  {
   "cell_type": "markdown",
   "metadata": {},
   "source": [
    "### Notes for the Instructors\n",
    "\n",
    "The raw_input seemed to be in 5.11, so it may have been worth having us read that section. \n",
    "\n",
    "Otherwise, I enjoy using jupyter. \n"
   ]
  },
  {
   "cell_type": "markdown",
   "metadata": {},
   "source": []
  }
 ],
 "metadata": {
  "kernelspec": {
   "display_name": "Python 2",
   "language": "python",
   "name": "python2"
  },
  "language_info": {
   "codemirror_mode": {
    "name": "ipython",
    "version": 2
   },
   "file_extension": ".py",
   "mimetype": "text/x-python",
   "name": "python",
   "nbconvert_exporter": "python",
   "pygments_lexer": "ipython2",
   "version": "2.7.6"
  }
 },
 "nbformat": 4,
 "nbformat_minor": 0
}
