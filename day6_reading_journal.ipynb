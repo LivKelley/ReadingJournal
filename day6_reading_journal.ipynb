{
 "cells": [
  {
   "cell_type": "markdown",
   "metadata": {},
   "source": [
    "# Day 6 Reading Journal\n",
    "\n",
    "This journal includes several required exercises, but it is meant to encourage active reading more generally.  You should use the journal to take detailed notes, catalog questions, and explore the content from Think Python deeply.\n",
    "\n",
    "Reading: Think Python Chapter 5.8-5.14, 6.5-6.11\n",
    "\n",
    "**Due: Thursday, February 11 at 12 noon**\n",
    "\n"
   ]
  },
  {
   "cell_type": "markdown",
   "metadata": {},
   "source": [
    "## [Chapter 5.8 - 5.14](http://www.greenteapress.com/thinkpython/html/thinkpython006.html)\n",
    "\n",
    "[Python Tutor](http://pythontutor.com/) can be helpful for visualizing stack diagrams, including for recursive execution.\n",
    "\n",
    "Chapter 5 leads into Chapter 6, and all the required exercises for this reading are in the Chapter 6 section.\n",
    "\n",
    "Notes: \n",
    "\n",
    "5.8 Recursion \n",
    "\n",
    "-One function can call itself. \n",
    "-This turns out to be one of the most magical things a program can do. \n",
    "-If n is 0 or negative for the example here: it ouputs: (See first example below) \n",
    "-It starts at n = 3 and since n is greater than 0, it outputs the value of 3 and then calls itself. \n",
    "-Should show 3, 2, 1 Blastoff --- but it never stops calling itself. \n",
    "-This function is recursive and the process is called recursion. \n",
    "-For simple examples of recursion use for loops. \n",
    "\n",
    "5.9 Stack diagrams for recursive functions. \n",
    "-Everytime a function is called, python makes a new frame containing local variables and parameters. \n",
    "-There might be more than one frame on the stack at any given time. \n",
    "-The top of the stack is the frame for main This is empty because we did not pass any variables into it. \n",
    "-Base case - the bottom of a stack. It doesn't make a recursive call, so there are no more frames. \n",
    "\n",
    "5.10 Infinite Recursion \n",
    "\n",
    "-Infinite recursion - when a base case is never reached and therefore the program never terminates. \n",
    "-A program wiht infinite recursion does not really run forever. (Python will usually print error cases)\n",
    "-There are 1000 recurse frames on the stack when the error occurs. \n",
    "\n",
    "5.11 Keyboard Input\n",
    "-raw_input is the program that gets input. \n",
    " -Called input in python 3. \n",
    "-When the user presses Return or Enter, the program resumes and raw_input returns what the user typed as a string. \n",
    "-It is a good idea to prompt a user using a string within raw input. \n",
    "-\\n represents a newline (causes a line break.) \n",
    "-If the user types in something other than a string of digits, it will yield an error. \n",
    "\n",
    "5.12 Debugging \n",
    "-Traceback shows when an error occurs, but can be overwhelming when there are many frames. \n",
    "-Most important things are what error it was, and where it occurs. \n",
    "-Syntax errors are often easy to find. \n",
    "-Whitespace errors can be tricky because we are used to ignoring spaces. \n",
    "-Runtime errors are also hard ot find. \n",
    "-Often error messages show where something was discovered, but not what caused it. \n",
    "\n",
    "5.13 is glossary terms. \n",
    "\n",
    "5.14 is exercises."
   ]
  },
  {
   "cell_type": "code",
   "execution_count": 1,
   "metadata": {
    "collapsed": false
   },
   "outputs": [
    {
     "ename": "SyntaxError",
     "evalue": "'break' outside loop (<ipython-input-1-b3cde2e038a5>, line 4)",
     "output_type": "error",
     "traceback": [
      "\u001b[1;36m  File \u001b[1;32m\"<ipython-input-1-b3cde2e038a5>\"\u001b[1;36m, line \u001b[1;32m4\u001b[0m\n\u001b[1;33m    break\u001b[0m\n\u001b[1;31mSyntaxError\u001b[0m\u001b[1;31m:\u001b[0m 'break' outside loop\n"
     ]
    }
   ],
   "source": [
    "def countdown(n):\n",
    "    if n <= 0: \n",
    "        print 'Blastoff!' \n",
    "    else: \n",
    "        print n \n",
    "    countdown(n-1)\n",
    "\n",
    "countdown(3) \n",
    "#I think I accidentally created an infinite recursion here, but I don't know how to fix that."
   ]
  },
  {
   "cell_type": "code",
   "execution_count": null,
   "metadata": {
    "collapsed": true
   },
   "outputs": [],
   "source": []
  },
  {
   "cell_type": "markdown",
   "metadata": {},
   "source": [
    "## [Chapter 6.5 - 6.11](http://www.greenteapress.com/thinkpython/html/thinkpython007.html)\n",
    "\n",
    "Notes: \n",
    "\n",
    "6.5 More Recursion\n",
    "-Subset is a complete progrmming language, anything computed can be expressed through this. \n",
    "-If you can write a recursive definition of something, you can usually write a python program to evaluate it. \n",
    "-The first step is to decide parameters. \n",
    "-Stack diagrams look like a series of function calls. \n",
    "\n",
    "6.6 Leap of Faith\n",
    "-Leap of faith is an alternative to following the flow of executions. \n",
    "-When you call math.cos or math.exp you don't examine their bodies, you assumme they work because they were given. \n",
    "-Same should be true for calling one of your working functions. \n",
    "-We wrote is_divisible that determines whether one number is divisible by another. \n",
    " -When we're convinced the function called is incorrect we go back and look at it. \n",
    "-Assume the recursive function works. \n",
    "\n",
    "6.7 One more example\n",
    "\n",
    "-the most common example of a recursively defined mathematical function is fibonacci. \n",
    "-if you try to follow the flow of execution, even for fairly small values of n, your head explodes. \n",
    "\n",
    "6.8 Checking Types\n",
    "-If we call factorial and give it 1.5 it looks like an infinite recursion. \n",
    "-If n is not an integer, we miss the base case and recurse forever. \n",
    "-We can either generalize the factorial function to work with floating-point numbers or make the factorial check this kind of arugment. \n",
    "-Insistance - the built in function to verify the type of argument. \n",
    "-Guardian - when the first two conditionals are guardidans protecting the code that follows from values that could cause error. \n",
    "\n",
    "6.9 Debugging \n",
    "\n",
    "-Breaking a large program into smaller function creates natural checkpoints for debugging. \n",
    "-Check for: \n",
    "-There is something wrong with the arguments the function is getting. \n",
    "-There is something wrong with the function, a postcondition is violated. \n",
    "-There is something wrong with the return value/how it's used. \n",
    "-Add a print statement toward the beginning to check preconditions. \n",
    "-If they look good, add a print statement before each return statement that displays the return value. \n",
    "-Check the results by hand. \n",
    "-If the function seems to be working, look at the function call to make sure the value is used correctly/at all. \n",
    "\n",
    "6.10 Glossary\n",
    "\n",
    "6.11 Exercises. "
   ]
  },
  {
   "cell_type": "markdown",
   "metadata": {
    "is_question": true,
    "problem": "Exercise 6.4"
   },
   "source": [
    "### Exercise 4  \n",
    "\n",
    "Draw a stack diagram for the following program. What does the program print? \n",
    "\n",
    "You can do this on paper, using [Python Tutor](http://pythontutor.com/), or with [Lumpy](http://www.greenteapress.com/thinkpython/swampy/) as used in [Allen's solution](http://thinkpython.com/code/stack_diagram.py)."
   ]
  },
  {
   "cell_type": "code",
   "execution_count": 17,
   "metadata": {
    "collapsed": false,
    "solution": "Exercise 6.4"
   },
   "outputs": [
    {
     "name": "stdout",
     "output_type": "stream",
     "text": [
      "9 90\n",
      "8100\n"
     ]
    }
   ],
   "source": [
    "def b(z):\n",
    "    prod = a(z, z)\n",
    "    print z, prod\n",
    "    return prod\n",
    "\n",
    "def a(x, y):\n",
    "    x = x + 1\n",
    "    return x * y\n",
    "\n",
    "def c(x, y, z):\n",
    "    total = x + y + z\n",
    "    square = b(total)**2\n",
    "    return square\n",
    "\n",
    "x = 1\n",
    "y = x + 1\n",
    "print c(x, y+3, x+y)"
   ]
  },
  {
   "cell_type": "code",
   "execution_count": null,
   "metadata": {
    "collapsed": true
   },
   "outputs": [],
   "source": [
    "##Link to my stack diagram: https://docs.google.com/document/d/10owg4icNY4Wq9W-4o9G-koQwtKqyBbNhSRRQQTQQWHk/edit?usp=sharing\n",
    "## The program prints c of x, y+3, and x+y (see how in stack diagram (because they go through other functions).) "
   ]
  },
  {
   "cell_type": "markdown",
   "metadata": {
    "is_question": true,
    "problem": "Exercise 6.6"
   },
   "source": [
    "### Exercise 6  \n",
    "\n",
    "A palindrome is a word that is spelled the same backward and forward, like “noon” and “redivider”. Recursively, a word is a palindrome if the first and last letters are the same and the middle is a palindrome.\n",
    "\n",
    "You can use the `first`, `last`, and `middle` helper functions defined in Think Python, or do the string slices inside your function directly. Be sure to think about your base cases.\n",
    "    \n",
    "Write a function called `is_palindrome` that takes a string argument and returns `True` if it is a palindrome and `False` otherwise. Remember that you can use the built-in function `len` to check the length of a string.\n",
    "\n",
    "Write some unit tests for your function (optionally using doctest) to show that it works as intended."
   ]
  },
  {
   "cell_type": "code",
   "execution_count": 18,
   "metadata": {
    "collapsed": false,
    "solution": "Exercise 6.6"
   },
   "outputs": [
    {
     "name": "stdout",
     "output_type": "stream",
     "text": [
      "**********************************************************************\n",
      "File \"__main__\", line 6, in __main__.is_palindrome\n",
      "Failed example:\n",
      "    is_palindrome (\"MADAMIMADAM\")\n",
      "Expected:\n",
      "    True \n",
      "Got:\n",
      "    True\n",
      "**********************************************************************\n",
      "File \"__main__\", line 8, in __main__.is_palindrome\n",
      "Failed example:\n",
      "    is_palindrome(\"MADAMI'MADAM\")\n",
      "Expected:\n",
      "    False \n",
      "Got:\n",
      "    False\n",
      "**********************************************************************\n",
      "File \"__main__\", line 6, in __main__.is_palindrome2\n",
      "Failed example:\n",
      "    is_palindrome (\"MADAMIMADAM\")\n",
      "Expected:\n",
      "    True \n",
      "Got:\n",
      "    True\n",
      "**********************************************************************\n",
      "File \"__main__\", line 8, in __main__.is_palindrome2\n",
      "Failed example:\n",
      "    is_palindrome(\"MADAMI'MADAM\")\n",
      "Expected:\n",
      "    False \n",
      "Got:\n",
      "    False\n",
      "**********************************************************************\n",
      "2 items had failures:\n",
      "   2 of   5 in __main__.is_palindrome\n",
      "   2 of   5 in __main__.is_palindrome2\n",
      "***Test Failed*** 4 failures.\n"
     ]
    },
    {
     "data": {
      "text/plain": [
       "TestResults(failed=4, attempted=10)"
      ]
     },
     "execution_count": 18,
     "metadata": {},
     "output_type": "execute_result"
    }
   ],
   "source": [
    "import doctest\n",
    "\n",
    "def is_palindrome2 (x): \n",
    "    \n",
    "    \"\"\" \n",
    "    This function is meant to show True if the string is a palindrome and False if it is not.\n",
    "    >>> is_palindrome (\"MADAMIMADAM\")\n",
    "    True \n",
    "    >>> is_palindrome(\"MADAMI'MADAM\")\n",
    "    False \n",
    "    >>> is_palindrome(\"horse\")\n",
    "    False\n",
    "    >>> is_palindrome(\"\")\n",
    "    True\n",
    "    >>> is_palindrome(\".\")\n",
    "    True\n",
    "    \"\"\"\n",
    "    a = list(x)\n",
    "    \n",
    "    last_string = '' \n",
    "    for i in x: \n",
    "        last_string+=(a[-1]) \n",
    "        del a[-1]\n",
    "    last_string\n",
    "    \n",
    "    if x == last_string:\n",
    "        return True \n",
    "    else:\n",
    "        return False\n",
    "    \n",
    "is_palindrome2 (\".\")\n",
    "\n",
    "doctest.testmod()"
   ]
  },
  {
   "cell_type": "code",
   "execution_count": 19,
   "metadata": {
    "collapsed": false
   },
   "outputs": [
    {
     "name": "stdout",
     "output_type": "stream",
     "text": [
      "**********************************************************************\n",
      "File \"__main__\", line 6, in __main__.is_palindrome\n",
      "Failed example:\n",
      "    is_palindrome (\"MADAMIMADAM\")\n",
      "Expected:\n",
      "    True \n",
      "Got:\n",
      "    True\n",
      "**********************************************************************\n",
      "File \"__main__\", line 8, in __main__.is_palindrome\n",
      "Failed example:\n",
      "    is_palindrome(\"MADAMI'MADAM\")\n",
      "Expected:\n",
      "    False \n",
      "Got:\n",
      "    False\n",
      "**********************************************************************\n",
      "File \"__main__\", line 6, in __main__.is_palindrome2\n",
      "Failed example:\n",
      "    is_palindrome (\"MADAMIMADAM\")\n",
      "Expected:\n",
      "    True \n",
      "Got:\n",
      "    True\n",
      "**********************************************************************\n",
      "File \"__main__\", line 8, in __main__.is_palindrome2\n",
      "Failed example:\n",
      "    is_palindrome(\"MADAMI'MADAM\")\n",
      "Expected:\n",
      "    False \n",
      "Got:\n",
      "    False\n",
      "**********************************************************************\n",
      "2 items had failures:\n",
      "   2 of   5 in __main__.is_palindrome\n",
      "   2 of   5 in __main__.is_palindrome2\n",
      "***Test Failed*** 4 failures.\n"
     ]
    },
    {
     "data": {
      "text/plain": [
       "TestResults(failed=4, attempted=10)"
      ]
     },
     "execution_count": 19,
     "metadata": {},
     "output_type": "execute_result"
    }
   ],
   "source": [
    "import doctest\n",
    "\n",
    "def is_palindrome (x): \n",
    "    \n",
    "    \"\"\" \n",
    "    This function is meant to show True if the string is a palindrome and False if it is not.\n",
    "    >>> is_palindrome (\"MADAMIMADAM\")\n",
    "    True \n",
    "    >>> is_palindrome(\"MADAMI'MADAM\")\n",
    "    False \n",
    "    >>> is_palindrome(\"horse\")\n",
    "    False\n",
    "    >>> is_palindrome(\"\")\n",
    "    True\n",
    "    >>> is_palindrome(\".\")\n",
    "    True\n",
    "    \"\"\"\n",
    "    if x == \"\": \n",
    "        return True\n",
    "    else:\n",
    "        if x[0] == x[-1]:\n",
    "            return is_palindrome(x[1:-1])\n",
    "        else: \n",
    "            return False\n",
    "\n",
    "doctest.testmod()"
   ]
  },
  {
   "cell_type": "markdown",
   "metadata": {
    "is_question": true,
    "problem": "Exercise 6.6 challenge"
   },
   "source": [
    "### Challenge (optional)\n",
    "\n",
    "Use the word list from [Chapter 9.1](http://www.greenteapress.com/thinkpython/html/thinkpython010.html) Exercise 1 to find all of the palindromes."
   ]
  },
  {
   "cell_type": "code",
   "execution_count": null,
   "metadata": {
    "collapsed": true,
    "solution": "Exercise 6.6 challenge"
   },
   "outputs": [],
   "source": []
  },
  {
   "cell_type": "markdown",
   "metadata": {
    "is_question": true,
    "problem": "Exercise 6.7"
   },
   "source": [
    "### Exercise 7  \n",
    "\n",
    "A number `a` is a power of `b` if it is divisible by `b` and `a/b` is a power of `b`. Write a function called `is_power` that takes parameters `a` and `b` and returns `True` if `a` is a power of `b`. Note: you will have to think about the base case."
   ]
  },
  {
   "cell_type": "code",
   "execution_count": 20,
   "metadata": {
    "collapsed": false,
    "solution": "Exercise 6.7"
   },
   "outputs": [
    {
     "data": {
      "text/plain": [
       "True"
      ]
     },
     "execution_count": 20,
     "metadata": {},
     "output_type": "execute_result"
    }
   ],
   "source": [
    "def is_power(a, b):\n",
    "    \n",
    "    if a == b: \n",
    "        return True \n",
    "    else:\n",
    "        if a%b == 0: \n",
    "            return is_power(a/b, b)\n",
    "        else: \n",
    "            return False \n",
    "    \n",
    "        \n",
    "is_power(512, 2) "
   ]
  },
  {
   "cell_type": "markdown",
   "metadata": {
    "is_question": true,
    "problem": "Exercise 6.8"
   },
   "source": [
    "### Challenge (optional) - Exercise 8  \n",
    "\n",
    "The greatest common divisor (GCD) of `a` and `b` is the largest number that divides both of them with no remainder.\n",
    "\n",
    "One way to find the GCD of two numbers is based on the observation that if `r` is the remainder when `a` is divided by `b`, then `gcd(a, b) = gcd(b, r)`. As a base case, we can use `gcd(a, 0) = a`.\n",
    "\n",
    "Write a function called `gcd` that takes parameters `a` and `b` and returns their greatest common divisor."
   ]
  },
  {
   "cell_type": "code",
   "execution_count": null,
   "metadata": {
    "collapsed": true,
    "problem": "Exercise 6.8"
   },
   "outputs": [],
   "source": []
  },
  {
   "cell_type": "markdown",
   "metadata": {},
   "source": [
    "## Reading Journal feedback\n",
    "\n",
    "Have any comments on this Reading Journal? Feel free to leave them below and we'll read them when you submit your journal entry. This could include suggestions to improve the exercises, topics you'd like to see covered in class next time, or other feedback.\n",
    "\n",
    "If you have Python questions or run into problems while completing the reading, you should post them to Piazza instead so you can get a quick response before your journal is submitted."
   ]
  },
  {
   "cell_type": "markdown",
   "metadata": {
    "feedback_response": true
   },
   "source": [
    "It wasn't clear on the second required question that a recursive function was needed."
   ]
  }
 ],
 "metadata": {
  "kernelspec": {
   "display_name": "Python 2",
   "language": "python",
   "name": "python2"
  },
  "language_info": {
   "codemirror_mode": {
    "name": "ipython",
    "version": 2
   },
   "file_extension": ".py",
   "mimetype": "text/x-python",
   "name": "python",
   "nbconvert_exporter": "python",
   "pygments_lexer": "ipython2",
   "version": "2.7.6"
  }
 },
 "nbformat": 4,
 "nbformat_minor": 0
}
