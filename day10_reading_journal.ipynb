{
 "cells": [
  {
   "cell_type": "markdown",
   "metadata": {},
   "source": [
    "# Day 10 Reading Journal\n",
    "\n",
    "This journal includes several required exercises, but it is meant to encourage active reading more generally.  You should use the journal to take detailed notes, catalog questions, and explore the content from Think Python deeply.\n",
    "\n",
    "Reading: Think Python Chapter 16, 17\n",
    "\n",
    "**Due: Thursday, February 25 at 12 noon**\n",
    "\n"
   ]
  },
  {
   "cell_type": "markdown",
   "metadata": {},
   "source": [
    "## [Chapter 16](http://www.greenteapress.com/thinkpython/html/thinkpython017.html)\n",
    "\n",
    "16.1 Time \n",
    "- Time is another user-defined type\n",
    "-How an example of this looks: \n",
    "    -time = Time() \n",
    "    -time.hour = 11 \n",
    "    -time.minute = 59 \n",
    "    -time.second 30 \n",
    "    \n",
    "16.2 Pure Functions \n",
    "    -prototype and patch - a development plan used for tacling complex problems by starting with simple prototypes and incrementally dealing with complications. \n",
    "    -Pure Functions - don't modify any of the objects passed to it as arguments. \n",
    "\n",
    "16.3 Modifiers \n",
    "    - Functions that modify objects as they get parameters. \n",
    "    -increment - adds a given number of seconds to a Time object. \n",
    "    -Anything that can be done with modifiers must be done with pure functions first. \n",
    "    -Using programs as pure functions are faster to develop and less error prone \n",
    "    -Functional programming style - write pure functions whenever it is reasonable and resort to modifiers only if there is a compelling advantage. \n",
    "    \n",
    "16.4 Prototyping vs. Planning \n",
    "    -For each function, you write a prototype and then perform the basic calculation. \n",
    "    - Planned development = high-level insight into the problem can m ake the programming much easier. \n",
    "    -We can convert time objects into integers \n",
    "    -If we have the insight to treat time as base 60 numbers. \n",
    "    -Sometimes making a problem harder (more general) makes it easier (because there are fewer special cases and fewer opportunities for error.) \n",
    "\n",
    "16.5 Debugging\n",
    "   -A time obeject is well formed if the values of minute and second are between 0 and 60. \n",
    "   -Invariants - requirements that are true. \n",
    "   "
   ]
  },
  {
   "cell_type": "markdown",
   "metadata": {
    "is_question": true,
    "problem": "Exercise 16.2"
   },
   "source": [
    "### Exercise 2  \n",
    "\n",
    "Write a boolean function called `is_after` that takes two `Time` objects, `t1` and `t2`, and returns `True` if `t1` follows `t2` chronologically and `False` otherwise. Challenge: don’t use an `if` statement. "
   ]
  },
  {
   "cell_type": "code",
   "execution_count": 55,
   "metadata": {
    "collapsed": false,
    "solution": "Exercise 16.2"
   },
   "outputs": [
    {
     "name": "stdout",
     "output_type": "stream",
     "text": [
      "3600\n",
      "43380\n"
     ]
    },
    {
     "data": {
      "text/plain": [
       "False"
      ]
     },
     "execution_count": 55,
     "metadata": {},
     "output_type": "execute_result"
    }
   ],
   "source": [
    "class Time(object): \n",
    "    \"\"\"Represents the time of day. attributes: hour, minutes, seconds\n",
    "    time = Time() \n",
    "    time.hour = \n",
    "    time.minute = \n",
    "    time.second = \n",
    "    Use military time. \n",
    "    \"\"\"\n",
    "    \n",
    "    def __init__(self, hour = 0, minute = 0, second = 0): \n",
    "        self.hour = hour \n",
    "        self.minute = minute \n",
    "        self.second = second \n",
    "\n",
    "    def time_to_int(self): \n",
    "        return (self.hour * 3600)+(self.minute*60)+(self.second)\n",
    "    \n",
    "    def is_after(self, t1, t2): \n",
    "        \n",
    "        return t2.time_to_int() > t1.time_to_int()\n",
    "\n",
    "# t1 = Time(12,3,0)\n",
    "# t2 = Time(1,0,0)\n",
    "mytime = Time()\n",
    "mytime.is_after(t1, t2)"
   ]
  },
  {
   "cell_type": "markdown",
   "metadata": {},
   "source": [
    "## [Chapter 17](http://www.greenteapress.com/thinkpython/html/thinkpython018.html)\n",
    "\n",
    "In chapter 17 we finally have the tools to really put user-defined classes to work! In the exercises for this reading journal, we'll go back and add methods to your `Point` class from Chapter 15 to make it a lot easier to use.\n",
    "\n",
    "17.1 Object-oriented features \n",
    "    - object oriented programming language - provides features that support object-oriented programming \n",
    "    -Programs are made up of object and function definitions. \n",
    "    -Each object definition corresponds to some object or concept in the real world, and the functions that oeprate correspond the the ways real-world-objects interact. \n",
    "    -Time class corresponds to the way people need tim in the day. \n",
    "    -The point classes correspond to the mathematical concepts of a point and a rectangle. \n",
    "    -The rectangle class corresponds to the mathematical concepts of a point and a rectangle. \n",
    "    -Method - a function that is associated with a particular class. \n",
    "    -Methods are the same as functions, except that methods are defined inside a class definition in order to make the relationship between the class and the method explicit. \n",
    "    -The syntax for invoking a method is different for calling a function. \n",
    "\n",
    "17.2 Printing objects\n",
    "    - for class Time(object \n",
    "        -def print_time(time): \n",
    "             print %.2d%.2d%.2d (time.hour, time.minute, time.second) \n",
    "        - You can either call \n",
    "        - Time.print_time(start) \n",
    "        - start.print.time() \n",
    "        - print_time is the name of the method, is the object the method is invoked on, called the subject. \n",
    "        - Start - the assigned time. \n",
    "        -The first parameter of a method is called self \n",
    "        -The syntax for a function call, print_time(start), suggests that the function is the active agent.\n",
    "        -In object oriented programming, the objects are the active agents. (So this says print yourself.) \n",
    "\n",
    "17.3 Another Example \n",
    "    -def increment(self,seconds): \n",
    "        seconds += self.time_to_int() \n",
    "        return int_to_time(seconds) \n",
    "    -You would invoke increment: \n",
    "        -start.prime_time() \n",
    "        -end = start.increment(1337) \n",
    "        -end.print_time() \n",
    "    -The argument, 1337, 460 \n",
    "    \n",
    "17.4 A more complicated example\n",
    "    -def_is_after(self,other): \n",
    "        return self.time_to_int() > other.time_to_int() \n",
    "    -to use this method, you have to invoke it on one object and pass the other as an argument: \n",
    "    end.is_after(start) \n",
    "True \n",
    "\n",
    "17.5 The init method \n",
    "    -short for initialization \n",
    "    -gets invoked when an object is instantiated. \n",
    "    -full name is __init__\n",
    "    -init time class would look like \n",
    "        -def __init__(self, hour = 0, minute =0, second = 0) \n",
    "            -self.hour = hour \n",
    "            -self.minute = minute \n",
    "            -self.second = second \n",
    "    -Self.hour = stores the value of the parameter hour as an attribute to self. \n",
    "    -If you call time with no inputs, you get default values, if you provide one argument, it overrides hour. If you provide more than one, they override hour and minute.\n",
    "    \n",
    "17.6 The __str__ method\n",
    "    -returns a string representation of an object. \n",
    "    -When you print an object, python invokes the str method\n",
    "\n",
    "17.7 Operator Overloading\n",
    "    -by defining other special methods, you can specify the behavior of operators on user-defined types. \n",
    "    -If you define a method named __add__ for the Time class you can use the + operator for Time objects. \n",
    "    -When you apply the + operator so that it works with user-defined types is calledoperator overloading. \n",
    "17.8 Type-based dispatch \n",
    "    def __ add__ (self, other): \n",
    "        if isinstance(other, Time): \n",
    "            return self.add_time(other) \n",
    "        else: \n",
    "            return self.add_time(other) \n",
    "       -The built-in function insinstance takes a value and a class object and returns True if the value is an instance of the class. \n",
    "       -If other is a Time object, __add___ invokes add_time. \n",
    "       -type-based dispatch - because it dispatches the computation to different methods based on the type of the arguments. \n",
    "       -the special method __rad___ stands for right-side add \n",
    "       - def __ radd__(self, other):\n",
    "           -return self__add__ (other) \n",
    "17.9 Polymorphism \n",
    "    -Many of the functions we used will work for any sequence. \n",
    "    -Polymorphic - functions that can work with many types\n",
    "        -facilitate code reuse\n",
    "\n",
    "17.10 Debugging\n",
    "   - Use hasattr allows you to use a built-in function in the dictionary\n",
    "   -This function is good for debugging. \n",
    "   - def print_attributes(obj): \n",
    "      -for attr in obj__dict__: \n",
    "          print attr, getattr(obj, attr) \n",
    "   -traverses items and prints each attribute and its corresponding value. \n",
    "17.11 Interface and Implementation\n",
    "   -A goal of object-oriented design is to make software more maintainable, which means you can keep the program working when other parts of the system change, and modify the program to meet new requirements. \n",
    "   -Methods provided by this class are time_to_int, is_after, and add_time\n",
    "   -After you deploy a class, you may discover better implementations of time. \n",
    "   -Information hiding - Using methods to read and modify the state of an object. "
   ]
  },
  {
   "cell_type": "markdown",
   "metadata": {
    "is_question": true,
    "problem": "Exercise 17.2"
   },
   "source": [
    "### Exercise 2  \n",
    "\n",
    "Write an init method for the `Point` class that takes `x` and `y` as optional parameters and assigns them to the corresponding attributes. "
   ]
  },
  {
   "cell_type": "code",
   "execution_count": null,
   "metadata": {
    "collapsed": true,
    "solution": "Exercise 17.2"
   },
   "outputs": [],
   "source": [
    "class Point(object):\n",
    "    def __init__(self, x = 0, y =0)\n",
    "        self.x = x \n",
    "        self.y = y \n",
    "    "
   ]
  },
  {
   "cell_type": "markdown",
   "metadata": {
    "is_question": true,
    "problem": "Exercise 17.3"
   },
   "source": [
    "### Exercise 3  \n",
    "\n",
    "Write a str method for the `Point` class. Create a `Point` object and print it."
   ]
  },
  {
   "cell_type": "code",
   "execution_count": 61,
   "metadata": {
    "collapsed": false,
    "solution": "Exercise 17.3"
   },
   "outputs": [
    {
     "name": "stdout",
     "output_type": "stream",
     "text": [
      "2, 4\n"
     ]
    }
   ],
   "source": [
    "class Point(object):\n",
    "    def __init__(self, x = 0, y = 0):\n",
    "        self.x = x \n",
    "        self.y = y \n",
    "    def __str__(self): \n",
    "        return '%d, %d' % (self.x, self.y)\n",
    "\n",
    "p = Point(2,4)\n",
    "\n",
    "print p"
   ]
  },
  {
   "cell_type": "markdown",
   "metadata": {
    "is_question": true,
    "problem": "Exercise 17.4"
   },
   "source": [
    "### Exercise 4  \n",
    "\n",
    "Write an add method for the `Point` class. Optional: implement operator overloading so that you can use the '+' operator."
   ]
  },
  {
   "cell_type": "code",
   "execution_count": 65,
   "metadata": {
    "collapsed": false,
    "solution": "Exercise 17.4"
   },
   "outputs": [
    {
     "name": "stdout",
     "output_type": "stream",
     "text": [
      "6, 5\n"
     ]
    }
   ],
   "source": [
    "class Point(object):\n",
    "    def __init__(self, x = 0, y = 0):\n",
    "        self.x = x \n",
    "        self.y = y \n",
    "    def __str__(self): \n",
    "        return '%d, %d' % (self.x, self.y)\n",
    "    def funcy (self, d): \n",
    "        self.x = self.x + d.x\n",
    "        self.y = self.y + d.y\n",
    "\n",
    "d = Point(1,3)\n",
    "\n",
    "myfuncy = Point(5,2) \n",
    "myfuncy.funcy(d)\n",
    "print myfuncy"
   ]
  },
  {
   "cell_type": "markdown",
   "metadata": {
    "is_question": true,
    "problem": "Exercise 17.7"
   },
   "source": [
    "### Exercise 7  \n",
    "\n",
    "This exercise is a cautionary tale about one of the most common, and difficult to find, errors in Python. Write a definition for a class named `Kangaroo` with the following methods:\n",
    "\n",
    " 1. An `__init__` method that initializes an attribute named `pouch_contents` to an empty list.\n",
    " 2. A method named `put_in_pouch` that takes an object of any type and adds it to `pouch_contents`.\n",
    " 3. A `__str__` method that returns a string representation of the `Kangaroo` object and the contents of the pouch.\n",
    "\n",
    "Test your code by creating two `Kangaroo` objects, assigning them to variables named `kanga` and `roo`, and then adding `roo` to the contents of `kanga`’s pouch.\n",
    "\n",
    "Download http://thinkpython.com/code/BadKangaroo.py. It contains a solution to the previous problem with one big, nasty bug. Find and fix the bug.\n",
    "\n",
    "If you get stuck, you can download http://thinkpython.com/code/GoodKangaroo.py, which explains the problem and demonstrates a solution. "
   ]
  },
  {
   "cell_type": "code",
   "execution_count": 25,
   "metadata": {
    "collapsed": false
   },
   "outputs": [
    {
     "name": "stdout",
     "output_type": "stream",
     "text": [
      "<__main__.kangaroo object at 0x7f33ebdd3790>w pouch contents:\n",
      "   'wallet'\n",
      "   <__main__.kangaroo object at 0x7f33e87b3390>\n",
      "<__main__.kangaroo object at 0x7f33e87b3390>w pouch contents:\n"
     ]
    }
   ],
   "source": [
    "class kangaroo(object): \n",
    "    \"\"\"animal\"\"\"\n",
    "\n",
    "    #This version ensures the program generates new lists when appropriate rather than changing the same list.  \n",
    "    \n",
    "    def __init__(self, contents=None): \n",
    "        if contents == None: \n",
    "            contents = [] \n",
    "        self.pouch_contents = contents\n",
    "        \n",
    "    def __str__(self): \n",
    "        lista = [ object.__str__(self) + 'w pouch contents:']\n",
    "        for obj in self.pouch_contents: \n",
    "            s = '   ' + object.__str__(obj)\n",
    "            lista.append(s)\n",
    "        return '\\n'.join(lista) \n",
    "    \n",
    "    def put_in_pouch(self, item): \n",
    "        self.pouch_contents.append(item) \n",
    "        \n",
    "kanga = kangaroo()\n",
    "roo = kangaroo() \n",
    "kanga.put_in_pouch('wallet')\n",
    "kanga.put_in_pouch(roo)\n",
    "\n",
    "print kanga\n",
    "print roo \n",
    "\n",
    "#This version adds what needs to be added to kanga and not to roo. \n"
   ]
  },
  {
   "cell_type": "code",
   "execution_count": 21,
   "metadata": {
    "collapsed": false
   },
   "outputs": [
    {
     "name": "stdout",
     "output_type": "stream",
     "text": [
      "<__main__.kangaroo object at 0x7f33e86d3c90>w pouch contents:\n",
      "   'wallet'\n",
      "   <__main__.kangaroo object at 0x7f33e87abf10>\n",
      "<__main__.kangaroo object at 0x7f33e87abf10>w pouch contents:\n",
      "   'wallet'\n",
      "   <__main__.kangaroo object at 0x7f33e87abf10>\n"
     ]
    }
   ],
   "source": [
    "#New solution based on the kangaroo download\n",
    "#The problem with this one is that it doesn't include the case in which \n",
    "\n",
    "class kangaroo(object): \n",
    "    \"\"\"animal\"\"\"\n",
    "    \n",
    "    def __init__(self, contents=[]): #This, instead of just creating the contents, sets it initially equal to 0\n",
    "        self.pouch_contents = contents\n",
    "        \n",
    "    def __str__(self): #This code doesn't just print things, it puts them in a list, which I neglected to do before. \n",
    "        lista = [ object.__str__(self) + 'w pouch contents:']\n",
    "        for obj in self.pouch_contents: #This adds the initialized pouch_contents object to the \n",
    "            s = '   ' + object.__str__(obj)\n",
    "            lista.append(s)\n",
    "        return '\\n'.join(lista) #Combines the parts of the string \n",
    "    \n",
    "    def put_in_pouch(self, item): \n",
    "        self.pouch_contents.append(item) #Because this is a list, new values need to be appended. \n",
    "        \n",
    "kanga = kangaroo()\n",
    "roo = kangaroo() \n",
    "kanga.put_in_pouch('wallet')\n",
    "kanga.put_in_pouch(roo)\n",
    "\n",
    "print kanga \n",
    "print roo #This function's bug is that it makes roo = kanga\n"
   ]
  },
  {
   "cell_type": "code",
   "execution_count": 6,
   "metadata": {
    "collapsed": false,
    "solution": "Exercise 17.7"
   },
   "outputs": [
    {
     "ename": "TypeError",
     "evalue": "__init__() takes exactly 2 arguments (1 given)",
     "output_type": "error",
     "traceback": [
      "\u001b[1;31m---------------------------------------------------------------------------\u001b[0m",
      "\u001b[1;31mTypeError\u001b[0m                                 Traceback (most recent call last)",
      "\u001b[1;32m<ipython-input-6-19135c614472>\u001b[0m in \u001b[0;36m<module>\u001b[1;34m()\u001b[0m\n\u001b[0;32m     12\u001b[0m         \u001b[0mself\u001b[0m\u001b[1;33m.\u001b[0m\u001b[0mpouch_contents\u001b[0m \u001b[1;33m=\u001b[0m \u001b[0mself\u001b[0m\u001b[1;33m.\u001b[0m\u001b[0mkanga\u001b[0m \u001b[1;33m+\u001b[0m \u001b[0mself\u001b[0m\u001b[1;33m.\u001b[0m\u001b[0mroo\u001b[0m\u001b[1;33m\u001b[0m\u001b[0m\n\u001b[0;32m     13\u001b[0m \u001b[1;33m\u001b[0m\u001b[0m\n\u001b[1;32m---> 14\u001b[1;33m \u001b[0mkanga\u001b[0m \u001b[1;33m=\u001b[0m \u001b[0mkangaroo\u001b[0m\u001b[1;33m(\u001b[0m\u001b[1;33m)\u001b[0m\u001b[1;33m\u001b[0m\u001b[0m\n\u001b[0m\u001b[0;32m     15\u001b[0m \u001b[0mroo\u001b[0m \u001b[1;33m=\u001b[0m \u001b[0mkangaroo\u001b[0m\u001b[1;33m(\u001b[0m\u001b[1;33m)\u001b[0m\u001b[1;33m\u001b[0m\u001b[0m\n\u001b[0;32m     16\u001b[0m \u001b[0mkanga\u001b[0m\u001b[1;33m.\u001b[0m\u001b[0mput_in_pouch\u001b[0m\u001b[1;33m(\u001b[0m\u001b[1;34m'wallet'\u001b[0m\u001b[1;33m)\u001b[0m\u001b[1;33m\u001b[0m\u001b[0m\n",
      "\u001b[1;31mTypeError\u001b[0m: __init__() takes exactly 2 arguments (1 given)"
     ]
    }
   ],
   "source": [
    "#This is my first try. I looked at the answers when I got stuck to see if I could understand the syntax I should be using to make this work. \n",
    "\n",
    "class kangaroo(object):\n",
    "    def __init__(self, pouch_contents):\n",
    "        self.kanga = kanga\n",
    "        self.roo = roo \n",
    "        self.pouch_contents = pouch_contents \n",
    "        \n",
    "    def __str__(self): \n",
    "        return '%d, %d' % (self.kanga, self.roo, self.pouch_contents)\n",
    "    def put_in_pouch(self, d): \n",
    "        self.pouch_contents = self.kanga + self.roo\n"
   ]
  },
  {
   "cell_type": "markdown",
   "metadata": {
    "is_question": true,
    "problem": "Time spent"
   },
   "source": [
    "## Quick poll\n",
    "About how long did you spend working on this Reading Journal?"
   ]
  },
  {
   "cell_type": "markdown",
   "metadata": {
    "poll_response": true,
    "solution": "Time spent"
   },
   "source": [
    "This took me from 2.5 to 3 hours.  "
   ]
  },
  {
   "cell_type": "markdown",
   "metadata": {
    "is_question": true,
    "problem": "Feedback"
   },
   "source": [
    "## Reading Journal feedback\n",
    "\n",
    "Have any comments on this Reading Journal? Feel free to leave them below and we'll read them when you submit your journal entry. This could include suggestions to improve the exercises, topics you'd like to see covered in class next time, or other feedback.\n",
    "\n",
    "If you have Python questions or run into problems while completing the reading, you should post them to Piazza instead so you can get a quick response before your journal is submitted."
   ]
  },
  {
   "cell_type": "markdown",
   "metadata": {
    "feedback_response": true,
    "solution": "Feedback"
   },
   "source": [
    "Being notified when reading journals are posted would make my life easier."
   ]
  }
 ],
 "metadata": {
  "celltoolbar": "Edit Metadata",
  "kernelspec": {
   "display_name": "Python 2",
   "language": "python",
   "name": "python2"
  },
  "language_info": {
   "codemirror_mode": {
    "name": "ipython",
    "version": 2
   },
   "file_extension": ".py",
   "mimetype": "text/x-python",
   "name": "python",
   "nbconvert_exporter": "python",
   "pygments_lexer": "ipython2",
   "version": "2.7.6"
  }
 },
 "nbformat": 4,
 "nbformat_minor": 0
}
