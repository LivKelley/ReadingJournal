{
 "cells": [
  {
   "cell_type": "markdown",
   "metadata": {},
   "source": [
    "# Day 2 Reading Journal\n",
    "\n",
    "This journal includes several required exercises, but it is meant to encourage active reading more generally.  You should use the journal to take detailed notes, catalog questions, and explore the content from Think Python deeply.\n",
    "\n",
    "Reading: Think Python Chapter 6.1-6.4, 7\n",
    "\n",
    "**Due: Thursday, January 28 at 12 noon**\n",
    "\n"
   ]
  },
  {
   "cell_type": "markdown",
   "metadata": {},
   "source": [
    "## [Chapter 6.1-6.4](http://www.greenteapress.com/thinkpython/html/thinkpython007.html)\n",
    "\n",
    "Note: the exercise numbers below match up with the reading for ease of cross referencing."
   ]
  },
  {
   "cell_type": "markdown",
   "metadata": {},
   "source": [
    "**Quick check:** What is a _fruitful function_?\n",
    "\n",
    "A function that yields a result. \n",
    "\n",
    "6.1 Notes \n",
    "\n",
    "   -Some built in functions (like e - math.exp(1.0)) produce results \n",
    "   -Functions so far have been void, which means they produce \"None\" as a result.\n",
    "   -area - returns the area of a circle with a given radius\n",
    "   -In fruitful functions return statements include expressions. (\"Return immediately from this function and use the following expression as a return value.\" \n",
    "   -Temporary variables (like temp) often make debugging easier.\n",
    "   -Sometimes having multiple return statements is useful. \n",
    "   -Code that appears after a return statement - \"dead code.\" \n",
    "   -Python's \"abs\" computes absolute values.\n",
    "   \n",
    "6.2 Incremental Development \n",
    "   -Avoid long debugging time by using incremental development. \n",
    "   -Once we have confirmed that a function is syntactically correct, we can add code to the body. \n",
    "   -Scaffolding - code that is there because it helps build the program, but is not a final product. \n",
    "   -Add a line or two at a time as a beginner. \n",
    "   -Key Aspects \n",
    "   -Start with a working program and make small incremental changes. \n",
    "   -Use temporary variables to hold intermediate values so you can display and check them. \n",
    "   -Remove some scaffolding or consolodate statements. \n",
    "   \n",
    "6.3 Composition\n",
    "   -The ability to call one function within another is composition. \n",
    "\n",
    "6.4 Boolean Functions \n",
    "   -Functions can return booleans, which is often convenient for hiding complicated tests inside functions. \n",
    "   -Boolean function names sound like yes/no questions. \n",
    "   "
   ]
  },
  {
   "cell_type": "markdown",
   "metadata": {},
   "source": [
    " "
   ]
  },
  {
   "cell_type": "markdown",
   "metadata": {},
   "source": [
    "### Exercise 1  \n",
    "Write a `compare` function that returns `1` if `x > y`, `0` if `x == y`, and `-1` if `x < y`."
   ]
  },
  {
   "cell_type": "code",
   "execution_count": 22,
   "metadata": {
    "collapsed": false
   },
   "outputs": [
    {
     "data": {
      "text/plain": [
       "1"
      ]
     },
     "execution_count": 22,
     "metadata": {},
     "output_type": "execute_result"
    }
   ],
   "source": [
    "\n",
    "def give_value(x,y): \n",
    "    if x > y:\n",
    "        return 1\n",
    "    else:\n",
    "        if x == y: \n",
    "            return 0\n",
    "        else:\n",
    "            return -1\n",
    "\n",
    "give_value(3,1)\n",
    "\n",
    "    "
   ]
  },
  {
   "cell_type": "markdown",
   "metadata": {},
   "source": [
    "**Quick check:** Modify the `absolute_value` function so that it returns the correct result for all integer inputs."
   ]
  },
  {
   "cell_type": "code",
   "execution_count": 28,
   "metadata": {
    "collapsed": false
   },
   "outputs": [
    {
     "data": {
      "text/plain": [
       "10"
      ]
     },
     "execution_count": 28,
     "metadata": {},
     "output_type": "execute_result"
    }
   ],
   "source": [
    "def absolute_value(x):\n",
    "    if x < 0:\n",
    "        return -x\n",
    "    if x > 0:\n",
    "        return x\n",
    "    if x == 0: \n",
    "        return x\n",
    "\n",
    "absolute_value(-10)\n"
   ]
  },
  {
   "cell_type": "markdown",
   "metadata": {},
   "source": [
    "### Exercise 2  \n",
    "Use incremental development to write a function called `hypotenuse` that returns the length of the hypotenuse of a right triangle given the lengths of the two legs as arguments. Record each stage of the development process as you go, using as many cells as you need."
   ]
  },
  {
   "cell_type": "code",
   "execution_count": 34,
   "metadata": {
    "collapsed": false
   },
   "outputs": [
    {
     "ename": "SyntaxError",
     "evalue": "invalid syntax (<ipython-input-34-aa8a6e72f34d>, line 5)",
     "output_type": "error",
     "traceback": [
      "\u001b[1;36m  File \u001b[1;32m\"<ipython-input-34-aa8a6e72f34d>\"\u001b[1;36m, line \u001b[1;32m5\u001b[0m\n\u001b[1;33m    a = raw_input('Give the value of triangle leg 1':)\u001b[0m\n\u001b[1;37m                                                    ^\u001b[0m\n\u001b[1;31mSyntaxError\u001b[0m\u001b[1;31m:\u001b[0m invalid syntax\n"
     ]
    }
   ],
   "source": [
    "#This function will document incremental development as I develop a function that returns the hypotenuse of a right triangle given two inputs.\n",
    "import math \n",
    "\n",
    "def hyp_func ():\n",
    "    a = raw_input('Give the value of triangle leg 1':)\n",
    "    b = raw_input('Give the value of triangle leg 2':)\n",
    "    \n",
    "    # Now that I've set up raw_inputs I'll try to create the function. \n",
    "    \n",
    "    hyp = int(a)**2 + int(b)**2 #This should convert the inputs into integers and place them in the pythagorean theorem. \n",
    "    c = math.sqrt(hyp) #Using the math packet's sqrt function.\n",
    "    return(c)\n",
    "\n",
    "hyp_func()\n"
   ]
  },
  {
   "cell_type": "code",
   "execution_count": 35,
   "metadata": {
    "collapsed": false
   },
   "outputs": [
    {
     "name": "stdout",
     "output_type": "stream",
     "text": [
      "Give the value of triangle leg 1  4\n",
      "Give the value of triangle leg 2  3\n"
     ]
    },
    {
     "data": {
      "text/plain": [
       "5.0"
      ]
     },
     "execution_count": 35,
     "metadata": {},
     "output_type": "execute_result"
    }
   ],
   "source": [
    "#This function will document incremental development as I develop a function that returns the hypotenuse of a right triangle given two inputs.\n",
    "import math \n",
    "\n",
    "def hyp_func ():\n",
    "    a = raw_input('Give the value of triangle leg 1  ')\n",
    "    b = raw_input('Give the value of triangle leg 2  ')\n",
    "    \n",
    "    # Now that I've set up raw_inputs I'll try to create the function. \n",
    "    \n",
    "    hyp = int(a)**2 + int(b)**2 #This should convert the inputs into integers and place them in the pythagorean theorem. \n",
    "    c = math.sqrt(hyp) #Using the math packet's sqrt function.\n",
    "    return(c)\n",
    "\n",
    "hyp_func()\n",
    "\n",
    "#Note: I had to put spaces at the end of the input statements so things don't get confusing.\n",
    "#Note: I had to remove the colons at the ends of the prompts as they inhibit its function. "
   ]
  },
  {
   "cell_type": "markdown",
   "metadata": {},
   "source": [
    "### Exercise 3  \n",
    "Write a function `is_between(x, y, z)` that returns `True` if `x ≤ y ≤ z` or `False` otherwise."
   ]
  },
  {
   "cell_type": "code",
   "execution_count": 39,
   "metadata": {
    "collapsed": false
   },
   "outputs": [
    {
     "data": {
      "text/plain": [
       "False"
      ]
     },
     "execution_count": 39,
     "metadata": {},
     "output_type": "execute_result"
    }
   ],
   "source": [
    "def is_between (x, y, z):\n",
    "    if x == y == z: \n",
    "        return True \n",
    "    else: \n",
    "        if x < y < z: \n",
    "            return True \n",
    "        else: \n",
    "            if x <= y <= z: \n",
    "                return True\n",
    "            else: \n",
    "                return False \n",
    "            \n",
    "is_between( 2, 1, 1)\n",
    "        \n",
    "    \n",
    "    "
   ]
  },
  {
   "cell_type": "markdown",
   "metadata": {},
   "source": [
    "## [Chapter 7](http://www.greenteapress.com/thinkpython/html/thinkpython008.html)\n",
    "\n"
   ]
  },
  {
   "cell_type": "markdown",
   "metadata": {},
   "source": [
    "**Quick check:** How do you test for equality in Python?\n",
    "You use a double equality symbol (==). \n",
    "\n",
    "7.1 Multiple Assignment \n",
    "  -The comma at the end of the first print statement suppresses the new line. \n",
    "  -It's important to differentiate between assignment and equality.\n",
    "  -7 = a is illegal in python\n",
    "  -later assignment statements override earlier ones. \n",
    "  \n",
    "7.2 Updating variables \n",
    "   -Update - when the new value depends on the old. \n",
    "   -x = x+1 (add 1 to the last x value) \n",
    "   -You will get an error if you try to update a nonexistant variable. \n",
    "   -You have to initialize it first, usually through an assignment statement. \n",
    "   -Increment - updating a variable by 1. \n",
    "   -Decrement - updating a variable by -1. \n",
    "\n",
    "7.3 The While Statement \n",
    "   -Sets a condition\n",
    "   -Flow of execution for a \"while\" function \n",
    "   -1. Evaluate the condition, yielding True or False. \n",
    "   -2. If the condition is false, exit the while statement and continue execution at the next statement. \n",
    "   -3. If the condition is true, execute the body and then go back to step 1. \n",
    "   -This is called a loop, because the third statement returns to the top. \n",
    "   -The condition should become false, terminating the loop. \n",
    "   -If it never becomes false, it's not an infinite loop. \n",
    "\n",
    "7.4 break\n",
    "   -If you need to end a loop halfway through the body, you use a break statement to jump out of the loop. \n",
    "\n",
    "7.5 Square roots\n",
    "   -One way of computing square roots is Newton's method. (Formula on page 66) \n",
    "   -In general it is dangerous to test float equality. \n",
    "   -Floating-point values are only approximately right:most rational numbers, like 1/3, and irrational numbers, like sqrt(2), can't be represented exactly with float. \n",
    "   -It is safer to use built-in \"abs\"\n",
    "   \n",
    "\n",
    "7.6 Algorithms \n",
    "   -Algorithms are mechanical processes for solving a category of problems (computing with square roots, for example.) \n",
    "   -Algoritnms start with non-algorithms. \n",
    "   -Multiplication tricks are algorithms. \n",
    "   -Algorithms don't require intelligence to carry out. \n",
    "\n",
    "7.7 Debugging\n",
    "   -Bigger programs means more debugging. \n",
    "   -It is sometimes better to look at the middle of a problem or add in a print statement. \n",
    "   -It's not always clear what the middle of the problem is. \n"
   ]
  },
  {
   "cell_type": "markdown",
   "metadata": {},
   "source": [
    " "
   ]
  },
  {
   "cell_type": "markdown",
   "metadata": {},
   "source": [
    "**Challenge:** Prove/disprove the Collatz conjecture :)\n"
   ]
  },
  {
   "cell_type": "code",
   "execution_count": 9,
   "metadata": {
    "collapsed": false
   },
   "outputs": [
    {
     "name": "stdout",
     "output_type": "stream",
     "text": [
      "13.0\n",
      "40.0\n",
      "20.0\n",
      "10.0\n",
      "5.0\n",
      "16.0\n",
      "8.0\n",
      "4.0\n",
      "2.0\n",
      "1.0\n"
     ]
    }
   ],
   "source": [
    "def conjec (n): \n",
    "    n = round(n)\n",
    "    while n != 1:\n",
    "        print n \n",
    "        if n%2 == 0: #n is even \n",
    "            n = n/2\n",
    "        else: \n",
    "            n = n*3+1\n",
    "    print n \n",
    "\n",
    "conjec(13)"
   ]
  },
  {
   "cell_type": "markdown",
   "metadata": {},
   "source": [
    "### Exercise 2  \n",
    "Encapsulate the loop from Section 7.5 in a function called `square_root` that takes `a` as a parameter, chooses a reasonable value of `x`, and returns an estimate of the square root of `a`."
   ]
  },
  {
   "cell_type": "code",
   "execution_count": 34,
   "metadata": {
    "collapsed": false
   },
   "outputs": [
    {
     "data": {
      "text/plain": [
       "3.25"
      ]
     },
     "execution_count": 34,
     "metadata": {},
     "output_type": "execute_result"
    }
   ],
   "source": [
    "def rooting (a):\n",
    "    x = float(.25*a)\n",
    "    y = ((x) + a/x)/2.\n",
    "    return float(y)\n",
    "\n",
    "rooting(10)"
   ]
  },
  {
   "cell_type": "markdown",
   "metadata": {},
   "source": [
    "### Exercise 3  \n",
    "To test the square root algorithm you developed in Exercise 2, you could compare it with Python's `math.sqrt` function. Write a function named `test_square_root` that prints a table like this:\n",
    "\n",
    "```python\n",
    "1.0 1.0           1.0           0.0\n",
    "2.0 1.41421356237 1.41421356237 2.22044604925e-16\n",
    "3.0 1.73205080757 1.73205080757 0.0\n",
    "4.0 2.0           2.0           0.0\n",
    "5.0 2.2360679775  2.2360679775  0.0\n",
    "6.0 2.44948974278 2.44948974278 0.0\n",
    "7.0 2.64575131106 2.64575131106 0.0\n",
    "8.0 2.82842712475 2.82842712475 4.4408920985e-16\n",
    "9.0 3.0           3.0           0.0\n",
    "```\n",
    "\n",
    "The first column is a number, `a`; the second column is the square root of a computed with the function from Section 7.5; the third column is the square root computed by `math.sqrt`; the fourth column is the absolute value of the difference between the two estimates."
   ]
  },
  {
   "cell_type": "code",
   "execution_count": 45,
   "metadata": {
    "collapsed": false
   },
   "outputs": [
    {
     "name": "stdout",
     "output_type": "stream",
     "text": [
      "1      | 2.125       | 1.0              | 1.125\n",
      "------------------------------------------------------------\n",
      "2      | 2.25        | 1.41421356237    | 0.835786437627\n",
      "------------------------------------------------------------\n",
      "3      | 2.375       | 1.73205080757    | 0.642949192431\n",
      "------------------------------------------------------------\n",
      "4      | 2.5         | 2.0              | 0.5\n",
      "------------------------------------------------------------\n",
      "5      | 2.625       | 2.2360679775     | 0.3889320225\n",
      "------------------------------------------------------------\n",
      "6      | 2.75        | 2.44948974278    | 0.300510257217\n",
      "------------------------------------------------------------\n",
      "7      | 2.875       | 2.64575131106    | 0.229248688935\n",
      "------------------------------------------------------------\n",
      "8      | 3.0         | 2.82842712475    | 0.171572875254\n",
      "------------------------------------------------------------\n",
      "9      | 3.125       | 3.0              | 0.125\n",
      "------------------------------------------------------------\n",
      "10     | 3.25        | 3.16227766017    | 0.0877223398316\n",
      "------------------------------------------------------------\n"
     ]
    }
   ],
   "source": [
    "import math\n",
    "def test_square_root():\n",
    "    for a in range(1, 11):\n",
    "        print  a, \" \"* (5 -(len(str(a)))), \"|\", rooting(a), \" \"*(10 -(len(str(rooting(a))))), \"|\", math.sqrt(a), \" \"*(15 -(len(str(math.sqrt(a))))),\"|\", abs(math.sqrt(a) - rooting(a))\n",
    "        print '--'*30\n",
    "test_square_root()\n",
    "    "
   ]
  },
  {
   "cell_type": "markdown",
   "metadata": {},
   "source": [
    "### Challenge: Exercise 5  (optional)\n",
    "The mathematician Srinivasa Ramanujan found an infinite series that can be used to generate a numerical approximation of\n",
    "$\\frac{1}{\\pi}$:\n",
    "\n",
    "$$\\frac{1}{\\pi} = \\frac{2 \\sqrt{2}}{9801} \\sum_{k=0}^{\\infty} \\frac{(4k)! (1103+26390k)}{(k!)^4 396^{4k}}$$\n",
    " \n",
    "Write a function called `estimate_pi` that uses this formula to compute and return an estimate of $\\pi$. It should use a `while` loop to compute terms of the summation until the last term is smaller than `1e-15` (which is Python notation for $10^{−15}$). You can check the result by comparing it to `math.pi`.\n",
    "\n",
    "[Possible solution](http://thinkpython.com/code/pi.py) (give the exercise a try before viewing the solution)"
   ]
  },
  {
   "cell_type": "code",
   "execution_count": 81,
   "metadata": {
    "collapsed": false
   },
   "outputs": [
    {
     "data": {
      "text/plain": [
       "3.141592653589793"
      ]
     },
     "execution_count": 81,
     "metadata": {},
     "output_type": "execute_result"
    }
   ],
   "source": [
    "import math \n",
    "def estimate_pi():\n",
    "    first_part = ((2.*math.sqrt(2.))/9801.) \n",
    "    theSum = 0\n",
    "    for k in range (0,10): \n",
    "        u = first_part*(math.factorial(4.*k)*(1103.+26390.*k))/((math.factorial(k)**4.)*(396.**(4.*k)))\n",
    "        theSum = theSum+u\n",
    "    return theSum**-1\n",
    "                                                   \n",
    "estimate_pi()\n",
    "                                            \n",
    "        "
   ]
  },
  {
   "cell_type": "markdown",
   "metadata": {},
   "source": [
    "## Reading Journal feedback\n",
    "\n",
    "Have any comments on this Reading Journal? Feel free to leave them below and we'll read them when you submit your journal entry. This could include suggestions to improve the exercises, topics you'd like to see covered in class next time, or other feedback.\n",
    "\n",
    "If you have Python questions or run into problems while completing the reading, you should post them to Piazza instead so you can get a quick response before your journal is submitted."
   ]
  },
  {
   "cell_type": "code",
   "execution_count": 53,
   "metadata": {
    "collapsed": false
   },
   "outputs": [
    {
     "ename": "SyntaxError",
     "evalue": "invalid syntax (<ipython-input-53-3e2a7c72094b>, line 1)",
     "output_type": "error",
     "traceback": [
      "\u001b[1;36m  File \u001b[1;32m\"<ipython-input-53-3e2a7c72094b>\"\u001b[1;36m, line \u001b[1;32m1\u001b[0m\n\u001b[1;33m    It was a little confusing what we were intended to do with Exercise 3.\u001b[0m\n\u001b[1;37m         ^\u001b[0m\n\u001b[1;31mSyntaxError\u001b[0m\u001b[1;31m:\u001b[0m invalid syntax\n"
     ]
    }
   ],
   "source": [
    "It was a little confusing what we were intended to do with Exercise 3."
   ]
  },
  {
   "cell_type": "markdown",
   "metadata": {},
   "source": [
    " "
   ]
  }
 ],
 "metadata": {
  "kernelspec": {
   "display_name": "Python 2",
   "language": "python",
   "name": "python2"
  },
  "language_info": {
   "codemirror_mode": {
    "name": "ipython",
    "version": 2
   },
   "file_extension": ".py",
   "mimetype": "text/x-python",
   "name": "python",
   "nbconvert_exporter": "python",
   "pygments_lexer": "ipython2",
   "version": "2.7.6"
  }
 },
 "nbformat": 4,
 "nbformat_minor": 0
}
