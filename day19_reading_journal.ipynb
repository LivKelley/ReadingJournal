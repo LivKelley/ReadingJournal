{
 "cells": [
  {
   "cell_type": "markdown",
   "metadata": {},
   "source": [
    "# Day 19 Reading Journal\n",
    "\n",
    "This journal includes several required exercises, but it is meant to encourage active reading more generally.  You should use the journal to take detailed notes, catalog questions, and explore the content from Think Python deeply.\n",
    "\n",
    "Reading: Think Python **2** Chapter 19\n",
    "\n",
    "**Due: Thursday, April 7 at 12 noon**\n"
   ]
  },
  {
   "cell_type": "markdown",
   "metadata": {},
   "source": [
    "## [Chapter 19](http://greenteapress.com/thinkpython2/html/thinkpython2020.html)\n",
    "\n",
    "This reading is \"the goodies\" - all the cool Python features that aren't strictly necessary but can make your code more concise, readable, and/or efficient.\n",
    "\n",
    "**Note:** This chapter is taken from the Think Python second edition, which is written for Python 3. There are [several differences](https://blog.appdynamics.com/devops/the-key-differences-between-python-2-and-python-3/) between Python 2 and 3, but the main one that comes up in this chapter is that '''print''' is a normal function (with parentheses) in Python 3 instead of a special statement. The rest of the concepts you read about in this chapter are also available in Python 2.7.\n",
    "\n",
    "You can read any of the sections you like, but we particularly recommend sections 2, 5, 9.\n",
    "\n",
    "- 19.1 Conditional expressions \n",
    "- To avoid stopping conditional programs we generate NaN (not a number) \n",
    "- Recursive functions can be rewritten using conditional expressions \n",
    "- Ex. y = math.log(x) if x > 0 else float('nan') \n",
    "\n",
    "- 19.2 List Comprehensions\n",
    "- Using a list of strings, maps, and string methods to write concise code is list comprehension. \n",
    "- The bracket operators indicate that we are constructing a new list. \n",
    "- The expression in the brackets specifies the elements of a list. \n",
    "- List comprehension can be used for\n",
    "\n",
    "- 19.3 Generator Expressions \n",
    "- Are similar to list comprehensions, but with parentheses instead of square brackets.\n",
    "- Ex. g == (x**2 for x in range(5)) ** \n",
    "- The generator object keeps trackf where it is in the list. \n",
    "\n",
    "- 19.4 any and all \n",
    "- Python provides a built-in function (any) that takes a sequence of buoolean values and returns True if any of the values are True. \n",
    "- any(letter == 't' for letter in 'monty') \n",
    "\n",
    "- 19.5 Sets \n",
    "- Sets behave like a collection of dictionary keys with no values. \n",
    "- Some exercises can be done concisely and efficiently with sets. \n",
    "- An element can only appear in a set once. \n",
    "\n",
    "- 19.6 Counters \n",
    "- Counters keep track of how many times something appears.\n",
    "- A counter is defined in a standard module called collections, so it must be imported. You can intitialize a Counter with a string, list or anything else. \n",
    "\n",
    "- 19.7 defaultdict\n",
    "- The collections prpovides a defaultdict, like a dictionary, except if you access a key that doesn't exist, it can generate a new value on the fly. \n",
    "- Factory - The built-in functions that create lists, sets, and other types can be used as factory. \n",
    "- You can use simpler code using defaultdict to make adictionary.\n",
    "\n",
    "- 19.8 Named tuples \n",
    "- Provde a quick way to define simple classes. \n",
    "- The trouble is simple classes don't always stay simple. \n",
    "\n",
    "- 19.9 Gathering Keyword Args \n",
    "- To gather keyword arguments you can use the ** operator (**) \n",
    "- The function to gather tuples \n",
    "- def printall(*args): \n",
    "    - print args \n",
    "  \n",
    "* - Without the scatter operator the function would treat d as a single positional argument. \n",
    "- Create and pass dictionaries with functions with large numbers of parameters."
   ]
  },
  {
   "cell_type": "markdown",
   "metadata": {
    "is_question": true,
    "problem": "Exercise 19.1"
   },
   "source": [
    "### Exercise 1  \n",
    "\n",
    "Rewrite the following functions using list comprehensions."
   ]
  },
  {
   "cell_type": "code",
   "execution_count": 18,
   "metadata": {
    "collapsed": false,
    "solution": "Exercise 19.1"
   },
   "outputs": [
    {
     "data": {
      "text/plain": [
       "TestResults(failed=0, attempted=5)"
      ]
     },
     "execution_count": 18,
     "metadata": {},
     "output_type": "execute_result"
    }
   ],
   "source": [
    "def square(seq):\n",
    "    \"\"\"\n",
    "    Return a new list containing all the elements of 'seq'uence squared.\n",
    "    \n",
    "    >>> square([1, 2, 3])\n",
    "    [1, 4, 9]\n",
    "    >>> square([0, -5, 2.5])\n",
    "    [0, 25, 6.25]\n",
    "    >>> square([8, \"hello\", 10])\n",
    "    Traceback (most recent call last):\n",
    "      ...\n",
    "    TypeError: unsupported operand type(s) for ** or pow(): 'str' and 'int'\n",
    "    \"\"\"\n",
    "    result = []\n",
    "    for item in seq:\n",
    "        squared_value = item **2\n",
    "        result.append(squared_value)\n",
    "    return result\n",
    "\n",
    "def evens(seq):\n",
    "    \"\"\"\n",
    "    Return a new list containing only the elements of 'seq'uence that are even.\n",
    "    \n",
    "    >>> evens([1, 2, 3, 4])\n",
    "    [2, 4]\n",
    "    >>> evens(square(range(5)))\n",
    "    [0, 4, 16]\n",
    "    \"\"\"\n",
    "    result = []\n",
    "    for item in seq:\n",
    "        if item % 2 == 0:\n",
    "            result.append(item)\n",
    "    return result\n",
    "\n",
    "\n",
    "import doctest\n",
    "doctest.testmod()\n",
    "        "
   ]
  },
  {
   "cell_type": "code",
   "execution_count": 3,
   "metadata": {
    "collapsed": false
   },
   "outputs": [
    {
     "data": {
      "text/plain": [
       "TestResults(failed=0, attempted=5)"
      ]
     },
     "execution_count": 3,
     "metadata": {},
     "output_type": "execute_result"
    }
   ],
   "source": [
    "def square(seq): \n",
    "    \"\"\"\n",
    "    Return a new list containing all the elements of 'seq'uence squared.\n",
    "    \n",
    "    >>> square([1, 2, 3])\n",
    "    [1, 4, 9]\n",
    "    >>> square([0, -5, 2.5])\n",
    "    [0, 25, 6.25]\n",
    "    >>> square([8, \"hello\", 10])\n",
    "    Traceback (most recent call last):\n",
    "      ...\n",
    "    TypeError: unsupported operand type(s) for ** or pow(): 'str' and 'int'\n",
    "    \"\"\"\n",
    "    return [i**2 for i in seq]\n",
    "    \n",
    "def evens(seq):\n",
    "    \"\"\"\n",
    "    Return a new list containing only the elements of 'seq'uence that are even.\n",
    "    \n",
    "    >>> evens([1, 2, 3, 4])\n",
    "    [2, 4]\n",
    "    >>> evens(square(range(5)))\n",
    "    [0, 4, 16]\n",
    "    \"\"\"\n",
    "    return [i for i in seq if i%2 == 0] \n",
    "\n",
    "import doctest\n",
    "doctest.testmod()"
   ]
  },
  {
   "cell_type": "markdown",
   "metadata": {},
   "source": [
    "## [Exceptions](https://docs.python.org/2/tutorial/errors.html)\n",
    "\n",
    "Read about Exceptions in Python and how to handle them (through section 8.4).\n",
    "\n",
    "Advanced (optional): Check out [context managers](https://docs.python.org/2/reference/datamodel.html#context-managers) and the ['''with''' statement](https://www.python.org/dev/peps/pep-0343/)."
   ]
  },
  {
   "cell_type": "markdown",
   "metadata": {
    "is_question": true,
    "problem": "Exercise 19.2"
   },
   "source": [
    "### Exercise 2 \n",
    "\n",
    "Complete the following function using an exception handler. How else might you implement it?"
   ]
  },
  {
   "cell_type": "code",
   "execution_count": 14,
   "metadata": {
    "collapsed": false,
    "solution": "Exercise 19.2"
   },
   "outputs": [
    {
     "name": "stdout",
     "output_type": "stream",
     "text": [
      "**********************************************************************\n",
      "File \"__main__\", line 9, in NoName\n",
      "Failed example:\n",
      "    formal_greeting(\"Jasper\", names)\n",
      "Exception raised:\n",
      "    Traceback (most recent call last):\n",
      "      File \"/usr/lib/python2.7/doctest.py\", line 1315, in __run\n",
      "        compileflags, 1) in test.globs\n",
      "      File \"<doctest NoName[1]>\", line 1, in <module>\n",
      "        formal_greeting(\"Jasper\", names)\n",
      "      File \"<ipython-input-14-92ac7ff0ef47>\", line 12, in formal_greeting\n",
      "        print \"Hello, Professor {}!\".format(name_dict[first_name])\n",
      "    KeyError: 'Jasper'\n"
     ]
    }
   ],
   "source": [
    "names = {\"Paul\": \"Ruvolo\", \"Oliver\": \"Steele\", \"Ben\": \"Hill\"}\n",
    "\n",
    "def formal_greeting(first_name, name_dict):\n",
    "    \"\"\"\n",
    "    Greet SoftDes professors by last name, and strangers with some skepticism.\n",
    "    \n",
    "    >>> formal_greeting(\"Oliver\", names)\n",
    "    Hello, Professor Steele!\n",
    "    >>> formal_greeting(\"Jasper\", names)\n",
    "    Howdy, stranger!\n",
    "    \"\"\"\n",
    "    print \"Hello, Professor {}!\".format(name_dict[first_name])\n",
    "    \n",
    "\n",
    "doctest.run_docstring_examples(formal_greeting, globals())    "
   ]
  },
  {
   "cell_type": "code",
   "execution_count": 15,
   "metadata": {
    "collapsed": false
   },
   "outputs": [],
   "source": [
    "names = {\"Paul\": \"Ruvolo\", \"Oliver\": \"Steele\", \"Ben\": \"Hill\"}\n",
    "\n",
    "def formal_greeting(first_name, name_dict):\n",
    "    \"\"\"\n",
    "    Greet SoftDes professors by last name, and strangers with some skepticism.\n",
    "    \n",
    "    >>> formal_greeting(\"Oliver\", names)\n",
    "    Hello, Professor Steele!\n",
    "    >>> formal_greeting(\"Jasper\", names)\n",
    "    Howdy, stranger!\n",
    "    \"\"\"\n",
    "    try: \n",
    "        print \"Hello, Professor {}!\".format(name_dict[first_name])\n",
    "    except KeyError: \n",
    "        print \"Howdy, stranger!\"\n",
    "    \n",
    "\n",
    "\n",
    "doctest.run_docstring_examples(formal_greeting, globals()) "
   ]
  },
  {
   "cell_type": "markdown",
   "metadata": {
    "is_poll": true,
    "is_question": true,
    "problem": "Time spent"
   },
   "source": [
    "## Quick poll\n",
    "About how long did you spend working on this Reading Journal?"
   ]
  },
  {
   "cell_type": "markdown",
   "metadata": {
    "poll_response": true,
    "solution": "Time spent"
   },
   "source": [
    "It took me 1 hour.  "
   ]
  },
  {
   "cell_type": "markdown",
   "metadata": {
    "is_question": true,
    "problem": "Feedback"
   },
   "source": [
    "## Reading Journal feedback\n",
    "\n",
    "Have any comments on this Reading Journal? Feel free to leave them below and we'll read them when you submit your journal entry. This could include suggestions to improve the exercises, topics you'd like to see covered in class next time, or other feedback.\n",
    "\n",
    "If you have Python questions or run into problems while completing the reading, you should post them to Piazza instead so you can get a quick response before your journal is submitted."
   ]
  },
  {
   "cell_type": "markdown",
   "metadata": {
    "feedback_response": true,
    "solution": "Feedback"
   },
   "source": [
    " This length is nice given that we are working on a project."
   ]
  }
 ],
 "metadata": {
  "celltoolbar": "Edit Metadata",
  "kernelspec": {
   "display_name": "Python 2",
   "language": "python",
   "name": "python2"
  },
  "language_info": {
   "codemirror_mode": {
    "name": "ipython",
    "version": 2
   },
   "file_extension": ".py",
   "mimetype": "text/x-python",
   "name": "python",
   "nbconvert_exporter": "python",
   "pygments_lexer": "ipython2",
   "version": "2.7.6"
  }
 },
 "nbformat": 4,
 "nbformat_minor": 0
}
